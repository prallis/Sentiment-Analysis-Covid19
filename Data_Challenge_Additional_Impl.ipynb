{
  "nbformat": 4,
  "nbformat_minor": 0,
  "metadata": {
    "colab": {
      "name": "Data Challenge Final.ipynb",
      "provenance": [],
      "collapsed_sections": []
    },
    "kernelspec": {
      "name": "python3",
      "display_name": "Python 3"
    },
    "widgets": {
      "application/vnd.jupyter.widget-state+json": {
        "cce397f24bbc4d27ac5af790ac00370e": {
          "model_module": "@jupyter-widgets/controls",
          "model_name": "HBoxModel",
          "state": {
            "_view_name": "HBoxView",
            "_dom_classes": [],
            "_model_name": "HBoxModel",
            "_view_module": "@jupyter-widgets/controls",
            "_model_module_version": "1.5.0",
            "_view_count": null,
            "_view_module_version": "1.5.0",
            "box_style": "",
            "layout": "IPY_MODEL_51239eb4b76a49608371ed71c0eb6664",
            "_model_module": "@jupyter-widgets/controls",
            "children": [
              "IPY_MODEL_b865922b70844b029d53888102e3908a",
              "IPY_MODEL_c18f65a324204a96ae2bc0364012c163"
            ]
          }
        },
        "51239eb4b76a49608371ed71c0eb6664": {
          "model_module": "@jupyter-widgets/base",
          "model_name": "LayoutModel",
          "state": {
            "_view_name": "LayoutView",
            "grid_template_rows": null,
            "right": null,
            "justify_content": null,
            "_view_module": "@jupyter-widgets/base",
            "overflow": null,
            "_model_module_version": "1.2.0",
            "_view_count": null,
            "flex_flow": null,
            "width": null,
            "min_width": null,
            "border": null,
            "align_items": null,
            "bottom": null,
            "_model_module": "@jupyter-widgets/base",
            "top": null,
            "grid_column": null,
            "overflow_y": null,
            "overflow_x": null,
            "grid_auto_flow": null,
            "grid_area": null,
            "grid_template_columns": null,
            "flex": null,
            "_model_name": "LayoutModel",
            "justify_items": null,
            "grid_row": null,
            "max_height": null,
            "align_content": null,
            "visibility": null,
            "align_self": null,
            "height": null,
            "min_height": null,
            "padding": null,
            "grid_auto_rows": null,
            "grid_gap": null,
            "max_width": null,
            "order": null,
            "_view_module_version": "1.2.0",
            "grid_template_areas": null,
            "object_position": null,
            "object_fit": null,
            "grid_auto_columns": null,
            "margin": null,
            "display": null,
            "left": null
          }
        },
        "b865922b70844b029d53888102e3908a": {
          "model_module": "@jupyter-widgets/controls",
          "model_name": "FloatProgressModel",
          "state": {
            "_view_name": "ProgressView",
            "style": "IPY_MODEL_3306d4fe1d924f2695fe171988dd5253",
            "_dom_classes": [],
            "description": "Training:  24%",
            "_model_name": "FloatProgressModel",
            "bar_style": "danger",
            "max": 50,
            "_view_module": "@jupyter-widgets/controls",
            "_model_module_version": "1.5.0",
            "value": 12,
            "_view_count": null,
            "_view_module_version": "1.5.0",
            "orientation": "horizontal",
            "min": 0,
            "description_tooltip": null,
            "_model_module": "@jupyter-widgets/controls",
            "layout": "IPY_MODEL_acbe7c4450b649a7be421f1b2454508b"
          }
        },
        "c18f65a324204a96ae2bc0364012c163": {
          "model_module": "@jupyter-widgets/controls",
          "model_name": "HTMLModel",
          "state": {
            "_view_name": "HTMLView",
            "style": "IPY_MODEL_05fa675bf8264c70a582150638b5b98b",
            "_dom_classes": [],
            "description": "",
            "_model_name": "HTMLModel",
            "placeholder": "​",
            "_view_module": "@jupyter-widgets/controls",
            "_model_module_version": "1.5.0",
            "value": " 12/50 [02:20&lt;07:23, 11.68s/it]",
            "_view_count": null,
            "_view_module_version": "1.5.0",
            "description_tooltip": null,
            "_model_module": "@jupyter-widgets/controls",
            "layout": "IPY_MODEL_96a76e1c53b44c848b9664a21f0dd5f6"
          }
        },
        "3306d4fe1d924f2695fe171988dd5253": {
          "model_module": "@jupyter-widgets/controls",
          "model_name": "ProgressStyleModel",
          "state": {
            "_view_name": "StyleView",
            "_model_name": "ProgressStyleModel",
            "description_width": "initial",
            "_view_module": "@jupyter-widgets/base",
            "_model_module_version": "1.5.0",
            "_view_count": null,
            "_view_module_version": "1.2.0",
            "bar_color": null,
            "_model_module": "@jupyter-widgets/controls"
          }
        },
        "acbe7c4450b649a7be421f1b2454508b": {
          "model_module": "@jupyter-widgets/base",
          "model_name": "LayoutModel",
          "state": {
            "_view_name": "LayoutView",
            "grid_template_rows": null,
            "right": null,
            "justify_content": null,
            "_view_module": "@jupyter-widgets/base",
            "overflow": null,
            "_model_module_version": "1.2.0",
            "_view_count": null,
            "flex_flow": null,
            "width": null,
            "min_width": null,
            "border": null,
            "align_items": null,
            "bottom": null,
            "_model_module": "@jupyter-widgets/base",
            "top": null,
            "grid_column": null,
            "overflow_y": null,
            "overflow_x": null,
            "grid_auto_flow": null,
            "grid_area": null,
            "grid_template_columns": null,
            "flex": null,
            "_model_name": "LayoutModel",
            "justify_items": null,
            "grid_row": null,
            "max_height": null,
            "align_content": null,
            "visibility": null,
            "align_self": null,
            "height": null,
            "min_height": null,
            "padding": null,
            "grid_auto_rows": null,
            "grid_gap": null,
            "max_width": null,
            "order": null,
            "_view_module_version": "1.2.0",
            "grid_template_areas": null,
            "object_position": null,
            "object_fit": null,
            "grid_auto_columns": null,
            "margin": null,
            "display": null,
            "left": null
          }
        },
        "05fa675bf8264c70a582150638b5b98b": {
          "model_module": "@jupyter-widgets/controls",
          "model_name": "DescriptionStyleModel",
          "state": {
            "_view_name": "StyleView",
            "_model_name": "DescriptionStyleModel",
            "description_width": "",
            "_view_module": "@jupyter-widgets/base",
            "_model_module_version": "1.5.0",
            "_view_count": null,
            "_view_module_version": "1.2.0",
            "_model_module": "@jupyter-widgets/controls"
          }
        },
        "96a76e1c53b44c848b9664a21f0dd5f6": {
          "model_module": "@jupyter-widgets/base",
          "model_name": "LayoutModel",
          "state": {
            "_view_name": "LayoutView",
            "grid_template_rows": null,
            "right": null,
            "justify_content": null,
            "_view_module": "@jupyter-widgets/base",
            "overflow": null,
            "_model_module_version": "1.2.0",
            "_view_count": null,
            "flex_flow": null,
            "width": null,
            "min_width": null,
            "border": null,
            "align_items": null,
            "bottom": null,
            "_model_module": "@jupyter-widgets/base",
            "top": null,
            "grid_column": null,
            "overflow_y": null,
            "overflow_x": null,
            "grid_auto_flow": null,
            "grid_area": null,
            "grid_template_columns": null,
            "flex": null,
            "_model_name": "LayoutModel",
            "justify_items": null,
            "grid_row": null,
            "max_height": null,
            "align_content": null,
            "visibility": null,
            "align_self": null,
            "height": null,
            "min_height": null,
            "padding": null,
            "grid_auto_rows": null,
            "grid_gap": null,
            "max_width": null,
            "order": null,
            "_view_module_version": "1.2.0",
            "grid_template_areas": null,
            "object_position": null,
            "object_fit": null,
            "grid_auto_columns": null,
            "margin": null,
            "display": null,
            "left": null
          }
        },
        "92416c44fd6f4921be2dd364bd43f782": {
          "model_module": "@jupyter-widgets/controls",
          "model_name": "HBoxModel",
          "state": {
            "_view_name": "HBoxView",
            "_dom_classes": [],
            "_model_name": "HBoxModel",
            "_view_module": "@jupyter-widgets/controls",
            "_model_module_version": "1.5.0",
            "_view_count": null,
            "_view_module_version": "1.5.0",
            "box_style": "",
            "layout": "IPY_MODEL_f06ca8d3fb1f4800b7ac5d8fd8809616",
            "_model_module": "@jupyter-widgets/controls",
            "children": [
              "IPY_MODEL_f54e3ffcd3a74101b2e98d3a85135c61",
              "IPY_MODEL_34afb850d79a4911a814dcd11947c882"
            ]
          }
        },
        "f06ca8d3fb1f4800b7ac5d8fd8809616": {
          "model_module": "@jupyter-widgets/base",
          "model_name": "LayoutModel",
          "state": {
            "_view_name": "LayoutView",
            "grid_template_rows": null,
            "right": null,
            "justify_content": null,
            "_view_module": "@jupyter-widgets/base",
            "overflow": null,
            "_model_module_version": "1.2.0",
            "_view_count": null,
            "flex_flow": null,
            "width": null,
            "min_width": null,
            "border": null,
            "align_items": null,
            "bottom": null,
            "_model_module": "@jupyter-widgets/base",
            "top": null,
            "grid_column": null,
            "overflow_y": null,
            "overflow_x": null,
            "grid_auto_flow": null,
            "grid_area": null,
            "grid_template_columns": null,
            "flex": null,
            "_model_name": "LayoutModel",
            "justify_items": null,
            "grid_row": null,
            "max_height": null,
            "align_content": null,
            "visibility": null,
            "align_self": null,
            "height": null,
            "min_height": null,
            "padding": null,
            "grid_auto_rows": null,
            "grid_gap": null,
            "max_width": null,
            "order": null,
            "_view_module_version": "1.2.0",
            "grid_template_areas": null,
            "object_position": null,
            "object_fit": null,
            "grid_auto_columns": null,
            "margin": null,
            "display": null,
            "left": null
          }
        },
        "f54e3ffcd3a74101b2e98d3a85135c61": {
          "model_module": "@jupyter-widgets/controls",
          "model_name": "FloatProgressModel",
          "state": {
            "_view_name": "ProgressView",
            "style": "IPY_MODEL_92a16d3ec10746d0b3886aa9aeca1724",
            "_dom_classes": [],
            "description": "[loss: 1.707, precision: 0.642, recall: 0.265, f1: nan, accuracy: 0.941, val_loss: 1.557, val_precision: 0.762, val_recall: 0.262, val_f1: 0.385, val_accuracy: 0.946] : 100%",
            "_model_name": "FloatProgressModel",
            "bar_style": "",
            "max": 9914,
            "_view_module": "@jupyter-widgets/controls",
            "_model_module_version": "1.5.0",
            "value": 9914,
            "_view_count": null,
            "_view_module_version": "1.5.0",
            "orientation": "horizontal",
            "min": 0,
            "description_tooltip": null,
            "_model_module": "@jupyter-widgets/controls",
            "layout": "IPY_MODEL_689f8ae74806465cb4f17499611a8225"
          }
        },
        "34afb850d79a4911a814dcd11947c882": {
          "model_module": "@jupyter-widgets/controls",
          "model_name": "HTMLModel",
          "state": {
            "_view_name": "HTMLView",
            "style": "IPY_MODEL_ebecd24186e84f44835a3133eae14154",
            "_dom_classes": [],
            "description": "",
            "_model_name": "HTMLModel",
            "placeholder": "​",
            "_view_module": "@jupyter-widgets/controls",
            "_model_module_version": "1.5.0",
            "value": " 9914/9914 [00:12&lt;00:00, 198.50it/s]",
            "_view_count": null,
            "_view_module_version": "1.5.0",
            "description_tooltip": null,
            "_model_module": "@jupyter-widgets/controls",
            "layout": "IPY_MODEL_a2882aca746d488d8df5fc98f3ea8a2b"
          }
        },
        "92a16d3ec10746d0b3886aa9aeca1724": {
          "model_module": "@jupyter-widgets/controls",
          "model_name": "ProgressStyleModel",
          "state": {
            "_view_name": "StyleView",
            "_model_name": "ProgressStyleModel",
            "description_width": "initial",
            "_view_module": "@jupyter-widgets/base",
            "_model_module_version": "1.5.0",
            "_view_count": null,
            "_view_module_version": "1.2.0",
            "bar_color": null,
            "_model_module": "@jupyter-widgets/controls"
          }
        },
        "689f8ae74806465cb4f17499611a8225": {
          "model_module": "@jupyter-widgets/base",
          "model_name": "LayoutModel",
          "state": {
            "_view_name": "LayoutView",
            "grid_template_rows": null,
            "right": null,
            "justify_content": null,
            "_view_module": "@jupyter-widgets/base",
            "overflow": null,
            "_model_module_version": "1.2.0",
            "_view_count": null,
            "flex_flow": null,
            "width": null,
            "min_width": null,
            "border": null,
            "align_items": null,
            "bottom": null,
            "_model_module": "@jupyter-widgets/base",
            "top": null,
            "grid_column": null,
            "overflow_y": null,
            "overflow_x": null,
            "grid_auto_flow": null,
            "grid_area": null,
            "grid_template_columns": null,
            "flex": null,
            "_model_name": "LayoutModel",
            "justify_items": null,
            "grid_row": null,
            "max_height": null,
            "align_content": null,
            "visibility": null,
            "align_self": null,
            "height": null,
            "min_height": null,
            "padding": null,
            "grid_auto_rows": null,
            "grid_gap": null,
            "max_width": null,
            "order": null,
            "_view_module_version": "1.2.0",
            "grid_template_areas": null,
            "object_position": null,
            "object_fit": null,
            "grid_auto_columns": null,
            "margin": null,
            "display": null,
            "left": null
          }
        },
        "ebecd24186e84f44835a3133eae14154": {
          "model_module": "@jupyter-widgets/controls",
          "model_name": "DescriptionStyleModel",
          "state": {
            "_view_name": "StyleView",
            "_model_name": "DescriptionStyleModel",
            "description_width": "",
            "_view_module": "@jupyter-widgets/base",
            "_model_module_version": "1.5.0",
            "_view_count": null,
            "_view_module_version": "1.2.0",
            "_model_module": "@jupyter-widgets/controls"
          }
        },
        "a2882aca746d488d8df5fc98f3ea8a2b": {
          "model_module": "@jupyter-widgets/base",
          "model_name": "LayoutModel",
          "state": {
            "_view_name": "LayoutView",
            "grid_template_rows": null,
            "right": null,
            "justify_content": null,
            "_view_module": "@jupyter-widgets/base",
            "overflow": null,
            "_model_module_version": "1.2.0",
            "_view_count": null,
            "flex_flow": null,
            "width": null,
            "min_width": null,
            "border": null,
            "align_items": null,
            "bottom": null,
            "_model_module": "@jupyter-widgets/base",
            "top": null,
            "grid_column": null,
            "overflow_y": null,
            "overflow_x": null,
            "grid_auto_flow": null,
            "grid_area": null,
            "grid_template_columns": null,
            "flex": null,
            "_model_name": "LayoutModel",
            "justify_items": null,
            "grid_row": null,
            "max_height": null,
            "align_content": null,
            "visibility": null,
            "align_self": null,
            "height": null,
            "min_height": null,
            "padding": null,
            "grid_auto_rows": null,
            "grid_gap": null,
            "max_width": null,
            "order": null,
            "_view_module_version": "1.2.0",
            "grid_template_areas": null,
            "object_position": null,
            "object_fit": null,
            "grid_auto_columns": null,
            "margin": null,
            "display": null,
            "left": null
          }
        },
        "790c3d064d734fa4bddac101b80c158e": {
          "model_module": "@jupyter-widgets/controls",
          "model_name": "HBoxModel",
          "state": {
            "_view_name": "HBoxView",
            "_dom_classes": [],
            "_model_name": "HBoxModel",
            "_view_module": "@jupyter-widgets/controls",
            "_model_module_version": "1.5.0",
            "_view_count": null,
            "_view_module_version": "1.5.0",
            "box_style": "",
            "layout": "IPY_MODEL_9a274eb644ba4eea81800a684c5f3394",
            "_model_module": "@jupyter-widgets/controls",
            "children": [
              "IPY_MODEL_bfe5bafa24ab44629c7aabf55f5256d3",
              "IPY_MODEL_c70d25ec51a3413d9791274de24583d0"
            ]
          }
        },
        "9a274eb644ba4eea81800a684c5f3394": {
          "model_module": "@jupyter-widgets/base",
          "model_name": "LayoutModel",
          "state": {
            "_view_name": "LayoutView",
            "grid_template_rows": null,
            "right": null,
            "justify_content": null,
            "_view_module": "@jupyter-widgets/base",
            "overflow": null,
            "_model_module_version": "1.2.0",
            "_view_count": null,
            "flex_flow": null,
            "width": null,
            "min_width": null,
            "border": null,
            "align_items": null,
            "bottom": null,
            "_model_module": "@jupyter-widgets/base",
            "top": null,
            "grid_column": null,
            "overflow_y": null,
            "overflow_x": null,
            "grid_auto_flow": null,
            "grid_area": null,
            "grid_template_columns": null,
            "flex": null,
            "_model_name": "LayoutModel",
            "justify_items": null,
            "grid_row": null,
            "max_height": null,
            "align_content": null,
            "visibility": null,
            "align_self": null,
            "height": null,
            "min_height": null,
            "padding": null,
            "grid_auto_rows": null,
            "grid_gap": null,
            "max_width": null,
            "order": null,
            "_view_module_version": "1.2.0",
            "grid_template_areas": null,
            "object_position": null,
            "object_fit": null,
            "grid_auto_columns": null,
            "margin": null,
            "display": null,
            "left": null
          }
        },
        "bfe5bafa24ab44629c7aabf55f5256d3": {
          "model_module": "@jupyter-widgets/controls",
          "model_name": "FloatProgressModel",
          "state": {
            "_view_name": "ProgressView",
            "style": "IPY_MODEL_0f17ae436a1c4388972f6096faf4f704",
            "_dom_classes": [],
            "description": "[loss: 1.464, precision: 0.702, recall: 0.365, f1: 0.475, accuracy: 0.947, val_loss: 1.416, val_precision: 0.751, val_recall: 0.357, val_f1: 0.480, val_accuracy: 0.949] : 100%",
            "_model_name": "FloatProgressModel",
            "bar_style": "",
            "max": 9914,
            "_view_module": "@jupyter-widgets/controls",
            "_model_module_version": "1.5.0",
            "value": 9914,
            "_view_count": null,
            "_view_module_version": "1.5.0",
            "orientation": "horizontal",
            "min": 0,
            "description_tooltip": null,
            "_model_module": "@jupyter-widgets/controls",
            "layout": "IPY_MODEL_22cee4d297d249cbb9409846d96a352f"
          }
        },
        "c70d25ec51a3413d9791274de24583d0": {
          "model_module": "@jupyter-widgets/controls",
          "model_name": "HTMLModel",
          "state": {
            "_view_name": "HTMLView",
            "style": "IPY_MODEL_b2e64e4543c14c6887d1107db5e453c1",
            "_dom_classes": [],
            "description": "",
            "_model_name": "HTMLModel",
            "placeholder": "​",
            "_view_module": "@jupyter-widgets/controls",
            "_model_module_version": "1.5.0",
            "value": " 9914/9914 [00:11&lt;00:00, 305.67it/s]",
            "_view_count": null,
            "_view_module_version": "1.5.0",
            "description_tooltip": null,
            "_model_module": "@jupyter-widgets/controls",
            "layout": "IPY_MODEL_ae723a289f1f4496ae4bb64ae3f2ca23"
          }
        },
        "0f17ae436a1c4388972f6096faf4f704": {
          "model_module": "@jupyter-widgets/controls",
          "model_name": "ProgressStyleModel",
          "state": {
            "_view_name": "StyleView",
            "_model_name": "ProgressStyleModel",
            "description_width": "initial",
            "_view_module": "@jupyter-widgets/base",
            "_model_module_version": "1.5.0",
            "_view_count": null,
            "_view_module_version": "1.2.0",
            "bar_color": null,
            "_model_module": "@jupyter-widgets/controls"
          }
        },
        "22cee4d297d249cbb9409846d96a352f": {
          "model_module": "@jupyter-widgets/base",
          "model_name": "LayoutModel",
          "state": {
            "_view_name": "LayoutView",
            "grid_template_rows": null,
            "right": null,
            "justify_content": null,
            "_view_module": "@jupyter-widgets/base",
            "overflow": null,
            "_model_module_version": "1.2.0",
            "_view_count": null,
            "flex_flow": null,
            "width": null,
            "min_width": null,
            "border": null,
            "align_items": null,
            "bottom": null,
            "_model_module": "@jupyter-widgets/base",
            "top": null,
            "grid_column": null,
            "overflow_y": null,
            "overflow_x": null,
            "grid_auto_flow": null,
            "grid_area": null,
            "grid_template_columns": null,
            "flex": null,
            "_model_name": "LayoutModel",
            "justify_items": null,
            "grid_row": null,
            "max_height": null,
            "align_content": null,
            "visibility": null,
            "align_self": null,
            "height": null,
            "min_height": null,
            "padding": null,
            "grid_auto_rows": null,
            "grid_gap": null,
            "max_width": null,
            "order": null,
            "_view_module_version": "1.2.0",
            "grid_template_areas": null,
            "object_position": null,
            "object_fit": null,
            "grid_auto_columns": null,
            "margin": null,
            "display": null,
            "left": null
          }
        },
        "b2e64e4543c14c6887d1107db5e453c1": {
          "model_module": "@jupyter-widgets/controls",
          "model_name": "DescriptionStyleModel",
          "state": {
            "_view_name": "StyleView",
            "_model_name": "DescriptionStyleModel",
            "description_width": "",
            "_view_module": "@jupyter-widgets/base",
            "_model_module_version": "1.5.0",
            "_view_count": null,
            "_view_module_version": "1.2.0",
            "_model_module": "@jupyter-widgets/controls"
          }
        },
        "ae723a289f1f4496ae4bb64ae3f2ca23": {
          "model_module": "@jupyter-widgets/base",
          "model_name": "LayoutModel",
          "state": {
            "_view_name": "LayoutView",
            "grid_template_rows": null,
            "right": null,
            "justify_content": null,
            "_view_module": "@jupyter-widgets/base",
            "overflow": null,
            "_model_module_version": "1.2.0",
            "_view_count": null,
            "flex_flow": null,
            "width": null,
            "min_width": null,
            "border": null,
            "align_items": null,
            "bottom": null,
            "_model_module": "@jupyter-widgets/base",
            "top": null,
            "grid_column": null,
            "overflow_y": null,
            "overflow_x": null,
            "grid_auto_flow": null,
            "grid_area": null,
            "grid_template_columns": null,
            "flex": null,
            "_model_name": "LayoutModel",
            "justify_items": null,
            "grid_row": null,
            "max_height": null,
            "align_content": null,
            "visibility": null,
            "align_self": null,
            "height": null,
            "min_height": null,
            "padding": null,
            "grid_auto_rows": null,
            "grid_gap": null,
            "max_width": null,
            "order": null,
            "_view_module_version": "1.2.0",
            "grid_template_areas": null,
            "object_position": null,
            "object_fit": null,
            "grid_auto_columns": null,
            "margin": null,
            "display": null,
            "left": null
          }
        },
        "dc0904941e4849f09b6df2c343812855": {
          "model_module": "@jupyter-widgets/controls",
          "model_name": "HBoxModel",
          "state": {
            "_view_name": "HBoxView",
            "_dom_classes": [],
            "_model_name": "HBoxModel",
            "_view_module": "@jupyter-widgets/controls",
            "_model_module_version": "1.5.0",
            "_view_count": null,
            "_view_module_version": "1.5.0",
            "box_style": "",
            "layout": "IPY_MODEL_74bf721e6cc74c31b89b45a90c92ffc7",
            "_model_module": "@jupyter-widgets/controls",
            "children": [
              "IPY_MODEL_f13ff9e729d14355960b2b5822c99895",
              "IPY_MODEL_8c65316f81114def92516879c859e669"
            ]
          }
        },
        "74bf721e6cc74c31b89b45a90c92ffc7": {
          "model_module": "@jupyter-widgets/base",
          "model_name": "LayoutModel",
          "state": {
            "_view_name": "LayoutView",
            "grid_template_rows": null,
            "right": null,
            "justify_content": null,
            "_view_module": "@jupyter-widgets/base",
            "overflow": null,
            "_model_module_version": "1.2.0",
            "_view_count": null,
            "flex_flow": null,
            "width": null,
            "min_width": null,
            "border": null,
            "align_items": null,
            "bottom": null,
            "_model_module": "@jupyter-widgets/base",
            "top": null,
            "grid_column": null,
            "overflow_y": null,
            "overflow_x": null,
            "grid_auto_flow": null,
            "grid_area": null,
            "grid_template_columns": null,
            "flex": null,
            "_model_name": "LayoutModel",
            "justify_items": null,
            "grid_row": null,
            "max_height": null,
            "align_content": null,
            "visibility": null,
            "align_self": null,
            "height": null,
            "min_height": null,
            "padding": null,
            "grid_auto_rows": null,
            "grid_gap": null,
            "max_width": null,
            "order": null,
            "_view_module_version": "1.2.0",
            "grid_template_areas": null,
            "object_position": null,
            "object_fit": null,
            "grid_auto_columns": null,
            "margin": null,
            "display": null,
            "left": null
          }
        },
        "f13ff9e729d14355960b2b5822c99895": {
          "model_module": "@jupyter-widgets/controls",
          "model_name": "FloatProgressModel",
          "state": {
            "_view_name": "ProgressView",
            "style": "IPY_MODEL_42a5ab6ebae548fd9024a855f93944db",
            "_dom_classes": [],
            "description": "[loss: 1.339, precision: 0.722, recall: 0.421, f1: 0.528, accuracy: 0.950, val_loss: 1.333, val_precision: 0.735, val_recall: 0.434, val_f1: 0.543, val_accuracy: 0.952] : 100%",
            "_model_name": "FloatProgressModel",
            "bar_style": "",
            "max": 9914,
            "_view_module": "@jupyter-widgets/controls",
            "_model_module_version": "1.5.0",
            "value": 9914,
            "_view_count": null,
            "_view_module_version": "1.5.0",
            "orientation": "horizontal",
            "min": 0,
            "description_tooltip": null,
            "_model_module": "@jupyter-widgets/controls",
            "layout": "IPY_MODEL_8db25eba46194065a805f40737d04cca"
          }
        },
        "8c65316f81114def92516879c859e669": {
          "model_module": "@jupyter-widgets/controls",
          "model_name": "HTMLModel",
          "state": {
            "_view_name": "HTMLView",
            "style": "IPY_MODEL_66593e21b60543819b96854b772e64ef",
            "_dom_classes": [],
            "description": "",
            "_model_name": "HTMLModel",
            "placeholder": "​",
            "_view_module": "@jupyter-widgets/controls",
            "_model_module_version": "1.5.0",
            "value": " 9914/9914 [00:10&lt;00:00, 242.89it/s]",
            "_view_count": null,
            "_view_module_version": "1.5.0",
            "description_tooltip": null,
            "_model_module": "@jupyter-widgets/controls",
            "layout": "IPY_MODEL_628cec6b499b4160b9092ed048d9665a"
          }
        },
        "42a5ab6ebae548fd9024a855f93944db": {
          "model_module": "@jupyter-widgets/controls",
          "model_name": "ProgressStyleModel",
          "state": {
            "_view_name": "StyleView",
            "_model_name": "ProgressStyleModel",
            "description_width": "initial",
            "_view_module": "@jupyter-widgets/base",
            "_model_module_version": "1.5.0",
            "_view_count": null,
            "_view_module_version": "1.2.0",
            "bar_color": null,
            "_model_module": "@jupyter-widgets/controls"
          }
        },
        "8db25eba46194065a805f40737d04cca": {
          "model_module": "@jupyter-widgets/base",
          "model_name": "LayoutModel",
          "state": {
            "_view_name": "LayoutView",
            "grid_template_rows": null,
            "right": null,
            "justify_content": null,
            "_view_module": "@jupyter-widgets/base",
            "overflow": null,
            "_model_module_version": "1.2.0",
            "_view_count": null,
            "flex_flow": null,
            "width": null,
            "min_width": null,
            "border": null,
            "align_items": null,
            "bottom": null,
            "_model_module": "@jupyter-widgets/base",
            "top": null,
            "grid_column": null,
            "overflow_y": null,
            "overflow_x": null,
            "grid_auto_flow": null,
            "grid_area": null,
            "grid_template_columns": null,
            "flex": null,
            "_model_name": "LayoutModel",
            "justify_items": null,
            "grid_row": null,
            "max_height": null,
            "align_content": null,
            "visibility": null,
            "align_self": null,
            "height": null,
            "min_height": null,
            "padding": null,
            "grid_auto_rows": null,
            "grid_gap": null,
            "max_width": null,
            "order": null,
            "_view_module_version": "1.2.0",
            "grid_template_areas": null,
            "object_position": null,
            "object_fit": null,
            "grid_auto_columns": null,
            "margin": null,
            "display": null,
            "left": null
          }
        },
        "66593e21b60543819b96854b772e64ef": {
          "model_module": "@jupyter-widgets/controls",
          "model_name": "DescriptionStyleModel",
          "state": {
            "_view_name": "StyleView",
            "_model_name": "DescriptionStyleModel",
            "description_width": "",
            "_view_module": "@jupyter-widgets/base",
            "_model_module_version": "1.5.0",
            "_view_count": null,
            "_view_module_version": "1.2.0",
            "_model_module": "@jupyter-widgets/controls"
          }
        },
        "628cec6b499b4160b9092ed048d9665a": {
          "model_module": "@jupyter-widgets/base",
          "model_name": "LayoutModel",
          "state": {
            "_view_name": "LayoutView",
            "grid_template_rows": null,
            "right": null,
            "justify_content": null,
            "_view_module": "@jupyter-widgets/base",
            "overflow": null,
            "_model_module_version": "1.2.0",
            "_view_count": null,
            "flex_flow": null,
            "width": null,
            "min_width": null,
            "border": null,
            "align_items": null,
            "bottom": null,
            "_model_module": "@jupyter-widgets/base",
            "top": null,
            "grid_column": null,
            "overflow_y": null,
            "overflow_x": null,
            "grid_auto_flow": null,
            "grid_area": null,
            "grid_template_columns": null,
            "flex": null,
            "_model_name": "LayoutModel",
            "justify_items": null,
            "grid_row": null,
            "max_height": null,
            "align_content": null,
            "visibility": null,
            "align_self": null,
            "height": null,
            "min_height": null,
            "padding": null,
            "grid_auto_rows": null,
            "grid_gap": null,
            "max_width": null,
            "order": null,
            "_view_module_version": "1.2.0",
            "grid_template_areas": null,
            "object_position": null,
            "object_fit": null,
            "grid_auto_columns": null,
            "margin": null,
            "display": null,
            "left": null
          }
        },
        "a3024fe3207d4a67bff436e6ebcfb8b2": {
          "model_module": "@jupyter-widgets/controls",
          "model_name": "HBoxModel",
          "state": {
            "_view_name": "HBoxView",
            "_dom_classes": [],
            "_model_name": "HBoxModel",
            "_view_module": "@jupyter-widgets/controls",
            "_model_module_version": "1.5.0",
            "_view_count": null,
            "_view_module_version": "1.5.0",
            "box_style": "",
            "layout": "IPY_MODEL_5ad0e6f54ea34ea0b546d30dbd953d61",
            "_model_module": "@jupyter-widgets/controls",
            "children": [
              "IPY_MODEL_8a0bcff4472e49d0a6796d443b4e25cf",
              "IPY_MODEL_3dd0b6421cb0485696cff5b7bb1d8de6"
            ]
          }
        },
        "5ad0e6f54ea34ea0b546d30dbd953d61": {
          "model_module": "@jupyter-widgets/base",
          "model_name": "LayoutModel",
          "state": {
            "_view_name": "LayoutView",
            "grid_template_rows": null,
            "right": null,
            "justify_content": null,
            "_view_module": "@jupyter-widgets/base",
            "overflow": null,
            "_model_module_version": "1.2.0",
            "_view_count": null,
            "flex_flow": null,
            "width": null,
            "min_width": null,
            "border": null,
            "align_items": null,
            "bottom": null,
            "_model_module": "@jupyter-widgets/base",
            "top": null,
            "grid_column": null,
            "overflow_y": null,
            "overflow_x": null,
            "grid_auto_flow": null,
            "grid_area": null,
            "grid_template_columns": null,
            "flex": null,
            "_model_name": "LayoutModel",
            "justify_items": null,
            "grid_row": null,
            "max_height": null,
            "align_content": null,
            "visibility": null,
            "align_self": null,
            "height": null,
            "min_height": null,
            "padding": null,
            "grid_auto_rows": null,
            "grid_gap": null,
            "max_width": null,
            "order": null,
            "_view_module_version": "1.2.0",
            "grid_template_areas": null,
            "object_position": null,
            "object_fit": null,
            "grid_auto_columns": null,
            "margin": null,
            "display": null,
            "left": null
          }
        },
        "8a0bcff4472e49d0a6796d443b4e25cf": {
          "model_module": "@jupyter-widgets/controls",
          "model_name": "FloatProgressModel",
          "state": {
            "_view_name": "ProgressView",
            "style": "IPY_MODEL_141c0b53786e43cb860f3b84279772a6",
            "_dom_classes": [],
            "description": "[loss: 1.263, precision: 0.741, recall: 0.456, f1: 0.561, accuracy: 0.953, val_loss: 1.290, val_precision: 0.744, val_recall: 0.436, val_f1: 0.547, val_accuracy: 0.952] : 100%",
            "_model_name": "FloatProgressModel",
            "bar_style": "",
            "max": 9914,
            "_view_module": "@jupyter-widgets/controls",
            "_model_module_version": "1.5.0",
            "value": 9914,
            "_view_count": null,
            "_view_module_version": "1.5.0",
            "orientation": "horizontal",
            "min": 0,
            "description_tooltip": null,
            "_model_module": "@jupyter-widgets/controls",
            "layout": "IPY_MODEL_8d066e5b253e4e64b58623ee9b664876"
          }
        },
        "3dd0b6421cb0485696cff5b7bb1d8de6": {
          "model_module": "@jupyter-widgets/controls",
          "model_name": "HTMLModel",
          "state": {
            "_view_name": "HTMLView",
            "style": "IPY_MODEL_4064c9d8bb244d0c84c3a078a0a14931",
            "_dom_classes": [],
            "description": "",
            "_model_name": "HTMLModel",
            "placeholder": "​",
            "_view_module": "@jupyter-widgets/controls",
            "_model_module_version": "1.5.0",
            "value": " 9914/9914 [00:11&lt;00:00, 188.23it/s]",
            "_view_count": null,
            "_view_module_version": "1.5.0",
            "description_tooltip": null,
            "_model_module": "@jupyter-widgets/controls",
            "layout": "IPY_MODEL_8128f1eafe094c26a047a6882092e5d9"
          }
        },
        "141c0b53786e43cb860f3b84279772a6": {
          "model_module": "@jupyter-widgets/controls",
          "model_name": "ProgressStyleModel",
          "state": {
            "_view_name": "StyleView",
            "_model_name": "ProgressStyleModel",
            "description_width": "initial",
            "_view_module": "@jupyter-widgets/base",
            "_model_module_version": "1.5.0",
            "_view_count": null,
            "_view_module_version": "1.2.0",
            "bar_color": null,
            "_model_module": "@jupyter-widgets/controls"
          }
        },
        "8d066e5b253e4e64b58623ee9b664876": {
          "model_module": "@jupyter-widgets/base",
          "model_name": "LayoutModel",
          "state": {
            "_view_name": "LayoutView",
            "grid_template_rows": null,
            "right": null,
            "justify_content": null,
            "_view_module": "@jupyter-widgets/base",
            "overflow": null,
            "_model_module_version": "1.2.0",
            "_view_count": null,
            "flex_flow": null,
            "width": null,
            "min_width": null,
            "border": null,
            "align_items": null,
            "bottom": null,
            "_model_module": "@jupyter-widgets/base",
            "top": null,
            "grid_column": null,
            "overflow_y": null,
            "overflow_x": null,
            "grid_auto_flow": null,
            "grid_area": null,
            "grid_template_columns": null,
            "flex": null,
            "_model_name": "LayoutModel",
            "justify_items": null,
            "grid_row": null,
            "max_height": null,
            "align_content": null,
            "visibility": null,
            "align_self": null,
            "height": null,
            "min_height": null,
            "padding": null,
            "grid_auto_rows": null,
            "grid_gap": null,
            "max_width": null,
            "order": null,
            "_view_module_version": "1.2.0",
            "grid_template_areas": null,
            "object_position": null,
            "object_fit": null,
            "grid_auto_columns": null,
            "margin": null,
            "display": null,
            "left": null
          }
        },
        "4064c9d8bb244d0c84c3a078a0a14931": {
          "model_module": "@jupyter-widgets/controls",
          "model_name": "DescriptionStyleModel",
          "state": {
            "_view_name": "StyleView",
            "_model_name": "DescriptionStyleModel",
            "description_width": "",
            "_view_module": "@jupyter-widgets/base",
            "_model_module_version": "1.5.0",
            "_view_count": null,
            "_view_module_version": "1.2.0",
            "_model_module": "@jupyter-widgets/controls"
          }
        },
        "8128f1eafe094c26a047a6882092e5d9": {
          "model_module": "@jupyter-widgets/base",
          "model_name": "LayoutModel",
          "state": {
            "_view_name": "LayoutView",
            "grid_template_rows": null,
            "right": null,
            "justify_content": null,
            "_view_module": "@jupyter-widgets/base",
            "overflow": null,
            "_model_module_version": "1.2.0",
            "_view_count": null,
            "flex_flow": null,
            "width": null,
            "min_width": null,
            "border": null,
            "align_items": null,
            "bottom": null,
            "_model_module": "@jupyter-widgets/base",
            "top": null,
            "grid_column": null,
            "overflow_y": null,
            "overflow_x": null,
            "grid_auto_flow": null,
            "grid_area": null,
            "grid_template_columns": null,
            "flex": null,
            "_model_name": "LayoutModel",
            "justify_items": null,
            "grid_row": null,
            "max_height": null,
            "align_content": null,
            "visibility": null,
            "align_self": null,
            "height": null,
            "min_height": null,
            "padding": null,
            "grid_auto_rows": null,
            "grid_gap": null,
            "max_width": null,
            "order": null,
            "_view_module_version": "1.2.0",
            "grid_template_areas": null,
            "object_position": null,
            "object_fit": null,
            "grid_auto_columns": null,
            "margin": null,
            "display": null,
            "left": null
          }
        },
        "edf71b0aa30e43bf87fe84e8bdc7136c": {
          "model_module": "@jupyter-widgets/controls",
          "model_name": "HBoxModel",
          "state": {
            "_view_name": "HBoxView",
            "_dom_classes": [],
            "_model_name": "HBoxModel",
            "_view_module": "@jupyter-widgets/controls",
            "_model_module_version": "1.5.0",
            "_view_count": null,
            "_view_module_version": "1.5.0",
            "box_style": "",
            "layout": "IPY_MODEL_504a7309105c4f21ad66bb28a70ed96b",
            "_model_module": "@jupyter-widgets/controls",
            "children": [
              "IPY_MODEL_099212c4dff24595aaf440d88529abd5",
              "IPY_MODEL_18f5b90b694a4ed7898c8882b0b80a01"
            ]
          }
        },
        "504a7309105c4f21ad66bb28a70ed96b": {
          "model_module": "@jupyter-widgets/base",
          "model_name": "LayoutModel",
          "state": {
            "_view_name": "LayoutView",
            "grid_template_rows": null,
            "right": null,
            "justify_content": null,
            "_view_module": "@jupyter-widgets/base",
            "overflow": null,
            "_model_module_version": "1.2.0",
            "_view_count": null,
            "flex_flow": null,
            "width": null,
            "min_width": null,
            "border": null,
            "align_items": null,
            "bottom": null,
            "_model_module": "@jupyter-widgets/base",
            "top": null,
            "grid_column": null,
            "overflow_y": null,
            "overflow_x": null,
            "grid_auto_flow": null,
            "grid_area": null,
            "grid_template_columns": null,
            "flex": null,
            "_model_name": "LayoutModel",
            "justify_items": null,
            "grid_row": null,
            "max_height": null,
            "align_content": null,
            "visibility": null,
            "align_self": null,
            "height": null,
            "min_height": null,
            "padding": null,
            "grid_auto_rows": null,
            "grid_gap": null,
            "max_width": null,
            "order": null,
            "_view_module_version": "1.2.0",
            "grid_template_areas": null,
            "object_position": null,
            "object_fit": null,
            "grid_auto_columns": null,
            "margin": null,
            "display": null,
            "left": null
          }
        },
        "099212c4dff24595aaf440d88529abd5": {
          "model_module": "@jupyter-widgets/controls",
          "model_name": "FloatProgressModel",
          "state": {
            "_view_name": "ProgressView",
            "style": "IPY_MODEL_1f90f884b2d54a8597dd85a0b380fb23",
            "_dom_classes": [],
            "description": "[loss: 1.189, precision: 0.757, recall: 0.487, f1: 0.589, accuracy: 0.955, val_loss: 1.288, val_precision: 0.753, val_recall: 0.441, val_f1: 0.553, val_accuracy: 0.953] : 100%",
            "_model_name": "FloatProgressModel",
            "bar_style": "",
            "max": 9914,
            "_view_module": "@jupyter-widgets/controls",
            "_model_module_version": "1.5.0",
            "value": 9914,
            "_view_count": null,
            "_view_module_version": "1.5.0",
            "orientation": "horizontal",
            "min": 0,
            "description_tooltip": null,
            "_model_module": "@jupyter-widgets/controls",
            "layout": "IPY_MODEL_6124587aa90e4396b1fad3f71629dfda"
          }
        },
        "18f5b90b694a4ed7898c8882b0b80a01": {
          "model_module": "@jupyter-widgets/controls",
          "model_name": "HTMLModel",
          "state": {
            "_view_name": "HTMLView",
            "style": "IPY_MODEL_596b9e6a61f64c15aeb39ad74e7d369b",
            "_dom_classes": [],
            "description": "",
            "_model_name": "HTMLModel",
            "placeholder": "​",
            "_view_module": "@jupyter-widgets/controls",
            "_model_module_version": "1.5.0",
            "value": " 9914/9914 [00:11&lt;00:00, 253.13it/s]",
            "_view_count": null,
            "_view_module_version": "1.5.0",
            "description_tooltip": null,
            "_model_module": "@jupyter-widgets/controls",
            "layout": "IPY_MODEL_fdce569fc31644199a825107ef1466f8"
          }
        },
        "1f90f884b2d54a8597dd85a0b380fb23": {
          "model_module": "@jupyter-widgets/controls",
          "model_name": "ProgressStyleModel",
          "state": {
            "_view_name": "StyleView",
            "_model_name": "ProgressStyleModel",
            "description_width": "initial",
            "_view_module": "@jupyter-widgets/base",
            "_model_module_version": "1.5.0",
            "_view_count": null,
            "_view_module_version": "1.2.0",
            "bar_color": null,
            "_model_module": "@jupyter-widgets/controls"
          }
        },
        "6124587aa90e4396b1fad3f71629dfda": {
          "model_module": "@jupyter-widgets/base",
          "model_name": "LayoutModel",
          "state": {
            "_view_name": "LayoutView",
            "grid_template_rows": null,
            "right": null,
            "justify_content": null,
            "_view_module": "@jupyter-widgets/base",
            "overflow": null,
            "_model_module_version": "1.2.0",
            "_view_count": null,
            "flex_flow": null,
            "width": null,
            "min_width": null,
            "border": null,
            "align_items": null,
            "bottom": null,
            "_model_module": "@jupyter-widgets/base",
            "top": null,
            "grid_column": null,
            "overflow_y": null,
            "overflow_x": null,
            "grid_auto_flow": null,
            "grid_area": null,
            "grid_template_columns": null,
            "flex": null,
            "_model_name": "LayoutModel",
            "justify_items": null,
            "grid_row": null,
            "max_height": null,
            "align_content": null,
            "visibility": null,
            "align_self": null,
            "height": null,
            "min_height": null,
            "padding": null,
            "grid_auto_rows": null,
            "grid_gap": null,
            "max_width": null,
            "order": null,
            "_view_module_version": "1.2.0",
            "grid_template_areas": null,
            "object_position": null,
            "object_fit": null,
            "grid_auto_columns": null,
            "margin": null,
            "display": null,
            "left": null
          }
        },
        "596b9e6a61f64c15aeb39ad74e7d369b": {
          "model_module": "@jupyter-widgets/controls",
          "model_name": "DescriptionStyleModel",
          "state": {
            "_view_name": "StyleView",
            "_model_name": "DescriptionStyleModel",
            "description_width": "",
            "_view_module": "@jupyter-widgets/base",
            "_model_module_version": "1.5.0",
            "_view_count": null,
            "_view_module_version": "1.2.0",
            "_model_module": "@jupyter-widgets/controls"
          }
        },
        "fdce569fc31644199a825107ef1466f8": {
          "model_module": "@jupyter-widgets/base",
          "model_name": "LayoutModel",
          "state": {
            "_view_name": "LayoutView",
            "grid_template_rows": null,
            "right": null,
            "justify_content": null,
            "_view_module": "@jupyter-widgets/base",
            "overflow": null,
            "_model_module_version": "1.2.0",
            "_view_count": null,
            "flex_flow": null,
            "width": null,
            "min_width": null,
            "border": null,
            "align_items": null,
            "bottom": null,
            "_model_module": "@jupyter-widgets/base",
            "top": null,
            "grid_column": null,
            "overflow_y": null,
            "overflow_x": null,
            "grid_auto_flow": null,
            "grid_area": null,
            "grid_template_columns": null,
            "flex": null,
            "_model_name": "LayoutModel",
            "justify_items": null,
            "grid_row": null,
            "max_height": null,
            "align_content": null,
            "visibility": null,
            "align_self": null,
            "height": null,
            "min_height": null,
            "padding": null,
            "grid_auto_rows": null,
            "grid_gap": null,
            "max_width": null,
            "order": null,
            "_view_module_version": "1.2.0",
            "grid_template_areas": null,
            "object_position": null,
            "object_fit": null,
            "grid_auto_columns": null,
            "margin": null,
            "display": null,
            "left": null
          }
        },
        "6c730db16a21476aab78dec097599b29": {
          "model_module": "@jupyter-widgets/controls",
          "model_name": "HBoxModel",
          "state": {
            "_view_name": "HBoxView",
            "_dom_classes": [],
            "_model_name": "HBoxModel",
            "_view_module": "@jupyter-widgets/controls",
            "_model_module_version": "1.5.0",
            "_view_count": null,
            "_view_module_version": "1.5.0",
            "box_style": "",
            "layout": "IPY_MODEL_363f5e48150c4656940622c87fb99132",
            "_model_module": "@jupyter-widgets/controls",
            "children": [
              "IPY_MODEL_876e3bdf3325462a8238eac5b0c77832",
              "IPY_MODEL_b6aeef1a74064cdfb31108f4f56ae171"
            ]
          }
        },
        "363f5e48150c4656940622c87fb99132": {
          "model_module": "@jupyter-widgets/base",
          "model_name": "LayoutModel",
          "state": {
            "_view_name": "LayoutView",
            "grid_template_rows": null,
            "right": null,
            "justify_content": null,
            "_view_module": "@jupyter-widgets/base",
            "overflow": null,
            "_model_module_version": "1.2.0",
            "_view_count": null,
            "flex_flow": null,
            "width": null,
            "min_width": null,
            "border": null,
            "align_items": null,
            "bottom": null,
            "_model_module": "@jupyter-widgets/base",
            "top": null,
            "grid_column": null,
            "overflow_y": null,
            "overflow_x": null,
            "grid_auto_flow": null,
            "grid_area": null,
            "grid_template_columns": null,
            "flex": null,
            "_model_name": "LayoutModel",
            "justify_items": null,
            "grid_row": null,
            "max_height": null,
            "align_content": null,
            "visibility": null,
            "align_self": null,
            "height": null,
            "min_height": null,
            "padding": null,
            "grid_auto_rows": null,
            "grid_gap": null,
            "max_width": null,
            "order": null,
            "_view_module_version": "1.2.0",
            "grid_template_areas": null,
            "object_position": null,
            "object_fit": null,
            "grid_auto_columns": null,
            "margin": null,
            "display": null,
            "left": null
          }
        },
        "876e3bdf3325462a8238eac5b0c77832": {
          "model_module": "@jupyter-widgets/controls",
          "model_name": "FloatProgressModel",
          "state": {
            "_view_name": "ProgressView",
            "style": "IPY_MODEL_6d77dad222264251b4530819ba2148b8",
            "_dom_classes": [],
            "description": "[loss: 1.150, precision: 0.763, recall: 0.502, f1: 0.602, accuracy: 0.956, val_loss: 1.256, val_precision: 0.746, val_recall: 0.481, val_f1: 0.583, val_accuracy: 0.955] : 100%",
            "_model_name": "FloatProgressModel",
            "bar_style": "",
            "max": 9914,
            "_view_module": "@jupyter-widgets/controls",
            "_model_module_version": "1.5.0",
            "value": 9914,
            "_view_count": null,
            "_view_module_version": "1.5.0",
            "orientation": "horizontal",
            "min": 0,
            "description_tooltip": null,
            "_model_module": "@jupyter-widgets/controls",
            "layout": "IPY_MODEL_adea87e180a5427a83eae952fe2af7bc"
          }
        },
        "b6aeef1a74064cdfb31108f4f56ae171": {
          "model_module": "@jupyter-widgets/controls",
          "model_name": "HTMLModel",
          "state": {
            "_view_name": "HTMLView",
            "style": "IPY_MODEL_9342fc8549b742c4855c7f1c9f74b865",
            "_dom_classes": [],
            "description": "",
            "_model_name": "HTMLModel",
            "placeholder": "​",
            "_view_module": "@jupyter-widgets/controls",
            "_model_module_version": "1.5.0",
            "value": " 9914/9914 [00:11&lt;00:00, 131.02it/s]",
            "_view_count": null,
            "_view_module_version": "1.5.0",
            "description_tooltip": null,
            "_model_module": "@jupyter-widgets/controls",
            "layout": "IPY_MODEL_2940188644ba42b9a23bc816b184615d"
          }
        },
        "6d77dad222264251b4530819ba2148b8": {
          "model_module": "@jupyter-widgets/controls",
          "model_name": "ProgressStyleModel",
          "state": {
            "_view_name": "StyleView",
            "_model_name": "ProgressStyleModel",
            "description_width": "initial",
            "_view_module": "@jupyter-widgets/base",
            "_model_module_version": "1.5.0",
            "_view_count": null,
            "_view_module_version": "1.2.0",
            "bar_color": null,
            "_model_module": "@jupyter-widgets/controls"
          }
        },
        "adea87e180a5427a83eae952fe2af7bc": {
          "model_module": "@jupyter-widgets/base",
          "model_name": "LayoutModel",
          "state": {
            "_view_name": "LayoutView",
            "grid_template_rows": null,
            "right": null,
            "justify_content": null,
            "_view_module": "@jupyter-widgets/base",
            "overflow": null,
            "_model_module_version": "1.2.0",
            "_view_count": null,
            "flex_flow": null,
            "width": null,
            "min_width": null,
            "border": null,
            "align_items": null,
            "bottom": null,
            "_model_module": "@jupyter-widgets/base",
            "top": null,
            "grid_column": null,
            "overflow_y": null,
            "overflow_x": null,
            "grid_auto_flow": null,
            "grid_area": null,
            "grid_template_columns": null,
            "flex": null,
            "_model_name": "LayoutModel",
            "justify_items": null,
            "grid_row": null,
            "max_height": null,
            "align_content": null,
            "visibility": null,
            "align_self": null,
            "height": null,
            "min_height": null,
            "padding": null,
            "grid_auto_rows": null,
            "grid_gap": null,
            "max_width": null,
            "order": null,
            "_view_module_version": "1.2.0",
            "grid_template_areas": null,
            "object_position": null,
            "object_fit": null,
            "grid_auto_columns": null,
            "margin": null,
            "display": null,
            "left": null
          }
        },
        "9342fc8549b742c4855c7f1c9f74b865": {
          "model_module": "@jupyter-widgets/controls",
          "model_name": "DescriptionStyleModel",
          "state": {
            "_view_name": "StyleView",
            "_model_name": "DescriptionStyleModel",
            "description_width": "",
            "_view_module": "@jupyter-widgets/base",
            "_model_module_version": "1.5.0",
            "_view_count": null,
            "_view_module_version": "1.2.0",
            "_model_module": "@jupyter-widgets/controls"
          }
        },
        "2940188644ba42b9a23bc816b184615d": {
          "model_module": "@jupyter-widgets/base",
          "model_name": "LayoutModel",
          "state": {
            "_view_name": "LayoutView",
            "grid_template_rows": null,
            "right": null,
            "justify_content": null,
            "_view_module": "@jupyter-widgets/base",
            "overflow": null,
            "_model_module_version": "1.2.0",
            "_view_count": null,
            "flex_flow": null,
            "width": null,
            "min_width": null,
            "border": null,
            "align_items": null,
            "bottom": null,
            "_model_module": "@jupyter-widgets/base",
            "top": null,
            "grid_column": null,
            "overflow_y": null,
            "overflow_x": null,
            "grid_auto_flow": null,
            "grid_area": null,
            "grid_template_columns": null,
            "flex": null,
            "_model_name": "LayoutModel",
            "justify_items": null,
            "grid_row": null,
            "max_height": null,
            "align_content": null,
            "visibility": null,
            "align_self": null,
            "height": null,
            "min_height": null,
            "padding": null,
            "grid_auto_rows": null,
            "grid_gap": null,
            "max_width": null,
            "order": null,
            "_view_module_version": "1.2.0",
            "grid_template_areas": null,
            "object_position": null,
            "object_fit": null,
            "grid_auto_columns": null,
            "margin": null,
            "display": null,
            "left": null
          }
        },
        "d8b8de2854284220a65ccb59c01c0e57": {
          "model_module": "@jupyter-widgets/controls",
          "model_name": "HBoxModel",
          "state": {
            "_view_name": "HBoxView",
            "_dom_classes": [],
            "_model_name": "HBoxModel",
            "_view_module": "@jupyter-widgets/controls",
            "_model_module_version": "1.5.0",
            "_view_count": null,
            "_view_module_version": "1.5.0",
            "box_style": "",
            "layout": "IPY_MODEL_77f755c8f5e04919938ec59345857d06",
            "_model_module": "@jupyter-widgets/controls",
            "children": [
              "IPY_MODEL_eb574ad60ff04a3aa1796507b2f74590",
              "IPY_MODEL_8594c47181a04be2bc2fa8335919facf"
            ]
          }
        },
        "77f755c8f5e04919938ec59345857d06": {
          "model_module": "@jupyter-widgets/base",
          "model_name": "LayoutModel",
          "state": {
            "_view_name": "LayoutView",
            "grid_template_rows": null,
            "right": null,
            "justify_content": null,
            "_view_module": "@jupyter-widgets/base",
            "overflow": null,
            "_model_module_version": "1.2.0",
            "_view_count": null,
            "flex_flow": null,
            "width": null,
            "min_width": null,
            "border": null,
            "align_items": null,
            "bottom": null,
            "_model_module": "@jupyter-widgets/base",
            "top": null,
            "grid_column": null,
            "overflow_y": null,
            "overflow_x": null,
            "grid_auto_flow": null,
            "grid_area": null,
            "grid_template_columns": null,
            "flex": null,
            "_model_name": "LayoutModel",
            "justify_items": null,
            "grid_row": null,
            "max_height": null,
            "align_content": null,
            "visibility": null,
            "align_self": null,
            "height": null,
            "min_height": null,
            "padding": null,
            "grid_auto_rows": null,
            "grid_gap": null,
            "max_width": null,
            "order": null,
            "_view_module_version": "1.2.0",
            "grid_template_areas": null,
            "object_position": null,
            "object_fit": null,
            "grid_auto_columns": null,
            "margin": null,
            "display": null,
            "left": null
          }
        },
        "eb574ad60ff04a3aa1796507b2f74590": {
          "model_module": "@jupyter-widgets/controls",
          "model_name": "FloatProgressModel",
          "state": {
            "_view_name": "ProgressView",
            "style": "IPY_MODEL_767053739478482499ea91e98784b86b",
            "_dom_classes": [],
            "description": "[loss: 1.076, precision: 0.777, recall: 0.532, f1: 0.629, accuracy: 0.959, val_loss: 1.224, val_precision: 0.749, val_recall: 0.509, val_f1: 0.603, val_accuracy: 0.956] : 100%",
            "_model_name": "FloatProgressModel",
            "bar_style": "",
            "max": 9914,
            "_view_module": "@jupyter-widgets/controls",
            "_model_module_version": "1.5.0",
            "value": 9914,
            "_view_count": null,
            "_view_module_version": "1.5.0",
            "orientation": "horizontal",
            "min": 0,
            "description_tooltip": null,
            "_model_module": "@jupyter-widgets/controls",
            "layout": "IPY_MODEL_e62868dc4679498c9daabdf3632781a5"
          }
        },
        "8594c47181a04be2bc2fa8335919facf": {
          "model_module": "@jupyter-widgets/controls",
          "model_name": "HTMLModel",
          "state": {
            "_view_name": "HTMLView",
            "style": "IPY_MODEL_396304fd805147f6b953ec530766237c",
            "_dom_classes": [],
            "description": "",
            "_model_name": "HTMLModel",
            "placeholder": "​",
            "_view_module": "@jupyter-widgets/controls",
            "_model_module_version": "1.5.0",
            "value": " 9914/9914 [00:12&lt;00:00, 64.41it/s]",
            "_view_count": null,
            "_view_module_version": "1.5.0",
            "description_tooltip": null,
            "_model_module": "@jupyter-widgets/controls",
            "layout": "IPY_MODEL_1d62d5b2e7374a95a16fdcb6c22187aa"
          }
        },
        "767053739478482499ea91e98784b86b": {
          "model_module": "@jupyter-widgets/controls",
          "model_name": "ProgressStyleModel",
          "state": {
            "_view_name": "StyleView",
            "_model_name": "ProgressStyleModel",
            "description_width": "initial",
            "_view_module": "@jupyter-widgets/base",
            "_model_module_version": "1.5.0",
            "_view_count": null,
            "_view_module_version": "1.2.0",
            "bar_color": null,
            "_model_module": "@jupyter-widgets/controls"
          }
        },
        "e62868dc4679498c9daabdf3632781a5": {
          "model_module": "@jupyter-widgets/base",
          "model_name": "LayoutModel",
          "state": {
            "_view_name": "LayoutView",
            "grid_template_rows": null,
            "right": null,
            "justify_content": null,
            "_view_module": "@jupyter-widgets/base",
            "overflow": null,
            "_model_module_version": "1.2.0",
            "_view_count": null,
            "flex_flow": null,
            "width": null,
            "min_width": null,
            "border": null,
            "align_items": null,
            "bottom": null,
            "_model_module": "@jupyter-widgets/base",
            "top": null,
            "grid_column": null,
            "overflow_y": null,
            "overflow_x": null,
            "grid_auto_flow": null,
            "grid_area": null,
            "grid_template_columns": null,
            "flex": null,
            "_model_name": "LayoutModel",
            "justify_items": null,
            "grid_row": null,
            "max_height": null,
            "align_content": null,
            "visibility": null,
            "align_self": null,
            "height": null,
            "min_height": null,
            "padding": null,
            "grid_auto_rows": null,
            "grid_gap": null,
            "max_width": null,
            "order": null,
            "_view_module_version": "1.2.0",
            "grid_template_areas": null,
            "object_position": null,
            "object_fit": null,
            "grid_auto_columns": null,
            "margin": null,
            "display": null,
            "left": null
          }
        },
        "396304fd805147f6b953ec530766237c": {
          "model_module": "@jupyter-widgets/controls",
          "model_name": "DescriptionStyleModel",
          "state": {
            "_view_name": "StyleView",
            "_model_name": "DescriptionStyleModel",
            "description_width": "",
            "_view_module": "@jupyter-widgets/base",
            "_model_module_version": "1.5.0",
            "_view_count": null,
            "_view_module_version": "1.2.0",
            "_model_module": "@jupyter-widgets/controls"
          }
        },
        "1d62d5b2e7374a95a16fdcb6c22187aa": {
          "model_module": "@jupyter-widgets/base",
          "model_name": "LayoutModel",
          "state": {
            "_view_name": "LayoutView",
            "grid_template_rows": null,
            "right": null,
            "justify_content": null,
            "_view_module": "@jupyter-widgets/base",
            "overflow": null,
            "_model_module_version": "1.2.0",
            "_view_count": null,
            "flex_flow": null,
            "width": null,
            "min_width": null,
            "border": null,
            "align_items": null,
            "bottom": null,
            "_model_module": "@jupyter-widgets/base",
            "top": null,
            "grid_column": null,
            "overflow_y": null,
            "overflow_x": null,
            "grid_auto_flow": null,
            "grid_area": null,
            "grid_template_columns": null,
            "flex": null,
            "_model_name": "LayoutModel",
            "justify_items": null,
            "grid_row": null,
            "max_height": null,
            "align_content": null,
            "visibility": null,
            "align_self": null,
            "height": null,
            "min_height": null,
            "padding": null,
            "grid_auto_rows": null,
            "grid_gap": null,
            "max_width": null,
            "order": null,
            "_view_module_version": "1.2.0",
            "grid_template_areas": null,
            "object_position": null,
            "object_fit": null,
            "grid_auto_columns": null,
            "margin": null,
            "display": null,
            "left": null
          }
        },
        "56d60869fd6a4d5fa88e3c0c83266500": {
          "model_module": "@jupyter-widgets/controls",
          "model_name": "HBoxModel",
          "state": {
            "_view_name": "HBoxView",
            "_dom_classes": [],
            "_model_name": "HBoxModel",
            "_view_module": "@jupyter-widgets/controls",
            "_model_module_version": "1.5.0",
            "_view_count": null,
            "_view_module_version": "1.5.0",
            "box_style": "",
            "layout": "IPY_MODEL_7c7dc0bfebd545c3886cfe77c7ac2e94",
            "_model_module": "@jupyter-widgets/controls",
            "children": [
              "IPY_MODEL_df8b4d2218aa49139806dc05c3fcf8d7",
              "IPY_MODEL_dbce1f668804494daae0b122273d2de5"
            ]
          }
        },
        "7c7dc0bfebd545c3886cfe77c7ac2e94": {
          "model_module": "@jupyter-widgets/base",
          "model_name": "LayoutModel",
          "state": {
            "_view_name": "LayoutView",
            "grid_template_rows": null,
            "right": null,
            "justify_content": null,
            "_view_module": "@jupyter-widgets/base",
            "overflow": null,
            "_model_module_version": "1.2.0",
            "_view_count": null,
            "flex_flow": null,
            "width": null,
            "min_width": null,
            "border": null,
            "align_items": null,
            "bottom": null,
            "_model_module": "@jupyter-widgets/base",
            "top": null,
            "grid_column": null,
            "overflow_y": null,
            "overflow_x": null,
            "grid_auto_flow": null,
            "grid_area": null,
            "grid_template_columns": null,
            "flex": null,
            "_model_name": "LayoutModel",
            "justify_items": null,
            "grid_row": null,
            "max_height": null,
            "align_content": null,
            "visibility": null,
            "align_self": null,
            "height": null,
            "min_height": null,
            "padding": null,
            "grid_auto_rows": null,
            "grid_gap": null,
            "max_width": null,
            "order": null,
            "_view_module_version": "1.2.0",
            "grid_template_areas": null,
            "object_position": null,
            "object_fit": null,
            "grid_auto_columns": null,
            "margin": null,
            "display": null,
            "left": null
          }
        },
        "df8b4d2218aa49139806dc05c3fcf8d7": {
          "model_module": "@jupyter-widgets/controls",
          "model_name": "FloatProgressModel",
          "state": {
            "_view_name": "ProgressView",
            "style": "IPY_MODEL_ab9e2bdd95904118b13cfbacd3b224bd",
            "_dom_classes": [],
            "description": "[loss: 1.042, precision: 0.784, recall: 0.545, f1: 0.641, accuracy: 0.960, val_loss: 1.232, val_precision: 0.767, val_recall: 0.486, val_f1: 0.592, val_accuracy: 0.956] : 100%",
            "_model_name": "FloatProgressModel",
            "bar_style": "",
            "max": 9914,
            "_view_module": "@jupyter-widgets/controls",
            "_model_module_version": "1.5.0",
            "value": 9914,
            "_view_count": null,
            "_view_module_version": "1.5.0",
            "orientation": "horizontal",
            "min": 0,
            "description_tooltip": null,
            "_model_module": "@jupyter-widgets/controls",
            "layout": "IPY_MODEL_b13ed16139614d9a8c2dae54a17b9fab"
          }
        },
        "dbce1f668804494daae0b122273d2de5": {
          "model_module": "@jupyter-widgets/controls",
          "model_name": "HTMLModel",
          "state": {
            "_view_name": "HTMLView",
            "style": "IPY_MODEL_4c75d83560174bda9a9e49f87f826993",
            "_dom_classes": [],
            "description": "",
            "_model_name": "HTMLModel",
            "placeholder": "​",
            "_view_module": "@jupyter-widgets/controls",
            "_model_module_version": "1.5.0",
            "value": " 9914/9914 [00:12&lt;00:00, 144.15it/s]",
            "_view_count": null,
            "_view_module_version": "1.5.0",
            "description_tooltip": null,
            "_model_module": "@jupyter-widgets/controls",
            "layout": "IPY_MODEL_d12363919e7e417386edd2699f373b59"
          }
        },
        "ab9e2bdd95904118b13cfbacd3b224bd": {
          "model_module": "@jupyter-widgets/controls",
          "model_name": "ProgressStyleModel",
          "state": {
            "_view_name": "StyleView",
            "_model_name": "ProgressStyleModel",
            "description_width": "initial",
            "_view_module": "@jupyter-widgets/base",
            "_model_module_version": "1.5.0",
            "_view_count": null,
            "_view_module_version": "1.2.0",
            "bar_color": null,
            "_model_module": "@jupyter-widgets/controls"
          }
        },
        "b13ed16139614d9a8c2dae54a17b9fab": {
          "model_module": "@jupyter-widgets/base",
          "model_name": "LayoutModel",
          "state": {
            "_view_name": "LayoutView",
            "grid_template_rows": null,
            "right": null,
            "justify_content": null,
            "_view_module": "@jupyter-widgets/base",
            "overflow": null,
            "_model_module_version": "1.2.0",
            "_view_count": null,
            "flex_flow": null,
            "width": null,
            "min_width": null,
            "border": null,
            "align_items": null,
            "bottom": null,
            "_model_module": "@jupyter-widgets/base",
            "top": null,
            "grid_column": null,
            "overflow_y": null,
            "overflow_x": null,
            "grid_auto_flow": null,
            "grid_area": null,
            "grid_template_columns": null,
            "flex": null,
            "_model_name": "LayoutModel",
            "justify_items": null,
            "grid_row": null,
            "max_height": null,
            "align_content": null,
            "visibility": null,
            "align_self": null,
            "height": null,
            "min_height": null,
            "padding": null,
            "grid_auto_rows": null,
            "grid_gap": null,
            "max_width": null,
            "order": null,
            "_view_module_version": "1.2.0",
            "grid_template_areas": null,
            "object_position": null,
            "object_fit": null,
            "grid_auto_columns": null,
            "margin": null,
            "display": null,
            "left": null
          }
        },
        "4c75d83560174bda9a9e49f87f826993": {
          "model_module": "@jupyter-widgets/controls",
          "model_name": "DescriptionStyleModel",
          "state": {
            "_view_name": "StyleView",
            "_model_name": "DescriptionStyleModel",
            "description_width": "",
            "_view_module": "@jupyter-widgets/base",
            "_model_module_version": "1.5.0",
            "_view_count": null,
            "_view_module_version": "1.2.0",
            "_model_module": "@jupyter-widgets/controls"
          }
        },
        "d12363919e7e417386edd2699f373b59": {
          "model_module": "@jupyter-widgets/base",
          "model_name": "LayoutModel",
          "state": {
            "_view_name": "LayoutView",
            "grid_template_rows": null,
            "right": null,
            "justify_content": null,
            "_view_module": "@jupyter-widgets/base",
            "overflow": null,
            "_model_module_version": "1.2.0",
            "_view_count": null,
            "flex_flow": null,
            "width": null,
            "min_width": null,
            "border": null,
            "align_items": null,
            "bottom": null,
            "_model_module": "@jupyter-widgets/base",
            "top": null,
            "grid_column": null,
            "overflow_y": null,
            "overflow_x": null,
            "grid_auto_flow": null,
            "grid_area": null,
            "grid_template_columns": null,
            "flex": null,
            "_model_name": "LayoutModel",
            "justify_items": null,
            "grid_row": null,
            "max_height": null,
            "align_content": null,
            "visibility": null,
            "align_self": null,
            "height": null,
            "min_height": null,
            "padding": null,
            "grid_auto_rows": null,
            "grid_gap": null,
            "max_width": null,
            "order": null,
            "_view_module_version": "1.2.0",
            "grid_template_areas": null,
            "object_position": null,
            "object_fit": null,
            "grid_auto_columns": null,
            "margin": null,
            "display": null,
            "left": null
          }
        },
        "b045ca527a21451bb7aefb376aa67054": {
          "model_module": "@jupyter-widgets/controls",
          "model_name": "HBoxModel",
          "state": {
            "_view_name": "HBoxView",
            "_dom_classes": [],
            "_model_name": "HBoxModel",
            "_view_module": "@jupyter-widgets/controls",
            "_model_module_version": "1.5.0",
            "_view_count": null,
            "_view_module_version": "1.5.0",
            "box_style": "",
            "layout": "IPY_MODEL_ca190a938a8c426994235c3e2d59690d",
            "_model_module": "@jupyter-widgets/controls",
            "children": [
              "IPY_MODEL_c49d5425f66d44b4b0b689a37555e6cf",
              "IPY_MODEL_7509e17c2d294260bee753a08699acce"
            ]
          }
        },
        "ca190a938a8c426994235c3e2d59690d": {
          "model_module": "@jupyter-widgets/base",
          "model_name": "LayoutModel",
          "state": {
            "_view_name": "LayoutView",
            "grid_template_rows": null,
            "right": null,
            "justify_content": null,
            "_view_module": "@jupyter-widgets/base",
            "overflow": null,
            "_model_module_version": "1.2.0",
            "_view_count": null,
            "flex_flow": null,
            "width": null,
            "min_width": null,
            "border": null,
            "align_items": null,
            "bottom": null,
            "_model_module": "@jupyter-widgets/base",
            "top": null,
            "grid_column": null,
            "overflow_y": null,
            "overflow_x": null,
            "grid_auto_flow": null,
            "grid_area": null,
            "grid_template_columns": null,
            "flex": null,
            "_model_name": "LayoutModel",
            "justify_items": null,
            "grid_row": null,
            "max_height": null,
            "align_content": null,
            "visibility": null,
            "align_self": null,
            "height": null,
            "min_height": null,
            "padding": null,
            "grid_auto_rows": null,
            "grid_gap": null,
            "max_width": null,
            "order": null,
            "_view_module_version": "1.2.0",
            "grid_template_areas": null,
            "object_position": null,
            "object_fit": null,
            "grid_auto_columns": null,
            "margin": null,
            "display": null,
            "left": null
          }
        },
        "c49d5425f66d44b4b0b689a37555e6cf": {
          "model_module": "@jupyter-widgets/controls",
          "model_name": "FloatProgressModel",
          "state": {
            "_view_name": "ProgressView",
            "style": "IPY_MODEL_57239f23c5f04941aa68db3a67148110",
            "_dom_classes": [],
            "description": "[loss: 0.990, precision: 0.787, recall: 0.566, f1: 0.656, accuracy: 0.961, val_loss: 1.232, val_precision: 0.747, val_recall: 0.500, val_f1: 0.597, val_accuracy: 0.956] : 100%",
            "_model_name": "FloatProgressModel",
            "bar_style": "",
            "max": 9914,
            "_view_module": "@jupyter-widgets/controls",
            "_model_module_version": "1.5.0",
            "value": 9914,
            "_view_count": null,
            "_view_module_version": "1.5.0",
            "orientation": "horizontal",
            "min": 0,
            "description_tooltip": null,
            "_model_module": "@jupyter-widgets/controls",
            "layout": "IPY_MODEL_6fe7990fa5c04f5f8f0766af1899f9aa"
          }
        },
        "7509e17c2d294260bee753a08699acce": {
          "model_module": "@jupyter-widgets/controls",
          "model_name": "HTMLModel",
          "state": {
            "_view_name": "HTMLView",
            "style": "IPY_MODEL_7b2d93ac1602418d80313eb077922b39",
            "_dom_classes": [],
            "description": "",
            "_model_name": "HTMLModel",
            "placeholder": "​",
            "_view_module": "@jupyter-widgets/controls",
            "_model_module_version": "1.5.0",
            "value": " 9914/9914 [00:11&lt;00:00, 69.29it/s]",
            "_view_count": null,
            "_view_module_version": "1.5.0",
            "description_tooltip": null,
            "_model_module": "@jupyter-widgets/controls",
            "layout": "IPY_MODEL_e8581c56921c45d387739907aeb87b61"
          }
        },
        "57239f23c5f04941aa68db3a67148110": {
          "model_module": "@jupyter-widgets/controls",
          "model_name": "ProgressStyleModel",
          "state": {
            "_view_name": "StyleView",
            "_model_name": "ProgressStyleModel",
            "description_width": "initial",
            "_view_module": "@jupyter-widgets/base",
            "_model_module_version": "1.5.0",
            "_view_count": null,
            "_view_module_version": "1.2.0",
            "bar_color": null,
            "_model_module": "@jupyter-widgets/controls"
          }
        },
        "6fe7990fa5c04f5f8f0766af1899f9aa": {
          "model_module": "@jupyter-widgets/base",
          "model_name": "LayoutModel",
          "state": {
            "_view_name": "LayoutView",
            "grid_template_rows": null,
            "right": null,
            "justify_content": null,
            "_view_module": "@jupyter-widgets/base",
            "overflow": null,
            "_model_module_version": "1.2.0",
            "_view_count": null,
            "flex_flow": null,
            "width": null,
            "min_width": null,
            "border": null,
            "align_items": null,
            "bottom": null,
            "_model_module": "@jupyter-widgets/base",
            "top": null,
            "grid_column": null,
            "overflow_y": null,
            "overflow_x": null,
            "grid_auto_flow": null,
            "grid_area": null,
            "grid_template_columns": null,
            "flex": null,
            "_model_name": "LayoutModel",
            "justify_items": null,
            "grid_row": null,
            "max_height": null,
            "align_content": null,
            "visibility": null,
            "align_self": null,
            "height": null,
            "min_height": null,
            "padding": null,
            "grid_auto_rows": null,
            "grid_gap": null,
            "max_width": null,
            "order": null,
            "_view_module_version": "1.2.0",
            "grid_template_areas": null,
            "object_position": null,
            "object_fit": null,
            "grid_auto_columns": null,
            "margin": null,
            "display": null,
            "left": null
          }
        },
        "7b2d93ac1602418d80313eb077922b39": {
          "model_module": "@jupyter-widgets/controls",
          "model_name": "DescriptionStyleModel",
          "state": {
            "_view_name": "StyleView",
            "_model_name": "DescriptionStyleModel",
            "description_width": "",
            "_view_module": "@jupyter-widgets/base",
            "_model_module_version": "1.5.0",
            "_view_count": null,
            "_view_module_version": "1.2.0",
            "_model_module": "@jupyter-widgets/controls"
          }
        },
        "e8581c56921c45d387739907aeb87b61": {
          "model_module": "@jupyter-widgets/base",
          "model_name": "LayoutModel",
          "state": {
            "_view_name": "LayoutView",
            "grid_template_rows": null,
            "right": null,
            "justify_content": null,
            "_view_module": "@jupyter-widgets/base",
            "overflow": null,
            "_model_module_version": "1.2.0",
            "_view_count": null,
            "flex_flow": null,
            "width": null,
            "min_width": null,
            "border": null,
            "align_items": null,
            "bottom": null,
            "_model_module": "@jupyter-widgets/base",
            "top": null,
            "grid_column": null,
            "overflow_y": null,
            "overflow_x": null,
            "grid_auto_flow": null,
            "grid_area": null,
            "grid_template_columns": null,
            "flex": null,
            "_model_name": "LayoutModel",
            "justify_items": null,
            "grid_row": null,
            "max_height": null,
            "align_content": null,
            "visibility": null,
            "align_self": null,
            "height": null,
            "min_height": null,
            "padding": null,
            "grid_auto_rows": null,
            "grid_gap": null,
            "max_width": null,
            "order": null,
            "_view_module_version": "1.2.0",
            "grid_template_areas": null,
            "object_position": null,
            "object_fit": null,
            "grid_auto_columns": null,
            "margin": null,
            "display": null,
            "left": null
          }
        },
        "da8bc9514c8449a7b8dd76b7f27c7f22": {
          "model_module": "@jupyter-widgets/controls",
          "model_name": "HBoxModel",
          "state": {
            "_view_name": "HBoxView",
            "_dom_classes": [],
            "_model_name": "HBoxModel",
            "_view_module": "@jupyter-widgets/controls",
            "_model_module_version": "1.5.0",
            "_view_count": null,
            "_view_module_version": "1.5.0",
            "box_style": "",
            "layout": "IPY_MODEL_2e12a6c34b51455a90bbddab3a5039d1",
            "_model_module": "@jupyter-widgets/controls",
            "children": [
              "IPY_MODEL_d26f41e42bdf42ce8994c43a402dda9f",
              "IPY_MODEL_1a15028f25454e7d846e91f9caed7760"
            ]
          }
        },
        "2e12a6c34b51455a90bbddab3a5039d1": {
          "model_module": "@jupyter-widgets/base",
          "model_name": "LayoutModel",
          "state": {
            "_view_name": "LayoutView",
            "grid_template_rows": null,
            "right": null,
            "justify_content": null,
            "_view_module": "@jupyter-widgets/base",
            "overflow": null,
            "_model_module_version": "1.2.0",
            "_view_count": null,
            "flex_flow": null,
            "width": null,
            "min_width": null,
            "border": null,
            "align_items": null,
            "bottom": null,
            "_model_module": "@jupyter-widgets/base",
            "top": null,
            "grid_column": null,
            "overflow_y": null,
            "overflow_x": null,
            "grid_auto_flow": null,
            "grid_area": null,
            "grid_template_columns": null,
            "flex": null,
            "_model_name": "LayoutModel",
            "justify_items": null,
            "grid_row": null,
            "max_height": null,
            "align_content": null,
            "visibility": null,
            "align_self": null,
            "height": null,
            "min_height": null,
            "padding": null,
            "grid_auto_rows": null,
            "grid_gap": null,
            "max_width": null,
            "order": null,
            "_view_module_version": "1.2.0",
            "grid_template_areas": null,
            "object_position": null,
            "object_fit": null,
            "grid_auto_columns": null,
            "margin": null,
            "display": null,
            "left": null
          }
        },
        "d26f41e42bdf42ce8994c43a402dda9f": {
          "model_module": "@jupyter-widgets/controls",
          "model_name": "FloatProgressModel",
          "state": {
            "_view_name": "ProgressView",
            "style": "IPY_MODEL_37af636b251f4e80ab7edadcb55e754b",
            "_dom_classes": [],
            "description": "[loss: 0.960, precision: 0.796, recall: 0.584, f1: 0.672, accuracy: 0.962, val_loss: 1.265, val_precision: 0.722, val_recall: 0.538, val_f1: 0.615, val_accuracy: 0.956] : 100%",
            "_model_name": "FloatProgressModel",
            "bar_style": "",
            "max": 9914,
            "_view_module": "@jupyter-widgets/controls",
            "_model_module_version": "1.5.0",
            "value": 9914,
            "_view_count": null,
            "_view_module_version": "1.5.0",
            "orientation": "horizontal",
            "min": 0,
            "description_tooltip": null,
            "_model_module": "@jupyter-widgets/controls",
            "layout": "IPY_MODEL_efe004e5e2e749dba125948df42ce06e"
          }
        },
        "1a15028f25454e7d846e91f9caed7760": {
          "model_module": "@jupyter-widgets/controls",
          "model_name": "HTMLModel",
          "state": {
            "_view_name": "HTMLView",
            "style": "IPY_MODEL_5cd0da6ef1194cf88d3a477a1a770d2f",
            "_dom_classes": [],
            "description": "",
            "_model_name": "HTMLModel",
            "placeholder": "​",
            "_view_module": "@jupyter-widgets/controls",
            "_model_module_version": "1.5.0",
            "value": " 9914/9914 [00:11&lt;00:00, 141.76it/s]",
            "_view_count": null,
            "_view_module_version": "1.5.0",
            "description_tooltip": null,
            "_model_module": "@jupyter-widgets/controls",
            "layout": "IPY_MODEL_e0f60af664e9499c8ada2074c1cf565c"
          }
        },
        "37af636b251f4e80ab7edadcb55e754b": {
          "model_module": "@jupyter-widgets/controls",
          "model_name": "ProgressStyleModel",
          "state": {
            "_view_name": "StyleView",
            "_model_name": "ProgressStyleModel",
            "description_width": "initial",
            "_view_module": "@jupyter-widgets/base",
            "_model_module_version": "1.5.0",
            "_view_count": null,
            "_view_module_version": "1.2.0",
            "bar_color": null,
            "_model_module": "@jupyter-widgets/controls"
          }
        },
        "efe004e5e2e749dba125948df42ce06e": {
          "model_module": "@jupyter-widgets/base",
          "model_name": "LayoutModel",
          "state": {
            "_view_name": "LayoutView",
            "grid_template_rows": null,
            "right": null,
            "justify_content": null,
            "_view_module": "@jupyter-widgets/base",
            "overflow": null,
            "_model_module_version": "1.2.0",
            "_view_count": null,
            "flex_flow": null,
            "width": null,
            "min_width": null,
            "border": null,
            "align_items": null,
            "bottom": null,
            "_model_module": "@jupyter-widgets/base",
            "top": null,
            "grid_column": null,
            "overflow_y": null,
            "overflow_x": null,
            "grid_auto_flow": null,
            "grid_area": null,
            "grid_template_columns": null,
            "flex": null,
            "_model_name": "LayoutModel",
            "justify_items": null,
            "grid_row": null,
            "max_height": null,
            "align_content": null,
            "visibility": null,
            "align_self": null,
            "height": null,
            "min_height": null,
            "padding": null,
            "grid_auto_rows": null,
            "grid_gap": null,
            "max_width": null,
            "order": null,
            "_view_module_version": "1.2.0",
            "grid_template_areas": null,
            "object_position": null,
            "object_fit": null,
            "grid_auto_columns": null,
            "margin": null,
            "display": null,
            "left": null
          }
        },
        "5cd0da6ef1194cf88d3a477a1a770d2f": {
          "model_module": "@jupyter-widgets/controls",
          "model_name": "DescriptionStyleModel",
          "state": {
            "_view_name": "StyleView",
            "_model_name": "DescriptionStyleModel",
            "description_width": "",
            "_view_module": "@jupyter-widgets/base",
            "_model_module_version": "1.5.0",
            "_view_count": null,
            "_view_module_version": "1.2.0",
            "_model_module": "@jupyter-widgets/controls"
          }
        },
        "e0f60af664e9499c8ada2074c1cf565c": {
          "model_module": "@jupyter-widgets/base",
          "model_name": "LayoutModel",
          "state": {
            "_view_name": "LayoutView",
            "grid_template_rows": null,
            "right": null,
            "justify_content": null,
            "_view_module": "@jupyter-widgets/base",
            "overflow": null,
            "_model_module_version": "1.2.0",
            "_view_count": null,
            "flex_flow": null,
            "width": null,
            "min_width": null,
            "border": null,
            "align_items": null,
            "bottom": null,
            "_model_module": "@jupyter-widgets/base",
            "top": null,
            "grid_column": null,
            "overflow_y": null,
            "overflow_x": null,
            "grid_auto_flow": null,
            "grid_area": null,
            "grid_template_columns": null,
            "flex": null,
            "_model_name": "LayoutModel",
            "justify_items": null,
            "grid_row": null,
            "max_height": null,
            "align_content": null,
            "visibility": null,
            "align_self": null,
            "height": null,
            "min_height": null,
            "padding": null,
            "grid_auto_rows": null,
            "grid_gap": null,
            "max_width": null,
            "order": null,
            "_view_module_version": "1.2.0",
            "grid_template_areas": null,
            "object_position": null,
            "object_fit": null,
            "grid_auto_columns": null,
            "margin": null,
            "display": null,
            "left": null
          }
        },
        "b34b429721f24587a7be06388a768440": {
          "model_module": "@jupyter-widgets/controls",
          "model_name": "HBoxModel",
          "state": {
            "_view_name": "HBoxView",
            "_dom_classes": [],
            "_model_name": "HBoxModel",
            "_view_module": "@jupyter-widgets/controls",
            "_model_module_version": "1.5.0",
            "_view_count": null,
            "_view_module_version": "1.5.0",
            "box_style": "",
            "layout": "IPY_MODEL_75253c170c7c42dbb8e71be74ea35306",
            "_model_module": "@jupyter-widgets/controls",
            "children": [
              "IPY_MODEL_4cc5aa213ec44759978020a37aaa0ec6",
              "IPY_MODEL_72fbeede5cb04a2f942b60545e04b749"
            ]
          }
        },
        "75253c170c7c42dbb8e71be74ea35306": {
          "model_module": "@jupyter-widgets/base",
          "model_name": "LayoutModel",
          "state": {
            "_view_name": "LayoutView",
            "grid_template_rows": null,
            "right": null,
            "justify_content": null,
            "_view_module": "@jupyter-widgets/base",
            "overflow": null,
            "_model_module_version": "1.2.0",
            "_view_count": null,
            "flex_flow": null,
            "width": null,
            "min_width": null,
            "border": null,
            "align_items": null,
            "bottom": null,
            "_model_module": "@jupyter-widgets/base",
            "top": null,
            "grid_column": null,
            "overflow_y": null,
            "overflow_x": null,
            "grid_auto_flow": null,
            "grid_area": null,
            "grid_template_columns": null,
            "flex": null,
            "_model_name": "LayoutModel",
            "justify_items": null,
            "grid_row": null,
            "max_height": null,
            "align_content": null,
            "visibility": null,
            "align_self": null,
            "height": null,
            "min_height": null,
            "padding": null,
            "grid_auto_rows": null,
            "grid_gap": null,
            "max_width": null,
            "order": null,
            "_view_module_version": "1.2.0",
            "grid_template_areas": null,
            "object_position": null,
            "object_fit": null,
            "grid_auto_columns": null,
            "margin": null,
            "display": null,
            "left": null
          }
        },
        "4cc5aa213ec44759978020a37aaa0ec6": {
          "model_module": "@jupyter-widgets/controls",
          "model_name": "FloatProgressModel",
          "state": {
            "_view_name": "ProgressView",
            "style": "IPY_MODEL_b1e7bacfb4b84fd1ac2b880959feab71",
            "_dom_classes": [],
            "description": "[loss: 0.929, precision: 0.805, recall: 0.600, f1: 0.685, accuracy: 0.964, val_loss: 1.236, val_precision: 0.741, val_recall: 0.510, val_f1: 0.602, val_accuracy: 0.956] : 100%",
            "_model_name": "FloatProgressModel",
            "bar_style": "",
            "max": 9914,
            "_view_module": "@jupyter-widgets/controls",
            "_model_module_version": "1.5.0",
            "value": 9914,
            "_view_count": null,
            "_view_module_version": "1.5.0",
            "orientation": "horizontal",
            "min": 0,
            "description_tooltip": null,
            "_model_module": "@jupyter-widgets/controls",
            "layout": "IPY_MODEL_f7ba978d13e4463388383a4eec12112a"
          }
        },
        "72fbeede5cb04a2f942b60545e04b749": {
          "model_module": "@jupyter-widgets/controls",
          "model_name": "HTMLModel",
          "state": {
            "_view_name": "HTMLView",
            "style": "IPY_MODEL_14daa1292699442a9933ccb73174a233",
            "_dom_classes": [],
            "description": "",
            "_model_name": "HTMLModel",
            "placeholder": "​",
            "_view_module": "@jupyter-widgets/controls",
            "_model_module_version": "1.5.0",
            "value": " 9914/9914 [00:11&lt;00:00, 150.56it/s]",
            "_view_count": null,
            "_view_module_version": "1.5.0",
            "description_tooltip": null,
            "_model_module": "@jupyter-widgets/controls",
            "layout": "IPY_MODEL_c84cbe72c5dd4621a3b88cdba8d91310"
          }
        },
        "b1e7bacfb4b84fd1ac2b880959feab71": {
          "model_module": "@jupyter-widgets/controls",
          "model_name": "ProgressStyleModel",
          "state": {
            "_view_name": "StyleView",
            "_model_name": "ProgressStyleModel",
            "description_width": "initial",
            "_view_module": "@jupyter-widgets/base",
            "_model_module_version": "1.5.0",
            "_view_count": null,
            "_view_module_version": "1.2.0",
            "bar_color": null,
            "_model_module": "@jupyter-widgets/controls"
          }
        },
        "f7ba978d13e4463388383a4eec12112a": {
          "model_module": "@jupyter-widgets/base",
          "model_name": "LayoutModel",
          "state": {
            "_view_name": "LayoutView",
            "grid_template_rows": null,
            "right": null,
            "justify_content": null,
            "_view_module": "@jupyter-widgets/base",
            "overflow": null,
            "_model_module_version": "1.2.0",
            "_view_count": null,
            "flex_flow": null,
            "width": null,
            "min_width": null,
            "border": null,
            "align_items": null,
            "bottom": null,
            "_model_module": "@jupyter-widgets/base",
            "top": null,
            "grid_column": null,
            "overflow_y": null,
            "overflow_x": null,
            "grid_auto_flow": null,
            "grid_area": null,
            "grid_template_columns": null,
            "flex": null,
            "_model_name": "LayoutModel",
            "justify_items": null,
            "grid_row": null,
            "max_height": null,
            "align_content": null,
            "visibility": null,
            "align_self": null,
            "height": null,
            "min_height": null,
            "padding": null,
            "grid_auto_rows": null,
            "grid_gap": null,
            "max_width": null,
            "order": null,
            "_view_module_version": "1.2.0",
            "grid_template_areas": null,
            "object_position": null,
            "object_fit": null,
            "grid_auto_columns": null,
            "margin": null,
            "display": null,
            "left": null
          }
        },
        "14daa1292699442a9933ccb73174a233": {
          "model_module": "@jupyter-widgets/controls",
          "model_name": "DescriptionStyleModel",
          "state": {
            "_view_name": "StyleView",
            "_model_name": "DescriptionStyleModel",
            "description_width": "",
            "_view_module": "@jupyter-widgets/base",
            "_model_module_version": "1.5.0",
            "_view_count": null,
            "_view_module_version": "1.2.0",
            "_model_module": "@jupyter-widgets/controls"
          }
        },
        "c84cbe72c5dd4621a3b88cdba8d91310": {
          "model_module": "@jupyter-widgets/base",
          "model_name": "LayoutModel",
          "state": {
            "_view_name": "LayoutView",
            "grid_template_rows": null,
            "right": null,
            "justify_content": null,
            "_view_module": "@jupyter-widgets/base",
            "overflow": null,
            "_model_module_version": "1.2.0",
            "_view_count": null,
            "flex_flow": null,
            "width": null,
            "min_width": null,
            "border": null,
            "align_items": null,
            "bottom": null,
            "_model_module": "@jupyter-widgets/base",
            "top": null,
            "grid_column": null,
            "overflow_y": null,
            "overflow_x": null,
            "grid_auto_flow": null,
            "grid_area": null,
            "grid_template_columns": null,
            "flex": null,
            "_model_name": "LayoutModel",
            "justify_items": null,
            "grid_row": null,
            "max_height": null,
            "align_content": null,
            "visibility": null,
            "align_self": null,
            "height": null,
            "min_height": null,
            "padding": null,
            "grid_auto_rows": null,
            "grid_gap": null,
            "max_width": null,
            "order": null,
            "_view_module_version": "1.2.0",
            "grid_template_areas": null,
            "object_position": null,
            "object_fit": null,
            "grid_auto_columns": null,
            "margin": null,
            "display": null,
            "left": null
          }
        },
        "76d2d1e3f07b454d891ef02eab20e78a": {
          "model_module": "@jupyter-widgets/controls",
          "model_name": "HBoxModel",
          "state": {
            "_view_name": "HBoxView",
            "_dom_classes": [],
            "_model_name": "HBoxModel",
            "_view_module": "@jupyter-widgets/controls",
            "_model_module_version": "1.5.0",
            "_view_count": null,
            "_view_module_version": "1.5.0",
            "box_style": "",
            "layout": "IPY_MODEL_603b23fcb765443bb7b6f37becd535b0",
            "_model_module": "@jupyter-widgets/controls",
            "children": [
              "IPY_MODEL_0b1dcb59f5314ba9b67af52971b98c74",
              "IPY_MODEL_ad1d6745ba9245c5beac9540f5478362"
            ]
          }
        },
        "603b23fcb765443bb7b6f37becd535b0": {
          "model_module": "@jupyter-widgets/base",
          "model_name": "LayoutModel",
          "state": {
            "_view_name": "LayoutView",
            "grid_template_rows": null,
            "right": null,
            "justify_content": null,
            "_view_module": "@jupyter-widgets/base",
            "overflow": null,
            "_model_module_version": "1.2.0",
            "_view_count": null,
            "flex_flow": null,
            "width": null,
            "min_width": null,
            "border": null,
            "align_items": null,
            "bottom": null,
            "_model_module": "@jupyter-widgets/base",
            "top": null,
            "grid_column": null,
            "overflow_y": null,
            "overflow_x": null,
            "grid_auto_flow": null,
            "grid_area": null,
            "grid_template_columns": null,
            "flex": null,
            "_model_name": "LayoutModel",
            "justify_items": null,
            "grid_row": null,
            "max_height": null,
            "align_content": null,
            "visibility": null,
            "align_self": null,
            "height": null,
            "min_height": null,
            "padding": null,
            "grid_auto_rows": null,
            "grid_gap": null,
            "max_width": null,
            "order": null,
            "_view_module_version": "1.2.0",
            "grid_template_areas": null,
            "object_position": null,
            "object_fit": null,
            "grid_auto_columns": null,
            "margin": null,
            "display": null,
            "left": null
          }
        },
        "0b1dcb59f5314ba9b67af52971b98c74": {
          "model_module": "@jupyter-widgets/controls",
          "model_name": "FloatProgressModel",
          "state": {
            "_view_name": "ProgressView",
            "style": "IPY_MODEL_a5acbe13fad74512a95f4782065d00ff",
            "_dom_classes": [],
            "description": "[loss: 0.890, precision: 0.815, recall: 0.618, f1: 0.701, accuracy: 0.965, val_loss: 1.281, val_precision: 0.717, val_recall: 0.563, val_f1: 0.630, val_accuracy: 0.956] : 100%",
            "_model_name": "FloatProgressModel",
            "bar_style": "",
            "max": 9914,
            "_view_module": "@jupyter-widgets/controls",
            "_model_module_version": "1.5.0",
            "value": 9914,
            "_view_count": null,
            "_view_module_version": "1.5.0",
            "orientation": "horizontal",
            "min": 0,
            "description_tooltip": null,
            "_model_module": "@jupyter-widgets/controls",
            "layout": "IPY_MODEL_93fce9d888c74c96b7b319ce1582ef79"
          }
        },
        "ad1d6745ba9245c5beac9540f5478362": {
          "model_module": "@jupyter-widgets/controls",
          "model_name": "HTMLModel",
          "state": {
            "_view_name": "HTMLView",
            "style": "IPY_MODEL_62bc4f69d61d4c28b39c8c005833a0b2",
            "_dom_classes": [],
            "description": "",
            "_model_name": "HTMLModel",
            "placeholder": "​",
            "_view_module": "@jupyter-widgets/controls",
            "_model_module_version": "1.5.0",
            "value": " 9914/9914 [00:11&lt;00:00, 66.44it/s]",
            "_view_count": null,
            "_view_module_version": "1.5.0",
            "description_tooltip": null,
            "_model_module": "@jupyter-widgets/controls",
            "layout": "IPY_MODEL_0ded4604a6e24304a5e3e3617059c839"
          }
        },
        "a5acbe13fad74512a95f4782065d00ff": {
          "model_module": "@jupyter-widgets/controls",
          "model_name": "ProgressStyleModel",
          "state": {
            "_view_name": "StyleView",
            "_model_name": "ProgressStyleModel",
            "description_width": "initial",
            "_view_module": "@jupyter-widgets/base",
            "_model_module_version": "1.5.0",
            "_view_count": null,
            "_view_module_version": "1.2.0",
            "bar_color": null,
            "_model_module": "@jupyter-widgets/controls"
          }
        },
        "93fce9d888c74c96b7b319ce1582ef79": {
          "model_module": "@jupyter-widgets/base",
          "model_name": "LayoutModel",
          "state": {
            "_view_name": "LayoutView",
            "grid_template_rows": null,
            "right": null,
            "justify_content": null,
            "_view_module": "@jupyter-widgets/base",
            "overflow": null,
            "_model_module_version": "1.2.0",
            "_view_count": null,
            "flex_flow": null,
            "width": null,
            "min_width": null,
            "border": null,
            "align_items": null,
            "bottom": null,
            "_model_module": "@jupyter-widgets/base",
            "top": null,
            "grid_column": null,
            "overflow_y": null,
            "overflow_x": null,
            "grid_auto_flow": null,
            "grid_area": null,
            "grid_template_columns": null,
            "flex": null,
            "_model_name": "LayoutModel",
            "justify_items": null,
            "grid_row": null,
            "max_height": null,
            "align_content": null,
            "visibility": null,
            "align_self": null,
            "height": null,
            "min_height": null,
            "padding": null,
            "grid_auto_rows": null,
            "grid_gap": null,
            "max_width": null,
            "order": null,
            "_view_module_version": "1.2.0",
            "grid_template_areas": null,
            "object_position": null,
            "object_fit": null,
            "grid_auto_columns": null,
            "margin": null,
            "display": null,
            "left": null
          }
        },
        "62bc4f69d61d4c28b39c8c005833a0b2": {
          "model_module": "@jupyter-widgets/controls",
          "model_name": "DescriptionStyleModel",
          "state": {
            "_view_name": "StyleView",
            "_model_name": "DescriptionStyleModel",
            "description_width": "",
            "_view_module": "@jupyter-widgets/base",
            "_model_module_version": "1.5.0",
            "_view_count": null,
            "_view_module_version": "1.2.0",
            "_model_module": "@jupyter-widgets/controls"
          }
        },
        "0ded4604a6e24304a5e3e3617059c839": {
          "model_module": "@jupyter-widgets/base",
          "model_name": "LayoutModel",
          "state": {
            "_view_name": "LayoutView",
            "grid_template_rows": null,
            "right": null,
            "justify_content": null,
            "_view_module": "@jupyter-widgets/base",
            "overflow": null,
            "_model_module_version": "1.2.0",
            "_view_count": null,
            "flex_flow": null,
            "width": null,
            "min_width": null,
            "border": null,
            "align_items": null,
            "bottom": null,
            "_model_module": "@jupyter-widgets/base",
            "top": null,
            "grid_column": null,
            "overflow_y": null,
            "overflow_x": null,
            "grid_auto_flow": null,
            "grid_area": null,
            "grid_template_columns": null,
            "flex": null,
            "_model_name": "LayoutModel",
            "justify_items": null,
            "grid_row": null,
            "max_height": null,
            "align_content": null,
            "visibility": null,
            "align_self": null,
            "height": null,
            "min_height": null,
            "padding": null,
            "grid_auto_rows": null,
            "grid_gap": null,
            "max_width": null,
            "order": null,
            "_view_module_version": "1.2.0",
            "grid_template_areas": null,
            "object_position": null,
            "object_fit": null,
            "grid_auto_columns": null,
            "margin": null,
            "display": null,
            "left": null
          }
        },
        "708064143f294f2a9cae3c2d171687d4": {
          "model_module": "@jupyter-widgets/controls",
          "model_name": "HBoxModel",
          "state": {
            "_view_name": "HBoxView",
            "_dom_classes": [],
            "_model_name": "HBoxModel",
            "_view_module": "@jupyter-widgets/controls",
            "_model_module_version": "1.5.0",
            "_view_count": null,
            "_view_module_version": "1.5.0",
            "box_style": "",
            "layout": "IPY_MODEL_bcdc68ece25f4bd5bf3a128e478e6902",
            "_model_module": "@jupyter-widgets/controls",
            "children": [
              "IPY_MODEL_b4ff60f6726e4bc1bad6a3e82e241162",
              "IPY_MODEL_17424525e2e248238493217d50232934"
            ]
          }
        },
        "bcdc68ece25f4bd5bf3a128e478e6902": {
          "model_module": "@jupyter-widgets/base",
          "model_name": "LayoutModel",
          "state": {
            "_view_name": "LayoutView",
            "grid_template_rows": null,
            "right": null,
            "justify_content": null,
            "_view_module": "@jupyter-widgets/base",
            "overflow": null,
            "_model_module_version": "1.2.0",
            "_view_count": null,
            "flex_flow": null,
            "width": null,
            "min_width": null,
            "border": null,
            "align_items": null,
            "bottom": null,
            "_model_module": "@jupyter-widgets/base",
            "top": null,
            "grid_column": null,
            "overflow_y": null,
            "overflow_x": null,
            "grid_auto_flow": null,
            "grid_area": null,
            "grid_template_columns": null,
            "flex": null,
            "_model_name": "LayoutModel",
            "justify_items": null,
            "grid_row": null,
            "max_height": null,
            "align_content": null,
            "visibility": null,
            "align_self": null,
            "height": null,
            "min_height": null,
            "padding": null,
            "grid_auto_rows": null,
            "grid_gap": null,
            "max_width": null,
            "order": null,
            "_view_module_version": "1.2.0",
            "grid_template_areas": null,
            "object_position": null,
            "object_fit": null,
            "grid_auto_columns": null,
            "margin": null,
            "display": null,
            "left": null
          }
        },
        "b4ff60f6726e4bc1bad6a3e82e241162": {
          "model_module": "@jupyter-widgets/controls",
          "model_name": "FloatProgressModel",
          "state": {
            "_view_name": "ProgressView",
            "style": "IPY_MODEL_418d12f375f74e0a81792adfe3076e05",
            "_dom_classes": [],
            "description": "Training:  60%",
            "_model_name": "FloatProgressModel",
            "bar_style": "danger",
            "max": 10,
            "_view_module": "@jupyter-widgets/controls",
            "_model_module_version": "1.5.0",
            "value": 6,
            "_view_count": null,
            "_view_module_version": "1.5.0",
            "orientation": "horizontal",
            "min": 0,
            "description_tooltip": null,
            "_model_module": "@jupyter-widgets/controls",
            "layout": "IPY_MODEL_3ce1e185f4cd465d8e7009561a86886c"
          }
        },
        "17424525e2e248238493217d50232934": {
          "model_module": "@jupyter-widgets/controls",
          "model_name": "HTMLModel",
          "state": {
            "_view_name": "HTMLView",
            "style": "IPY_MODEL_8177a2a8a7924364acfd80a0cbb550dd",
            "_dom_classes": [],
            "description": "",
            "_model_name": "HTMLModel",
            "placeholder": "​",
            "_view_module": "@jupyter-widgets/controls",
            "_model_module_version": "1.5.0",
            "value": " 6/10 [00:31&lt;00:20,  5.21s/it]",
            "_view_count": null,
            "_view_module_version": "1.5.0",
            "description_tooltip": null,
            "_model_module": "@jupyter-widgets/controls",
            "layout": "IPY_MODEL_6e2da448d90e431197c7628c35a8c7ec"
          }
        },
        "418d12f375f74e0a81792adfe3076e05": {
          "model_module": "@jupyter-widgets/controls",
          "model_name": "ProgressStyleModel",
          "state": {
            "_view_name": "StyleView",
            "_model_name": "ProgressStyleModel",
            "description_width": "initial",
            "_view_module": "@jupyter-widgets/base",
            "_model_module_version": "1.5.0",
            "_view_count": null,
            "_view_module_version": "1.2.0",
            "bar_color": null,
            "_model_module": "@jupyter-widgets/controls"
          }
        },
        "3ce1e185f4cd465d8e7009561a86886c": {
          "model_module": "@jupyter-widgets/base",
          "model_name": "LayoutModel",
          "state": {
            "_view_name": "LayoutView",
            "grid_template_rows": null,
            "right": null,
            "justify_content": null,
            "_view_module": "@jupyter-widgets/base",
            "overflow": null,
            "_model_module_version": "1.2.0",
            "_view_count": null,
            "flex_flow": null,
            "width": null,
            "min_width": null,
            "border": null,
            "align_items": null,
            "bottom": null,
            "_model_module": "@jupyter-widgets/base",
            "top": null,
            "grid_column": null,
            "overflow_y": null,
            "overflow_x": null,
            "grid_auto_flow": null,
            "grid_area": null,
            "grid_template_columns": null,
            "flex": null,
            "_model_name": "LayoutModel",
            "justify_items": null,
            "grid_row": null,
            "max_height": null,
            "align_content": null,
            "visibility": null,
            "align_self": null,
            "height": null,
            "min_height": null,
            "padding": null,
            "grid_auto_rows": null,
            "grid_gap": null,
            "max_width": null,
            "order": null,
            "_view_module_version": "1.2.0",
            "grid_template_areas": null,
            "object_position": null,
            "object_fit": null,
            "grid_auto_columns": null,
            "margin": null,
            "display": null,
            "left": null
          }
        },
        "8177a2a8a7924364acfd80a0cbb550dd": {
          "model_module": "@jupyter-widgets/controls",
          "model_name": "DescriptionStyleModel",
          "state": {
            "_view_name": "StyleView",
            "_model_name": "DescriptionStyleModel",
            "description_width": "",
            "_view_module": "@jupyter-widgets/base",
            "_model_module_version": "1.5.0",
            "_view_count": null,
            "_view_module_version": "1.2.0",
            "_model_module": "@jupyter-widgets/controls"
          }
        },
        "6e2da448d90e431197c7628c35a8c7ec": {
          "model_module": "@jupyter-widgets/base",
          "model_name": "LayoutModel",
          "state": {
            "_view_name": "LayoutView",
            "grid_template_rows": null,
            "right": null,
            "justify_content": null,
            "_view_module": "@jupyter-widgets/base",
            "overflow": null,
            "_model_module_version": "1.2.0",
            "_view_count": null,
            "flex_flow": null,
            "width": null,
            "min_width": null,
            "border": null,
            "align_items": null,
            "bottom": null,
            "_model_module": "@jupyter-widgets/base",
            "top": null,
            "grid_column": null,
            "overflow_y": null,
            "overflow_x": null,
            "grid_auto_flow": null,
            "grid_area": null,
            "grid_template_columns": null,
            "flex": null,
            "_model_name": "LayoutModel",
            "justify_items": null,
            "grid_row": null,
            "max_height": null,
            "align_content": null,
            "visibility": null,
            "align_self": null,
            "height": null,
            "min_height": null,
            "padding": null,
            "grid_auto_rows": null,
            "grid_gap": null,
            "max_width": null,
            "order": null,
            "_view_module_version": "1.2.0",
            "grid_template_areas": null,
            "object_position": null,
            "object_fit": null,
            "grid_auto_columns": null,
            "margin": null,
            "display": null,
            "left": null
          }
        },
        "ccb6d0c57caf408f8952b378c920d650": {
          "model_module": "@jupyter-widgets/controls",
          "model_name": "HBoxModel",
          "state": {
            "_view_name": "HBoxView",
            "_dom_classes": [],
            "_model_name": "HBoxModel",
            "_view_module": "@jupyter-widgets/controls",
            "_model_module_version": "1.5.0",
            "_view_count": null,
            "_view_module_version": "1.5.0",
            "box_style": "",
            "layout": "IPY_MODEL_32dccb8c90574b6cbf718e312e0114a9",
            "_model_module": "@jupyter-widgets/controls",
            "children": [
              "IPY_MODEL_d65055bf770f4168b743fd573c956fed",
              "IPY_MODEL_66675756bca44147944af5073d301d94"
            ]
          }
        },
        "32dccb8c90574b6cbf718e312e0114a9": {
          "model_module": "@jupyter-widgets/base",
          "model_name": "LayoutModel",
          "state": {
            "_view_name": "LayoutView",
            "grid_template_rows": null,
            "right": null,
            "justify_content": null,
            "_view_module": "@jupyter-widgets/base",
            "overflow": null,
            "_model_module_version": "1.2.0",
            "_view_count": null,
            "flex_flow": null,
            "width": null,
            "min_width": null,
            "border": null,
            "align_items": null,
            "bottom": null,
            "_model_module": "@jupyter-widgets/base",
            "top": null,
            "grid_column": null,
            "overflow_y": null,
            "overflow_x": null,
            "grid_auto_flow": null,
            "grid_area": null,
            "grid_template_columns": null,
            "flex": null,
            "_model_name": "LayoutModel",
            "justify_items": null,
            "grid_row": null,
            "max_height": null,
            "align_content": null,
            "visibility": null,
            "align_self": null,
            "height": null,
            "min_height": null,
            "padding": null,
            "grid_auto_rows": null,
            "grid_gap": null,
            "max_width": null,
            "order": null,
            "_view_module_version": "1.2.0",
            "grid_template_areas": null,
            "object_position": null,
            "object_fit": null,
            "grid_auto_columns": null,
            "margin": null,
            "display": null,
            "left": null
          }
        },
        "d65055bf770f4168b743fd573c956fed": {
          "model_module": "@jupyter-widgets/controls",
          "model_name": "FloatProgressModel",
          "state": {
            "_view_name": "ProgressView",
            "style": "IPY_MODEL_4ab55d44a8464982849577c5b2126f73",
            "_dom_classes": [],
            "description": "[loss: 2.574, precision: 0.000, recall: 0.000, f1: nan, accuracy: 0.933, val_loss: 2.455, val_precision: 0.000, val_recall: 0.000, val_f1: nan, val_accuracy: 0.933] : 100%",
            "_model_name": "FloatProgressModel",
            "bar_style": "",
            "max": 9914,
            "_view_module": "@jupyter-widgets/controls",
            "_model_module_version": "1.5.0",
            "value": 9914,
            "_view_count": null,
            "_view_module_version": "1.5.0",
            "orientation": "horizontal",
            "min": 0,
            "description_tooltip": null,
            "_model_module": "@jupyter-widgets/controls",
            "layout": "IPY_MODEL_1f46f2a3c0284ed7867072d31cb1fc58"
          }
        },
        "66675756bca44147944af5073d301d94": {
          "model_module": "@jupyter-widgets/controls",
          "model_name": "HTMLModel",
          "state": {
            "_view_name": "HTMLView",
            "style": "IPY_MODEL_2393954e644846c6b157bf39710e8828",
            "_dom_classes": [],
            "description": "",
            "_model_name": "HTMLModel",
            "placeholder": "​",
            "_view_module": "@jupyter-widgets/controls",
            "_model_module_version": "1.5.0",
            "value": " 9914/9914 [00:05&lt;00:00, 765.48it/s]",
            "_view_count": null,
            "_view_module_version": "1.5.0",
            "description_tooltip": null,
            "_model_module": "@jupyter-widgets/controls",
            "layout": "IPY_MODEL_33007e621ad44694b249de1d2900637d"
          }
        },
        "4ab55d44a8464982849577c5b2126f73": {
          "model_module": "@jupyter-widgets/controls",
          "model_name": "ProgressStyleModel",
          "state": {
            "_view_name": "StyleView",
            "_model_name": "ProgressStyleModel",
            "description_width": "initial",
            "_view_module": "@jupyter-widgets/base",
            "_model_module_version": "1.5.0",
            "_view_count": null,
            "_view_module_version": "1.2.0",
            "bar_color": null,
            "_model_module": "@jupyter-widgets/controls"
          }
        },
        "1f46f2a3c0284ed7867072d31cb1fc58": {
          "model_module": "@jupyter-widgets/base",
          "model_name": "LayoutModel",
          "state": {
            "_view_name": "LayoutView",
            "grid_template_rows": null,
            "right": null,
            "justify_content": null,
            "_view_module": "@jupyter-widgets/base",
            "overflow": null,
            "_model_module_version": "1.2.0",
            "_view_count": null,
            "flex_flow": null,
            "width": null,
            "min_width": null,
            "border": null,
            "align_items": null,
            "bottom": null,
            "_model_module": "@jupyter-widgets/base",
            "top": null,
            "grid_column": null,
            "overflow_y": null,
            "overflow_x": null,
            "grid_auto_flow": null,
            "grid_area": null,
            "grid_template_columns": null,
            "flex": null,
            "_model_name": "LayoutModel",
            "justify_items": null,
            "grid_row": null,
            "max_height": null,
            "align_content": null,
            "visibility": null,
            "align_self": null,
            "height": null,
            "min_height": null,
            "padding": null,
            "grid_auto_rows": null,
            "grid_gap": null,
            "max_width": null,
            "order": null,
            "_view_module_version": "1.2.0",
            "grid_template_areas": null,
            "object_position": null,
            "object_fit": null,
            "grid_auto_columns": null,
            "margin": null,
            "display": null,
            "left": null
          }
        },
        "2393954e644846c6b157bf39710e8828": {
          "model_module": "@jupyter-widgets/controls",
          "model_name": "DescriptionStyleModel",
          "state": {
            "_view_name": "StyleView",
            "_model_name": "DescriptionStyleModel",
            "description_width": "",
            "_view_module": "@jupyter-widgets/base",
            "_model_module_version": "1.5.0",
            "_view_count": null,
            "_view_module_version": "1.2.0",
            "_model_module": "@jupyter-widgets/controls"
          }
        },
        "33007e621ad44694b249de1d2900637d": {
          "model_module": "@jupyter-widgets/base",
          "model_name": "LayoutModel",
          "state": {
            "_view_name": "LayoutView",
            "grid_template_rows": null,
            "right": null,
            "justify_content": null,
            "_view_module": "@jupyter-widgets/base",
            "overflow": null,
            "_model_module_version": "1.2.0",
            "_view_count": null,
            "flex_flow": null,
            "width": null,
            "min_width": null,
            "border": null,
            "align_items": null,
            "bottom": null,
            "_model_module": "@jupyter-widgets/base",
            "top": null,
            "grid_column": null,
            "overflow_y": null,
            "overflow_x": null,
            "grid_auto_flow": null,
            "grid_area": null,
            "grid_template_columns": null,
            "flex": null,
            "_model_name": "LayoutModel",
            "justify_items": null,
            "grid_row": null,
            "max_height": null,
            "align_content": null,
            "visibility": null,
            "align_self": null,
            "height": null,
            "min_height": null,
            "padding": null,
            "grid_auto_rows": null,
            "grid_gap": null,
            "max_width": null,
            "order": null,
            "_view_module_version": "1.2.0",
            "grid_template_areas": null,
            "object_position": null,
            "object_fit": null,
            "grid_auto_columns": null,
            "margin": null,
            "display": null,
            "left": null
          }
        },
        "10446464b3324749b057044c21f28bdc": {
          "model_module": "@jupyter-widgets/controls",
          "model_name": "HBoxModel",
          "state": {
            "_view_name": "HBoxView",
            "_dom_classes": [],
            "_model_name": "HBoxModel",
            "_view_module": "@jupyter-widgets/controls",
            "_model_module_version": "1.5.0",
            "_view_count": null,
            "_view_module_version": "1.5.0",
            "box_style": "",
            "layout": "IPY_MODEL_c8cab2e64c944604ba5b8deba569b4f3",
            "_model_module": "@jupyter-widgets/controls",
            "children": [
              "IPY_MODEL_2518813305d9479e89b28695a0c239b1",
              "IPY_MODEL_144f11a1c63140b991b7fd20718efea9"
            ]
          }
        },
        "c8cab2e64c944604ba5b8deba569b4f3": {
          "model_module": "@jupyter-widgets/base",
          "model_name": "LayoutModel",
          "state": {
            "_view_name": "LayoutView",
            "grid_template_rows": null,
            "right": null,
            "justify_content": null,
            "_view_module": "@jupyter-widgets/base",
            "overflow": null,
            "_model_module_version": "1.2.0",
            "_view_count": null,
            "flex_flow": null,
            "width": null,
            "min_width": null,
            "border": null,
            "align_items": null,
            "bottom": null,
            "_model_module": "@jupyter-widgets/base",
            "top": null,
            "grid_column": null,
            "overflow_y": null,
            "overflow_x": null,
            "grid_auto_flow": null,
            "grid_area": null,
            "grid_template_columns": null,
            "flex": null,
            "_model_name": "LayoutModel",
            "justify_items": null,
            "grid_row": null,
            "max_height": null,
            "align_content": null,
            "visibility": null,
            "align_self": null,
            "height": null,
            "min_height": null,
            "padding": null,
            "grid_auto_rows": null,
            "grid_gap": null,
            "max_width": null,
            "order": null,
            "_view_module_version": "1.2.0",
            "grid_template_areas": null,
            "object_position": null,
            "object_fit": null,
            "grid_auto_columns": null,
            "margin": null,
            "display": null,
            "left": null
          }
        },
        "2518813305d9479e89b28695a0c239b1": {
          "model_module": "@jupyter-widgets/controls",
          "model_name": "FloatProgressModel",
          "state": {
            "_view_name": "ProgressView",
            "style": "IPY_MODEL_f5bf58f4789a4c0d90243b80d384a23c",
            "_dom_classes": [],
            "description": "[loss: 2.350, precision: 0.000, recall: 0.000, f1: nan, accuracy: 0.933, val_loss: 2.271, val_precision: 0.000, val_recall: 0.000, val_f1: nan, val_accuracy: 0.933] : 100%",
            "_model_name": "FloatProgressModel",
            "bar_style": "",
            "max": 9914,
            "_view_module": "@jupyter-widgets/controls",
            "_model_module_version": "1.5.0",
            "value": 9914,
            "_view_count": null,
            "_view_module_version": "1.5.0",
            "orientation": "horizontal",
            "min": 0,
            "description_tooltip": null,
            "_model_module": "@jupyter-widgets/controls",
            "layout": "IPY_MODEL_06a4efabaf8f4144ab53a91b6b7d0ad1"
          }
        },
        "144f11a1c63140b991b7fd20718efea9": {
          "model_module": "@jupyter-widgets/controls",
          "model_name": "HTMLModel",
          "state": {
            "_view_name": "HTMLView",
            "style": "IPY_MODEL_df966ca91e9c4779bf0a7478c339c830",
            "_dom_classes": [],
            "description": "",
            "_model_name": "HTMLModel",
            "placeholder": "​",
            "_view_module": "@jupyter-widgets/controls",
            "_model_module_version": "1.5.0",
            "value": " 9914/9914 [00:05&lt;00:00, 723.89it/s]",
            "_view_count": null,
            "_view_module_version": "1.5.0",
            "description_tooltip": null,
            "_model_module": "@jupyter-widgets/controls",
            "layout": "IPY_MODEL_a454b5f48f6e4a9095bde01556b3ea00"
          }
        },
        "f5bf58f4789a4c0d90243b80d384a23c": {
          "model_module": "@jupyter-widgets/controls",
          "model_name": "ProgressStyleModel",
          "state": {
            "_view_name": "StyleView",
            "_model_name": "ProgressStyleModel",
            "description_width": "initial",
            "_view_module": "@jupyter-widgets/base",
            "_model_module_version": "1.5.0",
            "_view_count": null,
            "_view_module_version": "1.2.0",
            "bar_color": null,
            "_model_module": "@jupyter-widgets/controls"
          }
        },
        "06a4efabaf8f4144ab53a91b6b7d0ad1": {
          "model_module": "@jupyter-widgets/base",
          "model_name": "LayoutModel",
          "state": {
            "_view_name": "LayoutView",
            "grid_template_rows": null,
            "right": null,
            "justify_content": null,
            "_view_module": "@jupyter-widgets/base",
            "overflow": null,
            "_model_module_version": "1.2.0",
            "_view_count": null,
            "flex_flow": null,
            "width": null,
            "min_width": null,
            "border": null,
            "align_items": null,
            "bottom": null,
            "_model_module": "@jupyter-widgets/base",
            "top": null,
            "grid_column": null,
            "overflow_y": null,
            "overflow_x": null,
            "grid_auto_flow": null,
            "grid_area": null,
            "grid_template_columns": null,
            "flex": null,
            "_model_name": "LayoutModel",
            "justify_items": null,
            "grid_row": null,
            "max_height": null,
            "align_content": null,
            "visibility": null,
            "align_self": null,
            "height": null,
            "min_height": null,
            "padding": null,
            "grid_auto_rows": null,
            "grid_gap": null,
            "max_width": null,
            "order": null,
            "_view_module_version": "1.2.0",
            "grid_template_areas": null,
            "object_position": null,
            "object_fit": null,
            "grid_auto_columns": null,
            "margin": null,
            "display": null,
            "left": null
          }
        },
        "df966ca91e9c4779bf0a7478c339c830": {
          "model_module": "@jupyter-widgets/controls",
          "model_name": "DescriptionStyleModel",
          "state": {
            "_view_name": "StyleView",
            "_model_name": "DescriptionStyleModel",
            "description_width": "",
            "_view_module": "@jupyter-widgets/base",
            "_model_module_version": "1.5.0",
            "_view_count": null,
            "_view_module_version": "1.2.0",
            "_model_module": "@jupyter-widgets/controls"
          }
        },
        "a454b5f48f6e4a9095bde01556b3ea00": {
          "model_module": "@jupyter-widgets/base",
          "model_name": "LayoutModel",
          "state": {
            "_view_name": "LayoutView",
            "grid_template_rows": null,
            "right": null,
            "justify_content": null,
            "_view_module": "@jupyter-widgets/base",
            "overflow": null,
            "_model_module_version": "1.2.0",
            "_view_count": null,
            "flex_flow": null,
            "width": null,
            "min_width": null,
            "border": null,
            "align_items": null,
            "bottom": null,
            "_model_module": "@jupyter-widgets/base",
            "top": null,
            "grid_column": null,
            "overflow_y": null,
            "overflow_x": null,
            "grid_auto_flow": null,
            "grid_area": null,
            "grid_template_columns": null,
            "flex": null,
            "_model_name": "LayoutModel",
            "justify_items": null,
            "grid_row": null,
            "max_height": null,
            "align_content": null,
            "visibility": null,
            "align_self": null,
            "height": null,
            "min_height": null,
            "padding": null,
            "grid_auto_rows": null,
            "grid_gap": null,
            "max_width": null,
            "order": null,
            "_view_module_version": "1.2.0",
            "grid_template_areas": null,
            "object_position": null,
            "object_fit": null,
            "grid_auto_columns": null,
            "margin": null,
            "display": null,
            "left": null
          }
        },
        "0c1f09298e8842fca7a01278f555646b": {
          "model_module": "@jupyter-widgets/controls",
          "model_name": "HBoxModel",
          "state": {
            "_view_name": "HBoxView",
            "_dom_classes": [],
            "_model_name": "HBoxModel",
            "_view_module": "@jupyter-widgets/controls",
            "_model_module_version": "1.5.0",
            "_view_count": null,
            "_view_module_version": "1.5.0",
            "box_style": "",
            "layout": "IPY_MODEL_67357ec6fea046cdb75ae99afb7a3feb",
            "_model_module": "@jupyter-widgets/controls",
            "children": [
              "IPY_MODEL_0de5c0c0287b40479a075a39bdf6d4c5",
              "IPY_MODEL_f764e17155bd4c05bb150ae99e249f56"
            ]
          }
        },
        "67357ec6fea046cdb75ae99afb7a3feb": {
          "model_module": "@jupyter-widgets/base",
          "model_name": "LayoutModel",
          "state": {
            "_view_name": "LayoutView",
            "grid_template_rows": null,
            "right": null,
            "justify_content": null,
            "_view_module": "@jupyter-widgets/base",
            "overflow": null,
            "_model_module_version": "1.2.0",
            "_view_count": null,
            "flex_flow": null,
            "width": null,
            "min_width": null,
            "border": null,
            "align_items": null,
            "bottom": null,
            "_model_module": "@jupyter-widgets/base",
            "top": null,
            "grid_column": null,
            "overflow_y": null,
            "overflow_x": null,
            "grid_auto_flow": null,
            "grid_area": null,
            "grid_template_columns": null,
            "flex": null,
            "_model_name": "LayoutModel",
            "justify_items": null,
            "grid_row": null,
            "max_height": null,
            "align_content": null,
            "visibility": null,
            "align_self": null,
            "height": null,
            "min_height": null,
            "padding": null,
            "grid_auto_rows": null,
            "grid_gap": null,
            "max_width": null,
            "order": null,
            "_view_module_version": "1.2.0",
            "grid_template_areas": null,
            "object_position": null,
            "object_fit": null,
            "grid_auto_columns": null,
            "margin": null,
            "display": null,
            "left": null
          }
        },
        "0de5c0c0287b40479a075a39bdf6d4c5": {
          "model_module": "@jupyter-widgets/controls",
          "model_name": "FloatProgressModel",
          "state": {
            "_view_name": "ProgressView",
            "style": "IPY_MODEL_edb58ac61f4942a1b21ddfe5315878c4",
            "_dom_classes": [],
            "description": "[loss: 2.189, precision: 0.000, recall: 0.000, f1: nan, accuracy: 0.933, val_loss: 2.141, val_precision: 0.000, val_recall: 0.000, val_f1: nan, val_accuracy: 0.933] : 100%",
            "_model_name": "FloatProgressModel",
            "bar_style": "",
            "max": 9914,
            "_view_module": "@jupyter-widgets/controls",
            "_model_module_version": "1.5.0",
            "value": 9914,
            "_view_count": null,
            "_view_module_version": "1.5.0",
            "orientation": "horizontal",
            "min": 0,
            "description_tooltip": null,
            "_model_module": "@jupyter-widgets/controls",
            "layout": "IPY_MODEL_5c935bfc54144089b891e0aa88590bbc"
          }
        },
        "f764e17155bd4c05bb150ae99e249f56": {
          "model_module": "@jupyter-widgets/controls",
          "model_name": "HTMLModel",
          "state": {
            "_view_name": "HTMLView",
            "style": "IPY_MODEL_b3ea44df749740028e2dda343132a958",
            "_dom_classes": [],
            "description": "",
            "_model_name": "HTMLModel",
            "placeholder": "​",
            "_view_module": "@jupyter-widgets/controls",
            "_model_module_version": "1.5.0",
            "value": " 9914/9914 [00:05&lt;00:00, 568.69it/s]",
            "_view_count": null,
            "_view_module_version": "1.5.0",
            "description_tooltip": null,
            "_model_module": "@jupyter-widgets/controls",
            "layout": "IPY_MODEL_e0bdd3f53dda46b0a8527a1ea559467a"
          }
        },
        "edb58ac61f4942a1b21ddfe5315878c4": {
          "model_module": "@jupyter-widgets/controls",
          "model_name": "ProgressStyleModel",
          "state": {
            "_view_name": "StyleView",
            "_model_name": "ProgressStyleModel",
            "description_width": "initial",
            "_view_module": "@jupyter-widgets/base",
            "_model_module_version": "1.5.0",
            "_view_count": null,
            "_view_module_version": "1.2.0",
            "bar_color": null,
            "_model_module": "@jupyter-widgets/controls"
          }
        },
        "5c935bfc54144089b891e0aa88590bbc": {
          "model_module": "@jupyter-widgets/base",
          "model_name": "LayoutModel",
          "state": {
            "_view_name": "LayoutView",
            "grid_template_rows": null,
            "right": null,
            "justify_content": null,
            "_view_module": "@jupyter-widgets/base",
            "overflow": null,
            "_model_module_version": "1.2.0",
            "_view_count": null,
            "flex_flow": null,
            "width": null,
            "min_width": null,
            "border": null,
            "align_items": null,
            "bottom": null,
            "_model_module": "@jupyter-widgets/base",
            "top": null,
            "grid_column": null,
            "overflow_y": null,
            "overflow_x": null,
            "grid_auto_flow": null,
            "grid_area": null,
            "grid_template_columns": null,
            "flex": null,
            "_model_name": "LayoutModel",
            "justify_items": null,
            "grid_row": null,
            "max_height": null,
            "align_content": null,
            "visibility": null,
            "align_self": null,
            "height": null,
            "min_height": null,
            "padding": null,
            "grid_auto_rows": null,
            "grid_gap": null,
            "max_width": null,
            "order": null,
            "_view_module_version": "1.2.0",
            "grid_template_areas": null,
            "object_position": null,
            "object_fit": null,
            "grid_auto_columns": null,
            "margin": null,
            "display": null,
            "left": null
          }
        },
        "b3ea44df749740028e2dda343132a958": {
          "model_module": "@jupyter-widgets/controls",
          "model_name": "DescriptionStyleModel",
          "state": {
            "_view_name": "StyleView",
            "_model_name": "DescriptionStyleModel",
            "description_width": "",
            "_view_module": "@jupyter-widgets/base",
            "_model_module_version": "1.5.0",
            "_view_count": null,
            "_view_module_version": "1.2.0",
            "_model_module": "@jupyter-widgets/controls"
          }
        },
        "e0bdd3f53dda46b0a8527a1ea559467a": {
          "model_module": "@jupyter-widgets/base",
          "model_name": "LayoutModel",
          "state": {
            "_view_name": "LayoutView",
            "grid_template_rows": null,
            "right": null,
            "justify_content": null,
            "_view_module": "@jupyter-widgets/base",
            "overflow": null,
            "_model_module_version": "1.2.0",
            "_view_count": null,
            "flex_flow": null,
            "width": null,
            "min_width": null,
            "border": null,
            "align_items": null,
            "bottom": null,
            "_model_module": "@jupyter-widgets/base",
            "top": null,
            "grid_column": null,
            "overflow_y": null,
            "overflow_x": null,
            "grid_auto_flow": null,
            "grid_area": null,
            "grid_template_columns": null,
            "flex": null,
            "_model_name": "LayoutModel",
            "justify_items": null,
            "grid_row": null,
            "max_height": null,
            "align_content": null,
            "visibility": null,
            "align_self": null,
            "height": null,
            "min_height": null,
            "padding": null,
            "grid_auto_rows": null,
            "grid_gap": null,
            "max_width": null,
            "order": null,
            "_view_module_version": "1.2.0",
            "grid_template_areas": null,
            "object_position": null,
            "object_fit": null,
            "grid_auto_columns": null,
            "margin": null,
            "display": null,
            "left": null
          }
        },
        "f45660c8f4e3482294acd4db010aaf36": {
          "model_module": "@jupyter-widgets/controls",
          "model_name": "HBoxModel",
          "state": {
            "_view_name": "HBoxView",
            "_dom_classes": [],
            "_model_name": "HBoxModel",
            "_view_module": "@jupyter-widgets/controls",
            "_model_module_version": "1.5.0",
            "_view_count": null,
            "_view_module_version": "1.5.0",
            "box_style": "",
            "layout": "IPY_MODEL_efba514c263c41c6997f75224591349f",
            "_model_module": "@jupyter-widgets/controls",
            "children": [
              "IPY_MODEL_e3ae89c5675a496abefdd027583a9be1",
              "IPY_MODEL_714256f752be4ac39f8c1e5403cbc119"
            ]
          }
        },
        "efba514c263c41c6997f75224591349f": {
          "model_module": "@jupyter-widgets/base",
          "model_name": "LayoutModel",
          "state": {
            "_view_name": "LayoutView",
            "grid_template_rows": null,
            "right": null,
            "justify_content": null,
            "_view_module": "@jupyter-widgets/base",
            "overflow": null,
            "_model_module_version": "1.2.0",
            "_view_count": null,
            "flex_flow": null,
            "width": null,
            "min_width": null,
            "border": null,
            "align_items": null,
            "bottom": null,
            "_model_module": "@jupyter-widgets/base",
            "top": null,
            "grid_column": null,
            "overflow_y": null,
            "overflow_x": null,
            "grid_auto_flow": null,
            "grid_area": null,
            "grid_template_columns": null,
            "flex": null,
            "_model_name": "LayoutModel",
            "justify_items": null,
            "grid_row": null,
            "max_height": null,
            "align_content": null,
            "visibility": null,
            "align_self": null,
            "height": null,
            "min_height": null,
            "padding": null,
            "grid_auto_rows": null,
            "grid_gap": null,
            "max_width": null,
            "order": null,
            "_view_module_version": "1.2.0",
            "grid_template_areas": null,
            "object_position": null,
            "object_fit": null,
            "grid_auto_columns": null,
            "margin": null,
            "display": null,
            "left": null
          }
        },
        "e3ae89c5675a496abefdd027583a9be1": {
          "model_module": "@jupyter-widgets/controls",
          "model_name": "FloatProgressModel",
          "state": {
            "_view_name": "ProgressView",
            "style": "IPY_MODEL_2cf3155983c640d69189e9ffdd8775c3",
            "_dom_classes": [],
            "description": "[loss: 2.077, precision: 0.000, recall: 0.000, f1: nan, accuracy: 0.933, val_loss: 2.054, val_precision: 0.000, val_recall: 0.000, val_f1: nan, val_accuracy: 0.933] : 100%",
            "_model_name": "FloatProgressModel",
            "bar_style": "",
            "max": 9914,
            "_view_module": "@jupyter-widgets/controls",
            "_model_module_version": "1.5.0",
            "value": 9914,
            "_view_count": null,
            "_view_module_version": "1.5.0",
            "orientation": "horizontal",
            "min": 0,
            "description_tooltip": null,
            "_model_module": "@jupyter-widgets/controls",
            "layout": "IPY_MODEL_ab5cfe6476b9412196d5f72fa83ba0cc"
          }
        },
        "714256f752be4ac39f8c1e5403cbc119": {
          "model_module": "@jupyter-widgets/controls",
          "model_name": "HTMLModel",
          "state": {
            "_view_name": "HTMLView",
            "style": "IPY_MODEL_f6a891ab9946485f817d47be581babe4",
            "_dom_classes": [],
            "description": "",
            "_model_name": "HTMLModel",
            "placeholder": "​",
            "_view_module": "@jupyter-widgets/controls",
            "_model_module_version": "1.5.0",
            "value": " 9914/9914 [00:05&lt;00:00, 310.34it/s]",
            "_view_count": null,
            "_view_module_version": "1.5.0",
            "description_tooltip": null,
            "_model_module": "@jupyter-widgets/controls",
            "layout": "IPY_MODEL_720b5abf58b149d594dfdf5e86ee07bf"
          }
        },
        "2cf3155983c640d69189e9ffdd8775c3": {
          "model_module": "@jupyter-widgets/controls",
          "model_name": "ProgressStyleModel",
          "state": {
            "_view_name": "StyleView",
            "_model_name": "ProgressStyleModel",
            "description_width": "initial",
            "_view_module": "@jupyter-widgets/base",
            "_model_module_version": "1.5.0",
            "_view_count": null,
            "_view_module_version": "1.2.0",
            "bar_color": null,
            "_model_module": "@jupyter-widgets/controls"
          }
        },
        "ab5cfe6476b9412196d5f72fa83ba0cc": {
          "model_module": "@jupyter-widgets/base",
          "model_name": "LayoutModel",
          "state": {
            "_view_name": "LayoutView",
            "grid_template_rows": null,
            "right": null,
            "justify_content": null,
            "_view_module": "@jupyter-widgets/base",
            "overflow": null,
            "_model_module_version": "1.2.0",
            "_view_count": null,
            "flex_flow": null,
            "width": null,
            "min_width": null,
            "border": null,
            "align_items": null,
            "bottom": null,
            "_model_module": "@jupyter-widgets/base",
            "top": null,
            "grid_column": null,
            "overflow_y": null,
            "overflow_x": null,
            "grid_auto_flow": null,
            "grid_area": null,
            "grid_template_columns": null,
            "flex": null,
            "_model_name": "LayoutModel",
            "justify_items": null,
            "grid_row": null,
            "max_height": null,
            "align_content": null,
            "visibility": null,
            "align_self": null,
            "height": null,
            "min_height": null,
            "padding": null,
            "grid_auto_rows": null,
            "grid_gap": null,
            "max_width": null,
            "order": null,
            "_view_module_version": "1.2.0",
            "grid_template_areas": null,
            "object_position": null,
            "object_fit": null,
            "grid_auto_columns": null,
            "margin": null,
            "display": null,
            "left": null
          }
        },
        "f6a891ab9946485f817d47be581babe4": {
          "model_module": "@jupyter-widgets/controls",
          "model_name": "DescriptionStyleModel",
          "state": {
            "_view_name": "StyleView",
            "_model_name": "DescriptionStyleModel",
            "description_width": "",
            "_view_module": "@jupyter-widgets/base",
            "_model_module_version": "1.5.0",
            "_view_count": null,
            "_view_module_version": "1.2.0",
            "_model_module": "@jupyter-widgets/controls"
          }
        },
        "720b5abf58b149d594dfdf5e86ee07bf": {
          "model_module": "@jupyter-widgets/base",
          "model_name": "LayoutModel",
          "state": {
            "_view_name": "LayoutView",
            "grid_template_rows": null,
            "right": null,
            "justify_content": null,
            "_view_module": "@jupyter-widgets/base",
            "overflow": null,
            "_model_module_version": "1.2.0",
            "_view_count": null,
            "flex_flow": null,
            "width": null,
            "min_width": null,
            "border": null,
            "align_items": null,
            "bottom": null,
            "_model_module": "@jupyter-widgets/base",
            "top": null,
            "grid_column": null,
            "overflow_y": null,
            "overflow_x": null,
            "grid_auto_flow": null,
            "grid_area": null,
            "grid_template_columns": null,
            "flex": null,
            "_model_name": "LayoutModel",
            "justify_items": null,
            "grid_row": null,
            "max_height": null,
            "align_content": null,
            "visibility": null,
            "align_self": null,
            "height": null,
            "min_height": null,
            "padding": null,
            "grid_auto_rows": null,
            "grid_gap": null,
            "max_width": null,
            "order": null,
            "_view_module_version": "1.2.0",
            "grid_template_areas": null,
            "object_position": null,
            "object_fit": null,
            "grid_auto_columns": null,
            "margin": null,
            "display": null,
            "left": null
          }
        },
        "3fad0773098347b0aefdd9972f303b63": {
          "model_module": "@jupyter-widgets/controls",
          "model_name": "HBoxModel",
          "state": {
            "_view_name": "HBoxView",
            "_dom_classes": [],
            "_model_name": "HBoxModel",
            "_view_module": "@jupyter-widgets/controls",
            "_model_module_version": "1.5.0",
            "_view_count": null,
            "_view_module_version": "1.5.0",
            "box_style": "",
            "layout": "IPY_MODEL_eb15b2e4f9a54c6e8870f0eea842c2c1",
            "_model_module": "@jupyter-widgets/controls",
            "children": [
              "IPY_MODEL_c0e025d69aaf4f2e819cb68808cdd812",
              "IPY_MODEL_1d686ff7deb14c63beafe4f9d9349f30"
            ]
          }
        },
        "eb15b2e4f9a54c6e8870f0eea842c2c1": {
          "model_module": "@jupyter-widgets/base",
          "model_name": "LayoutModel",
          "state": {
            "_view_name": "LayoutView",
            "grid_template_rows": null,
            "right": null,
            "justify_content": null,
            "_view_module": "@jupyter-widgets/base",
            "overflow": null,
            "_model_module_version": "1.2.0",
            "_view_count": null,
            "flex_flow": null,
            "width": null,
            "min_width": null,
            "border": null,
            "align_items": null,
            "bottom": null,
            "_model_module": "@jupyter-widgets/base",
            "top": null,
            "grid_column": null,
            "overflow_y": null,
            "overflow_x": null,
            "grid_auto_flow": null,
            "grid_area": null,
            "grid_template_columns": null,
            "flex": null,
            "_model_name": "LayoutModel",
            "justify_items": null,
            "grid_row": null,
            "max_height": null,
            "align_content": null,
            "visibility": null,
            "align_self": null,
            "height": null,
            "min_height": null,
            "padding": null,
            "grid_auto_rows": null,
            "grid_gap": null,
            "max_width": null,
            "order": null,
            "_view_module_version": "1.2.0",
            "grid_template_areas": null,
            "object_position": null,
            "object_fit": null,
            "grid_auto_columns": null,
            "margin": null,
            "display": null,
            "left": null
          }
        },
        "c0e025d69aaf4f2e819cb68808cdd812": {
          "model_module": "@jupyter-widgets/controls",
          "model_name": "FloatProgressModel",
          "state": {
            "_view_name": "ProgressView",
            "style": "IPY_MODEL_5d357a9deefe42778d9623edccb28b72",
            "_dom_classes": [],
            "description": "[loss: 2.003, precision: 0.000, recall: 0.000, f1: nan, accuracy: 0.933, val_loss: 1.999, val_precision: 0.000, val_recall: 0.000, val_f1: nan, val_accuracy: 0.933] : 100%",
            "_model_name": "FloatProgressModel",
            "bar_style": "",
            "max": 9914,
            "_view_module": "@jupyter-widgets/controls",
            "_model_module_version": "1.5.0",
            "value": 9914,
            "_view_count": null,
            "_view_module_version": "1.5.0",
            "orientation": "horizontal",
            "min": 0,
            "description_tooltip": null,
            "_model_module": "@jupyter-widgets/controls",
            "layout": "IPY_MODEL_1206c5f7b7fc41828dbf4296dfb96f58"
          }
        },
        "1d686ff7deb14c63beafe4f9d9349f30": {
          "model_module": "@jupyter-widgets/controls",
          "model_name": "HTMLModel",
          "state": {
            "_view_name": "HTMLView",
            "style": "IPY_MODEL_ad8fb65432f849aab2c1edafec25fcfe",
            "_dom_classes": [],
            "description": "",
            "_model_name": "HTMLModel",
            "placeholder": "​",
            "_view_module": "@jupyter-widgets/controls",
            "_model_module_version": "1.5.0",
            "value": " 9914/9914 [00:05&lt;00:00, 922.44it/s]",
            "_view_count": null,
            "_view_module_version": "1.5.0",
            "description_tooltip": null,
            "_model_module": "@jupyter-widgets/controls",
            "layout": "IPY_MODEL_14a139fc6cab40b494789dab7abf6a40"
          }
        },
        "5d357a9deefe42778d9623edccb28b72": {
          "model_module": "@jupyter-widgets/controls",
          "model_name": "ProgressStyleModel",
          "state": {
            "_view_name": "StyleView",
            "_model_name": "ProgressStyleModel",
            "description_width": "initial",
            "_view_module": "@jupyter-widgets/base",
            "_model_module_version": "1.5.0",
            "_view_count": null,
            "_view_module_version": "1.2.0",
            "bar_color": null,
            "_model_module": "@jupyter-widgets/controls"
          }
        },
        "1206c5f7b7fc41828dbf4296dfb96f58": {
          "model_module": "@jupyter-widgets/base",
          "model_name": "LayoutModel",
          "state": {
            "_view_name": "LayoutView",
            "grid_template_rows": null,
            "right": null,
            "justify_content": null,
            "_view_module": "@jupyter-widgets/base",
            "overflow": null,
            "_model_module_version": "1.2.0",
            "_view_count": null,
            "flex_flow": null,
            "width": null,
            "min_width": null,
            "border": null,
            "align_items": null,
            "bottom": null,
            "_model_module": "@jupyter-widgets/base",
            "top": null,
            "grid_column": null,
            "overflow_y": null,
            "overflow_x": null,
            "grid_auto_flow": null,
            "grid_area": null,
            "grid_template_columns": null,
            "flex": null,
            "_model_name": "LayoutModel",
            "justify_items": null,
            "grid_row": null,
            "max_height": null,
            "align_content": null,
            "visibility": null,
            "align_self": null,
            "height": null,
            "min_height": null,
            "padding": null,
            "grid_auto_rows": null,
            "grid_gap": null,
            "max_width": null,
            "order": null,
            "_view_module_version": "1.2.0",
            "grid_template_areas": null,
            "object_position": null,
            "object_fit": null,
            "grid_auto_columns": null,
            "margin": null,
            "display": null,
            "left": null
          }
        },
        "ad8fb65432f849aab2c1edafec25fcfe": {
          "model_module": "@jupyter-widgets/controls",
          "model_name": "DescriptionStyleModel",
          "state": {
            "_view_name": "StyleView",
            "_model_name": "DescriptionStyleModel",
            "description_width": "",
            "_view_module": "@jupyter-widgets/base",
            "_model_module_version": "1.5.0",
            "_view_count": null,
            "_view_module_version": "1.2.0",
            "_model_module": "@jupyter-widgets/controls"
          }
        },
        "14a139fc6cab40b494789dab7abf6a40": {
          "model_module": "@jupyter-widgets/base",
          "model_name": "LayoutModel",
          "state": {
            "_view_name": "LayoutView",
            "grid_template_rows": null,
            "right": null,
            "justify_content": null,
            "_view_module": "@jupyter-widgets/base",
            "overflow": null,
            "_model_module_version": "1.2.0",
            "_view_count": null,
            "flex_flow": null,
            "width": null,
            "min_width": null,
            "border": null,
            "align_items": null,
            "bottom": null,
            "_model_module": "@jupyter-widgets/base",
            "top": null,
            "grid_column": null,
            "overflow_y": null,
            "overflow_x": null,
            "grid_auto_flow": null,
            "grid_area": null,
            "grid_template_columns": null,
            "flex": null,
            "_model_name": "LayoutModel",
            "justify_items": null,
            "grid_row": null,
            "max_height": null,
            "align_content": null,
            "visibility": null,
            "align_self": null,
            "height": null,
            "min_height": null,
            "padding": null,
            "grid_auto_rows": null,
            "grid_gap": null,
            "max_width": null,
            "order": null,
            "_view_module_version": "1.2.0",
            "grid_template_areas": null,
            "object_position": null,
            "object_fit": null,
            "grid_auto_columns": null,
            "margin": null,
            "display": null,
            "left": null
          }
        },
        "655fd81048cc4f9f884427d9f038ad2f": {
          "model_module": "@jupyter-widgets/controls",
          "model_name": "HBoxModel",
          "state": {
            "_view_name": "HBoxView",
            "_dom_classes": [],
            "_model_name": "HBoxModel",
            "_view_module": "@jupyter-widgets/controls",
            "_model_module_version": "1.5.0",
            "_view_count": null,
            "_view_module_version": "1.5.0",
            "box_style": "",
            "layout": "IPY_MODEL_0900f9f9c1de4dbc8c5b4c33fa375899",
            "_model_module": "@jupyter-widgets/controls",
            "children": [
              "IPY_MODEL_e40c2239495848adb62545ba503ec03c",
              "IPY_MODEL_3da7c46dd66147348f82a6798ab04e17"
            ]
          }
        },
        "0900f9f9c1de4dbc8c5b4c33fa375899": {
          "model_module": "@jupyter-widgets/base",
          "model_name": "LayoutModel",
          "state": {
            "_view_name": "LayoutView",
            "grid_template_rows": null,
            "right": null,
            "justify_content": null,
            "_view_module": "@jupyter-widgets/base",
            "overflow": null,
            "_model_module_version": "1.2.0",
            "_view_count": null,
            "flex_flow": null,
            "width": null,
            "min_width": null,
            "border": null,
            "align_items": null,
            "bottom": null,
            "_model_module": "@jupyter-widgets/base",
            "top": null,
            "grid_column": null,
            "overflow_y": null,
            "overflow_x": null,
            "grid_auto_flow": null,
            "grid_area": null,
            "grid_template_columns": null,
            "flex": null,
            "_model_name": "LayoutModel",
            "justify_items": null,
            "grid_row": null,
            "max_height": null,
            "align_content": null,
            "visibility": null,
            "align_self": null,
            "height": null,
            "min_height": null,
            "padding": null,
            "grid_auto_rows": null,
            "grid_gap": null,
            "max_width": null,
            "order": null,
            "_view_module_version": "1.2.0",
            "grid_template_areas": null,
            "object_position": null,
            "object_fit": null,
            "grid_auto_columns": null,
            "margin": null,
            "display": null,
            "left": null
          }
        },
        "e40c2239495848adb62545ba503ec03c": {
          "model_module": "@jupyter-widgets/controls",
          "model_name": "FloatProgressModel",
          "state": {
            "_view_name": "ProgressView",
            "style": "IPY_MODEL_40aa28acebde4376b8e0f454b98cfcbb",
            "_dom_classes": [],
            "description": "[loss: 1.957, precision: 0.000, recall: 0.000, f1: nan, accuracy: 0.933, val_loss: 1.966, val_precision: 0.000, val_recall: 0.000, val_f1: nan, val_accuracy: 0.933] : 100%",
            "_model_name": "FloatProgressModel",
            "bar_style": "",
            "max": 9914,
            "_view_module": "@jupyter-widgets/controls",
            "_model_module_version": "1.5.0",
            "value": 9914,
            "_view_count": null,
            "_view_module_version": "1.5.0",
            "orientation": "horizontal",
            "min": 0,
            "description_tooltip": null,
            "_model_module": "@jupyter-widgets/controls",
            "layout": "IPY_MODEL_3ac0c6db8fed483f8fe459c10d1f4b10"
          }
        },
        "3da7c46dd66147348f82a6798ab04e17": {
          "model_module": "@jupyter-widgets/controls",
          "model_name": "HTMLModel",
          "state": {
            "_view_name": "HTMLView",
            "style": "IPY_MODEL_38822ec9c3334051b7a5acef78cae53f",
            "_dom_classes": [],
            "description": "",
            "_model_name": "HTMLModel",
            "placeholder": "​",
            "_view_module": "@jupyter-widgets/controls",
            "_model_module_version": "1.5.0",
            "value": " 9914/9914 [00:04&lt;00:00, 1003.82it/s]",
            "_view_count": null,
            "_view_module_version": "1.5.0",
            "description_tooltip": null,
            "_model_module": "@jupyter-widgets/controls",
            "layout": "IPY_MODEL_8291786cef3f4deeb0fb83d99ec0e33c"
          }
        },
        "40aa28acebde4376b8e0f454b98cfcbb": {
          "model_module": "@jupyter-widgets/controls",
          "model_name": "ProgressStyleModel",
          "state": {
            "_view_name": "StyleView",
            "_model_name": "ProgressStyleModel",
            "description_width": "initial",
            "_view_module": "@jupyter-widgets/base",
            "_model_module_version": "1.5.0",
            "_view_count": null,
            "_view_module_version": "1.2.0",
            "bar_color": null,
            "_model_module": "@jupyter-widgets/controls"
          }
        },
        "3ac0c6db8fed483f8fe459c10d1f4b10": {
          "model_module": "@jupyter-widgets/base",
          "model_name": "LayoutModel",
          "state": {
            "_view_name": "LayoutView",
            "grid_template_rows": null,
            "right": null,
            "justify_content": null,
            "_view_module": "@jupyter-widgets/base",
            "overflow": null,
            "_model_module_version": "1.2.0",
            "_view_count": null,
            "flex_flow": null,
            "width": null,
            "min_width": null,
            "border": null,
            "align_items": null,
            "bottom": null,
            "_model_module": "@jupyter-widgets/base",
            "top": null,
            "grid_column": null,
            "overflow_y": null,
            "overflow_x": null,
            "grid_auto_flow": null,
            "grid_area": null,
            "grid_template_columns": null,
            "flex": null,
            "_model_name": "LayoutModel",
            "justify_items": null,
            "grid_row": null,
            "max_height": null,
            "align_content": null,
            "visibility": null,
            "align_self": null,
            "height": null,
            "min_height": null,
            "padding": null,
            "grid_auto_rows": null,
            "grid_gap": null,
            "max_width": null,
            "order": null,
            "_view_module_version": "1.2.0",
            "grid_template_areas": null,
            "object_position": null,
            "object_fit": null,
            "grid_auto_columns": null,
            "margin": null,
            "display": null,
            "left": null
          }
        },
        "38822ec9c3334051b7a5acef78cae53f": {
          "model_module": "@jupyter-widgets/controls",
          "model_name": "DescriptionStyleModel",
          "state": {
            "_view_name": "StyleView",
            "_model_name": "DescriptionStyleModel",
            "description_width": "",
            "_view_module": "@jupyter-widgets/base",
            "_model_module_version": "1.5.0",
            "_view_count": null,
            "_view_module_version": "1.2.0",
            "_model_module": "@jupyter-widgets/controls"
          }
        },
        "8291786cef3f4deeb0fb83d99ec0e33c": {
          "model_module": "@jupyter-widgets/base",
          "model_name": "LayoutModel",
          "state": {
            "_view_name": "LayoutView",
            "grid_template_rows": null,
            "right": null,
            "justify_content": null,
            "_view_module": "@jupyter-widgets/base",
            "overflow": null,
            "_model_module_version": "1.2.0",
            "_view_count": null,
            "flex_flow": null,
            "width": null,
            "min_width": null,
            "border": null,
            "align_items": null,
            "bottom": null,
            "_model_module": "@jupyter-widgets/base",
            "top": null,
            "grid_column": null,
            "overflow_y": null,
            "overflow_x": null,
            "grid_auto_flow": null,
            "grid_area": null,
            "grid_template_columns": null,
            "flex": null,
            "_model_name": "LayoutModel",
            "justify_items": null,
            "grid_row": null,
            "max_height": null,
            "align_content": null,
            "visibility": null,
            "align_self": null,
            "height": null,
            "min_height": null,
            "padding": null,
            "grid_auto_rows": null,
            "grid_gap": null,
            "max_width": null,
            "order": null,
            "_view_module_version": "1.2.0",
            "grid_template_areas": null,
            "object_position": null,
            "object_fit": null,
            "grid_auto_columns": null,
            "margin": null,
            "display": null,
            "left": null
          }
        }
      }
    }
  },
  "cells": [
    {
      "cell_type": "code",
      "metadata": {
        "id": "XbOlUSj3uByH",
        "colab_type": "code",
        "colab": {
          "base_uri": "https://localhost:8080/",
          "height": 190
        },
        "outputId": "31711b05-a0ca-4dc1-ae72-2d571335fc6e"
      },
      "source": [
        "import csv\n",
        "import numpy as np\n",
        "import pandas as pd\n",
        "import nltk\n",
        "\n",
        "import re\n",
        "from nltk.stem import WordNetLemmatizer\n",
        "from scipy.sparse import csr_matrix, hstack\n",
        "from sklearn.feature_extraction.text import TfidfVectorizer\n",
        "from sklearn.linear_model import LogisticRegression\n",
        "from sklearn.metrics import accuracy_score\n",
        "from sklearn.preprocessing import MultiLabelBinarizer\n",
        "from sklearn.preprocessing import LabelBinarizer\n",
        "from sklearn.metrics import classification_report\n",
        "from sklearn.utils import class_weight \n",
        "from imblearn.over_sampling import SMOTE\n",
        "\n",
        "\n",
        "from nltk import word_tokenize, FreqDist\n",
        "import matplotlib.pyplot as plt\n",
        "from nltk.tokenize import TweetTokenizer\n",
        "import networkx as nx\n",
        "from sklearn import preprocessing\n",
        "#RNN\n",
        "from keras.layers import GlobalAveragePooling1D, GlobalMaxPooling1D, concatenate, SpatialDropout1D\n",
        "from keras.layers import Dense, Input, LSTM, Embedding, Dropout, Activation, Conv1D, GRU, CuDNNGRU, CuDNNLSTM, BatchNormalization\n",
        "from keras.layers import Bidirectional, GlobalMaxPool1D, MaxPooling1D, Add, Flatten\n",
        "\n",
        "\n",
        "#Exclude stopwords\n",
        "nltk.download('stopwords')\n",
        "nltk.download('wordnet')\n",
        "from nltk.corpus import stopwords"
      ],
      "execution_count": 1,
      "outputs": [
        {
          "output_type": "stream",
          "text": [
            "/usr/local/lib/python3.6/dist-packages/sklearn/externals/six.py:31: FutureWarning: The module is deprecated in version 0.21 and will be removed in version 0.23 since we've dropped support for Python 2.7. Please rely on the official version of six (https://pypi.org/project/six/).\n",
            "  \"(https://pypi.org/project/six/).\", FutureWarning)\n",
            "/usr/local/lib/python3.6/dist-packages/sklearn/utils/deprecation.py:144: FutureWarning: The sklearn.neighbors.base module is  deprecated in version 0.22 and will be removed in version 0.24. The corresponding classes / functions should instead be imported from sklearn.neighbors. Anything that cannot be imported from sklearn.neighbors is now part of the private API.\n",
            "  warnings.warn(message, FutureWarning)\n",
            "Using TensorFlow backend.\n"
          ],
          "name": "stderr"
        },
        {
          "output_type": "stream",
          "text": [
            "[nltk_data] Downloading package stopwords to /root/nltk_data...\n",
            "[nltk_data]   Unzipping corpora/stopwords.zip.\n",
            "[nltk_data] Downloading package wordnet to /root/nltk_data...\n",
            "[nltk_data]   Unzipping corpora/wordnet.zip.\n"
          ],
          "name": "stdout"
        }
      ]
    },
    {
      "cell_type": "code",
      "metadata": {
        "id": "LSb8K9xZu2x6",
        "colab_type": "code",
        "colab": {
          "base_uri": "https://localhost:8080/",
          "height": 1000
        },
        "outputId": "2c7baa3e-019f-4367-d7be-2644dbd7a04b"
      },
      "source": [
        "!pip install emoji\n",
        "import emoji\n",
        "!pip install detect\n",
        "!pip install langdetect\n",
        "from langdetect import detect\n",
        "!pip3 install textacy\n",
        "#https://chartbeat-labs.github.io/textacy/build/html/api_reference/text_processing.html\n",
        "import textacy\n",
        "from textacy import preprocessing\n",
        "from textacy import preprocess\n",
        "#https://pypi.org/project/wordsegment/\n",
        "!pip install wordsegment\n",
        "from wordsegment import load, segment\n",
        "load()"
      ],
      "execution_count": 2,
      "outputs": [
        {
          "output_type": "stream",
          "text": [
            "Collecting emoji\n",
            "\u001b[?25l  Downloading https://files.pythonhosted.org/packages/40/8d/521be7f0091fe0f2ae690cc044faf43e3445e0ff33c574eae752dd7e39fa/emoji-0.5.4.tar.gz (43kB)\n",
            "\r\u001b[K     |███████▌                        | 10kB 18.1MB/s eta 0:00:01\r\u001b[K     |███████████████                 | 20kB 1.6MB/s eta 0:00:01\r\u001b[K     |██████████████████████▋         | 30kB 2.2MB/s eta 0:00:01\r\u001b[K     |██████████████████████████████▏ | 40kB 2.5MB/s eta 0:00:01\r\u001b[K     |████████████████████████████████| 51kB 1.6MB/s \n",
            "\u001b[?25hBuilding wheels for collected packages: emoji\n",
            "  Building wheel for emoji (setup.py) ... \u001b[?25l\u001b[?25hdone\n",
            "  Created wheel for emoji: filename=emoji-0.5.4-cp36-none-any.whl size=42176 sha256=2dfaa6c45ea7299128934343b70400d034de794ed719e0a0b667d43f7badcf1c\n",
            "  Stored in directory: /root/.cache/pip/wheels/2a/a9/0a/4f8e8cce8074232aba240caca3fade315bb49fac68808d1a9c\n",
            "Successfully built emoji\n",
            "Installing collected packages: emoji\n",
            "Successfully installed emoji-0.5.4\n",
            "Collecting detect\n",
            "  Downloading https://files.pythonhosted.org/packages/f9/e5/5f0853894aa5698dad295de28cd6ee55192d092fef35c714847cacf65005/detect-2019.4.13.tar.gz\n",
            "Requirement already satisfied: setuptools in /usr/local/lib/python3.6/dist-packages (from detect) (47.3.1)\n",
            "Building wheels for collected packages: detect\n",
            "  Building wheel for detect (setup.py) ... \u001b[?25l\u001b[?25hdone\n",
            "  Created wheel for detect: filename=detect-2019.4.13-cp36-none-any.whl size=1936 sha256=2cf43cc85077ddf3300f389e0d3188135dcefe94f40359687056c96e82daca6f\n",
            "  Stored in directory: /root/.cache/pip/wheels/39/c6/be/459c0fbc1e381ed5fd3c66eddec846589a00701ae5e996a1c7\n",
            "Successfully built detect\n",
            "Installing collected packages: detect\n",
            "Successfully installed detect-2019.4.13\n",
            "Collecting langdetect\n",
            "\u001b[?25l  Downloading https://files.pythonhosted.org/packages/56/a3/8407c1e62d5980188b4acc45ef3d94b933d14a2ebc9ef3505f22cf772570/langdetect-1.0.8.tar.gz (981kB)\n",
            "\u001b[K     |████████████████████████████████| 983kB 2.7MB/s \n",
            "\u001b[?25hRequirement already satisfied: six in /usr/local/lib/python3.6/dist-packages (from langdetect) (1.12.0)\n",
            "Building wheels for collected packages: langdetect\n",
            "  Building wheel for langdetect (setup.py) ... \u001b[?25l\u001b[?25hdone\n",
            "  Created wheel for langdetect: filename=langdetect-1.0.8-cp36-none-any.whl size=993193 sha256=b86177c93f88fb793f63928b9ac2932042723309ce1a79938599893aceb75c96\n",
            "  Stored in directory: /root/.cache/pip/wheels/8d/b3/aa/6d99de9f3841d7d3d40a60ea06e6d669e8e5012e6c8b947a57\n",
            "Successfully built langdetect\n",
            "Installing collected packages: langdetect\n",
            "Successfully installed langdetect-1.0.8\n",
            "Collecting textacy\n",
            "\u001b[?25l  Downloading https://files.pythonhosted.org/packages/f3/fe/0b57ac1a202de9819e71e8373980d586e824f515ad2f4266e4e98627f8b8/textacy-0.10.0-py3-none-any.whl (206kB)\n",
            "\u001b[K     |████████████████████████████████| 215kB 2.7MB/s \n",
            "\u001b[?25hRequirement already satisfied: scikit-learn>=0.19.0 in /usr/local/lib/python3.6/dist-packages (from textacy) (0.22.2.post1)\n",
            "Requirement already satisfied: srsly>=0.0.5 in /usr/local/lib/python3.6/dist-packages (from textacy) (1.0.2)\n",
            "Requirement already satisfied: cachetools>=2.0.1 in /usr/local/lib/python3.6/dist-packages (from textacy) (4.1.0)\n",
            "Requirement already satisfied: requests>=2.10.0 in /usr/local/lib/python3.6/dist-packages (from textacy) (2.23.0)\n",
            "Requirement already satisfied: numpy>=1.17.0 in /usr/local/lib/python3.6/dist-packages (from textacy) (1.18.5)\n",
            "Requirement already satisfied: scipy>=0.17.0 in /usr/local/lib/python3.6/dist-packages (from textacy) (1.4.1)\n",
            "Requirement already satisfied: tqdm>=4.19.6 in /usr/local/lib/python3.6/dist-packages (from textacy) (4.41.1)\n",
            "Requirement already satisfied: spacy>=2.2.0 in /usr/local/lib/python3.6/dist-packages (from textacy) (2.2.4)\n",
            "Collecting cytoolz>=0.8.0\n",
            "\u001b[?25l  Downloading https://files.pythonhosted.org/packages/62/b1/7f16703fe4a497879b1b457adf1e472fad2d4f030477698b16d2febf38bb/cytoolz-0.10.1.tar.gz (475kB)\n",
            "\u001b[K     |████████████████████████████████| 481kB 8.0MB/s \n",
            "\u001b[?25hRequirement already satisfied: pyemd>=0.5.0 in /usr/local/lib/python3.6/dist-packages (from textacy) (0.5.1)\n",
            "Requirement already satisfied: joblib>=0.13.0 in /usr/local/lib/python3.6/dist-packages (from textacy) (0.15.1)\n",
            "Collecting jellyfish>=0.7.0\n",
            "\u001b[?25l  Downloading https://files.pythonhosted.org/packages/6c/09/927ae35fc5a9f70abb6cc2c27ee88fc48549f7bc4786c1d4b177c22e997d/jellyfish-0.8.2-cp36-cp36m-manylinux2014_x86_64.whl (93kB)\n",
            "\u001b[K     |████████████████████████████████| 102kB 5.8MB/s \n",
            "\u001b[?25hCollecting pyphen>=0.9.4\n",
            "\u001b[?25l  Downloading https://files.pythonhosted.org/packages/15/82/08a3629dce8d1f3d91db843bb36d4d7db6b6269d5067259613a0d5c8a9db/Pyphen-0.9.5-py2.py3-none-any.whl (3.0MB)\n",
            "\u001b[K     |████████████████████████████████| 3.0MB 11.5MB/s \n",
            "\u001b[?25hRequirement already satisfied: networkx>=2.0 in /usr/local/lib/python3.6/dist-packages (from textacy) (2.4)\n",
            "Requirement already satisfied: certifi>=2017.4.17 in /usr/local/lib/python3.6/dist-packages (from requests>=2.10.0->textacy) (2020.4.5.2)\n",
            "Requirement already satisfied: chardet<4,>=3.0.2 in /usr/local/lib/python3.6/dist-packages (from requests>=2.10.0->textacy) (3.0.4)\n",
            "Requirement already satisfied: urllib3!=1.25.0,!=1.25.1,<1.26,>=1.21.1 in /usr/local/lib/python3.6/dist-packages (from requests>=2.10.0->textacy) (1.24.3)\n",
            "Requirement already satisfied: idna<3,>=2.5 in /usr/local/lib/python3.6/dist-packages (from requests>=2.10.0->textacy) (2.9)\n",
            "Requirement already satisfied: plac<1.2.0,>=0.9.6 in /usr/local/lib/python3.6/dist-packages (from spacy>=2.2.0->textacy) (1.1.3)\n",
            "Requirement already satisfied: murmurhash<1.1.0,>=0.28.0 in /usr/local/lib/python3.6/dist-packages (from spacy>=2.2.0->textacy) (1.0.2)\n",
            "Requirement already satisfied: blis<0.5.0,>=0.4.0 in /usr/local/lib/python3.6/dist-packages (from spacy>=2.2.0->textacy) (0.4.1)\n",
            "Requirement already satisfied: preshed<3.1.0,>=3.0.2 in /usr/local/lib/python3.6/dist-packages (from spacy>=2.2.0->textacy) (3.0.2)\n",
            "Requirement already satisfied: catalogue<1.1.0,>=0.0.7 in /usr/local/lib/python3.6/dist-packages (from spacy>=2.2.0->textacy) (1.0.0)\n",
            "Requirement already satisfied: thinc==7.4.0 in /usr/local/lib/python3.6/dist-packages (from spacy>=2.2.0->textacy) (7.4.0)\n",
            "Requirement already satisfied: setuptools in /usr/local/lib/python3.6/dist-packages (from spacy>=2.2.0->textacy) (47.3.1)\n",
            "Requirement already satisfied: wasabi<1.1.0,>=0.4.0 in /usr/local/lib/python3.6/dist-packages (from spacy>=2.2.0->textacy) (0.6.0)\n",
            "Requirement already satisfied: cymem<2.1.0,>=2.0.2 in /usr/local/lib/python3.6/dist-packages (from spacy>=2.2.0->textacy) (2.0.3)\n",
            "Requirement already satisfied: toolz>=0.8.0 in /usr/local/lib/python3.6/dist-packages (from cytoolz>=0.8.0->textacy) (0.10.0)\n",
            "Requirement already satisfied: decorator>=4.3.0 in /usr/local/lib/python3.6/dist-packages (from networkx>=2.0->textacy) (4.4.2)\n",
            "Requirement already satisfied: importlib-metadata>=0.20; python_version < \"3.8\" in /usr/local/lib/python3.6/dist-packages (from catalogue<1.1.0,>=0.0.7->spacy>=2.2.0->textacy) (1.6.1)\n",
            "Requirement already satisfied: zipp>=0.5 in /usr/local/lib/python3.6/dist-packages (from importlib-metadata>=0.20; python_version < \"3.8\"->catalogue<1.1.0,>=0.0.7->spacy>=2.2.0->textacy) (3.1.0)\n",
            "Building wheels for collected packages: cytoolz\n",
            "  Building wheel for cytoolz (setup.py) ... \u001b[?25l\u001b[?25hdone\n",
            "  Created wheel for cytoolz: filename=cytoolz-0.10.1-cp36-cp36m-linux_x86_64.whl size=1233767 sha256=3d5cdf7c31d0635246a0d32ee32535ed650472110270e9b30b01da3bb94442be\n",
            "  Stored in directory: /root/.cache/pip/wheels/64/2a/18/d962b614e055577e7d9a3e4813e0742f822ca9c8800cc3783a\n",
            "Successfully built cytoolz\n",
            "Installing collected packages: cytoolz, jellyfish, pyphen, textacy\n",
            "Successfully installed cytoolz-0.10.1 jellyfish-0.8.2 pyphen-0.9.5 textacy-0.10.0\n",
            "Collecting wordsegment\n",
            "\u001b[?25l  Downloading https://files.pythonhosted.org/packages/cf/6c/e6f4734d6f7d28305f52ec81377d7ce7d1856b97b814278e9960183235ad/wordsegment-1.3.1-py2.py3-none-any.whl (4.8MB)\n",
            "\u001b[K     |████████████████████████████████| 4.8MB 2.6MB/s \n",
            "\u001b[?25hInstalling collected packages: wordsegment\n",
            "Successfully installed wordsegment-1.3.1\n"
          ],
          "name": "stdout"
        }
      ]
    },
    {
      "cell_type": "markdown",
      "metadata": {
        "id": "a2OTaKFsuuxV",
        "colab_type": "text"
      },
      "source": [
        "## Load Data"
      ]
    },
    {
      "cell_type": "code",
      "metadata": {
        "id": "Qh2F1ZJuub4D",
        "colab_type": "code",
        "colab": {}
      },
      "source": [
        "# Read test data\n",
        "test_index = list()  \n",
        "with open('/content/drive/My Drive/Colab Notebooks/DataChallenge/data/test.csv', 'r') as f:\n",
        "    for line in f:\n",
        "        t = line.split(',')\n",
        "        test_index.append(int(t[0]))\n",
        "# Load the textual content of the messages into the dictionary \"posts\"\n",
        "posts = dict()\n",
        "posted_by = dict()\n",
        "posts_per_class = dict()\n",
        "with open('/content/drive/My Drive/Colab Notebooks/DataChallenge/data/posts.tsv', 'r', encoding ='utf-8') as f:\n",
        "    for line in f:\n",
        "        t = line.split('\\t')\n",
        "        posts[int(t[0])] = t[2][:-1]\n",
        "        posted_by[int(t[0])] = int(t[1])\n",
        "        posts_per_class[int(t[1])] = np.zeros(15)\n",
        "users = dict()\n",
        "posts_per_user = dict()\n",
        "with open('/content/drive/My Drive/Colab Notebooks/DataChallenge/data/users.csv', 'r', encoding ='utf-8') as f:\n",
        "    for line in f.readlines()[1:]:\n",
        "        t = line.split(',')\n",
        "        users[int(t[0])] = t[0]\n",
        "        posts_per_user[int(t[0])] = int(t[3][:-1])\n",
        "y_data = dict()    \n",
        "with open('/content/drive/My Drive/Colab Notebooks/DataChallenge/data/train.csv', 'r') as f:\n",
        "    for line in f:\n",
        "        t = line.split(',')\n",
        "        y_data[int(t[0])] = int(t[1])\n",
        "        posts_per_class[posted_by[int(t[0])]][int(t[1][:-1])] += 1\n",
        "train_index = list(y_data.keys())\n",
        "y_train_input =list(y_data.values())                "
      ],
      "execution_count": 3,
      "outputs": []
    },
    {
      "cell_type": "markdown",
      "metadata": {
        "id": "o1C4sTSZvFSl",
        "colab_type": "text"
      },
      "source": [
        "## Data Preprocess"
      ]
    },
    {
      "cell_type": "code",
      "metadata": {
        "id": "PhNXg5g5ukKD",
        "colab_type": "code",
        "colab": {}
      },
      "source": [
        "stemmer = WordNetLemmatizer()\n",
        "w_tokenizer = TweetTokenizer()\n",
        "twitter_posts = dict()\n",
        "twitter_posts_zero_len =dict()\n",
        "# stop_words = set(stopwords.words('english')) \n",
        "stop_words = set(stopwords.words()) \n",
        "for sen in range(0, len(posts)): \n",
        "\n",
        "    # Removing http\n",
        "    post = re.sub(r\"http\\S+\", \"\", str(posts[sen]))\n",
        "\n",
        "    #convert emoji to word\n",
        "    post = emoji.demojize(post)\n",
        "\n",
        "    post=textacy.preprocessing.normalize_whitespace(post)\n",
        "# 2nd run\n",
        "    post=textacy.preprocessing.normalize_quotation_marks(post)\n",
        "\n",
        "    post=textacy.preprocess.unpack_contractions(post)\n",
        "# #\n",
        "\n",
        "    post=textacy.preprocessing.normalize_unicode(post, form=u'NFKC')\n",
        "\n",
        "    post=textacy.preprocessing.remove.remove_punctuation(post)\n",
        "\n",
        "    post=textacy.preprocessing.remove.remove_accents(post)\n",
        "\n",
        "    post=textacy.preprocessing.replace.replace_currency_symbols(post)\n",
        "\n",
        "    post=textacy.preprocessing.replace.replace_emails(post)\n",
        "\n",
        "    post=textacy.preprocessing.replace.replace_hashtags(post)\n",
        "\n",
        "    post=textacy.preprocessing.replace.replace_numbers(post)\n",
        "\n",
        "    post=textacy.preprocessing.replace.replace_phone_numbers(post)\n",
        "\n",
        "    post=textacy.preprocessing.replace.replace_urls(post)\n",
        "\n",
        "    post=textacy.preprocessing.replace.replace_user_handles(post)\n",
        "    \n",
        "#     # # Remove &amp;\n",
        "    post = re.sub(r'&gt;|&lt;|&amp;', '', post)   \n",
        "    \n",
        "#     # #remove hashtag, @user, link of a tweet using regular expression\n",
        "    post = re.sub(\"(@[A-Za-z0-9]+)|([^0-9A-Za-z \\t])|(\\w+:\\/\\/\\S+)\",' ',post) \n",
        "\n",
        "\n",
        "    # # Remove all the special characters\n",
        "    post = re.sub(r'\\W', ' ', post)\n",
        "\n",
        "    # # # remove all single characters\n",
        "    post = re.sub(r'\\s+[a-zA-Z]\\s+', ' ', post)\n",
        "\n",
        "    # # # Remove single characters from the start\n",
        "    post = re.sub(r'\\^[a-zA-Z]\\s+', ' ', post) \n",
        "\n",
        "    # # # Substituting multiple spaces with single space\n",
        "    post = re.sub(r'\\s+', ' ', post, flags=re.I)\n",
        "\n",
        "    # # # Removing prefixed 'b'\n",
        "    post = re.sub(r'^b\\s+', '', post)\n",
        "    \n",
        "    post = re.sub(r'[^\\x00-\\x7f]','', post) \n",
        "    \n",
        "    # Removing numbers\n",
        "    post = re.sub(r'\\d+', '', post)\n",
        "    \n",
        "    # # Converting to Lowercase\n",
        "    post = post.lower()\n",
        "\n",
        "    # # Remove &amp;\n",
        "    # # post = re.sub(r'covid|coronavirus|pandemic|help|people', '', post)     \n",
        "\n",
        "    \n",
        "    # # Lemmatization\n",
        "    post = w_tokenizer.tokenize((post))\n",
        "    \n",
        "    # 3rd run\n",
        "    post = segment(post)\n",
        "\n",
        "    post = [stemmer.lemmatize(word) for word in post if not word in stop_words]\n",
        "\n",
        "    if (len(post) > 0) or (sen in (test_index)):\n",
        "        post = ' '.join(post)\n",
        "        twitter_posts[sen] = post\n",
        "        \n",
        "            # 3rd run\n",
        "        twitter_posts[sen] = segment(twitter_posts[sen])\n",
        "\n",
        "        twitter_posts[sen] = ' '.join(map(str, twitter_posts[sen]))\n",
        "\n",
        "    else:\n",
        "        post = ' '.join(post)\n",
        "        twitter_posts_zero_len[sen] = post\n",
        "print(posts[0])\n",
        "print()\n",
        "print(twitter_posts[0])"
      ],
      "execution_count": null,
      "outputs": []
    },
    {
      "cell_type": "markdown",
      "metadata": {
        "id": "Q1amPofLybfO",
        "colab_type": "text"
      },
      "source": [
        "Due to huge computational execution time of the segment function, we create the below file."
      ]
    },
    {
      "cell_type": "code",
      "metadata": {
        "id": "WPi8ORKRvWws",
        "colab_type": "code",
        "colab": {}
      },
      "source": [
        "twitter_posts = dict() \n",
        "with open('/content/drive/My Drive/Colab Notebooks/DataChallenge/data/twitter_posts.csv', 'r') as f:\n",
        "    for line in f:\n",
        "        t = line.split(',')\n",
        "        twitter_posts[int(t[0])] = t[1][:-1]\n",
        "twitter_posts_zero_len =dict()\n",
        "twitter_posts_zero_len[4186]=''\n",
        "twitter_posts_zero_len[12054]=''\n",
        "#delete emtpy twitter posts\n",
        "for i in twitter_posts_zero_len.keys():\n",
        "    if i in (y_data.keys()):\n",
        "        del y_data[i]\n",
        "train_index = list(y_data.keys())\n",
        "y_train_input =list(y_data.values())"
      ],
      "execution_count": 6,
      "outputs": []
    },
    {
      "cell_type": "code",
      "metadata": {
        "id": "nmJpGzPlvlK-",
        "colab_type": "code",
        "colab": {
          "base_uri": "https://localhost:8080/",
          "height": 34
        },
        "outputId": "584be5e9-7924-410f-8be3-ccc13318b940"
      },
      "source": [
        "twitter_posts[1]"
      ],
      "execution_count": 7,
      "outputs": [
        {
          "output_type": "execute_result",
          "data": {
            "text/plain": [
              "'read news one pk donald trump vladimir putin coronavirus outbreak coronavirus corona outbreak covid19'"
            ]
          },
          "metadata": {
            "tags": []
          },
          "execution_count": 7
        }
      ]
    },
    {
      "cell_type": "markdown",
      "metadata": {
        "id": "SM_W1uacxr9f",
        "colab_type": "text"
      },
      "source": [
        "## Text features"
      ]
    },
    {
      "cell_type": "code",
      "metadata": {
        "id": "DrmV0I1nvXgm",
        "colab_type": "code",
        "colab": {
          "base_uri": "https://localhost:8080/",
          "height": 51
        },
        "outputId": "a55aa528-7783-47a2-fc3f-f8f9bedb2152"
      },
      "source": [
        "train_posts = [twitter_posts[idx] for idx in train_index  ]\n",
        "test_posts = [twitter_posts[idx] for idx in test_index ]\n",
        "vectorizer = TfidfVectorizer(ngram_range=(1,3),  max_features = 12000,sublinear_tf=True,min_df = 0.00005,max_df = 0.85, stop_words=stopwords.words('english'))\n",
        "\n",
        "X_train_input = vectorizer.fit_transform(train_posts)\n",
        "\n",
        "X_test_final = vectorizer.transform(test_posts)\n",
        "\n",
        "print(\"Train matrix dimensionality: \", X_train_input.shape)\n",
        "print(\"Test matrix dimensionality: \", X_test_final.shape)\n",
        "\n",
        "from sklearn.model_selection import train_test_split  \n",
        "X_train, X_test, y_train, y_test = train_test_split(X_train_input, y_train_input, test_size=0.25, random_state=23828748)\n",
        "categories = [str(x) for x in np.arange(0, 15, 1)]"
      ],
      "execution_count": 8,
      "outputs": [
        {
          "output_type": "stream",
          "text": [
            "Train matrix dimensionality:  (13219, 12000)\n",
            "Test matrix dimensionality:  (3306, 12000)\n"
          ],
          "name": "stdout"
        }
      ]
    },
    {
      "cell_type": "markdown",
      "metadata": {
        "id": "OksSsGqsx0mz",
        "colab_type": "text"
      },
      "source": [
        "## Graph"
      ]
    },
    {
      "cell_type": "code",
      "metadata": {
        "id": "pcqCPY6Oxx93",
        "colab_type": "code",
        "colab": {
          "base_uri": "https://localhost:8080/",
          "height": 51
        },
        "outputId": "eb2465d7-819b-4e03-9018-343791796282"
      },
      "source": [
        "import networkx as nx\n",
        "\n",
        "# Load the processsed retweet network as an undirected graph\n",
        "G = nx.read_weighted_edgelist(\"/content/drive/My Drive/Colab Notebooks/DataChallenge/data/retweet_processed_weighted.edgelist\", create_using=nx.Graph(), nodetype=int)\n",
        "nodes = set(G.nodes())\n",
        "for user in users:\n",
        "    if user not in nodes:\n",
        "        G.add_node(user)\n",
        "\n",
        "print(\"Number of nodes:\", G.number_of_nodes())\n",
        "print(\"Number of edges:\", G.number_of_edges())"
      ],
      "execution_count": 9,
      "outputs": [
        {
          "output_type": "stream",
          "text": [
            "Number of nodes: 12640\n",
            "Number of edges: 1356575\n"
          ],
          "name": "stdout"
        }
      ]
    },
    {
      "cell_type": "markdown",
      "metadata": {
        "id": "01Ez8sZByD3E",
        "colab_type": "text"
      },
      "source": [
        "Due to huge computational execution time of the below metrics, we create the below files using the graph of file retweet_weighted."
      ]
    },
    {
      "cell_type": "code",
      "metadata": {
        "id": "CTuzGsmrx4rR",
        "colab_type": "code",
        "colab": {}
      },
      "source": [
        "closeness_centrality = dict()    \n",
        "with open('/content/drive/My Drive/Colab Notebooks/DataChallenge/data/closeness_centrality.csv', 'r') as f:\n",
        "   for line in f:\n",
        "        t = line.split(',')\n",
        "        closeness_centrality[int(t[0])] = t[1][:-1]"
      ],
      "execution_count": 10,
      "outputs": []
    },
    {
      "cell_type": "code",
      "metadata": {
        "id": "UMqJMIx3x8Id",
        "colab_type": "code",
        "colab": {}
      },
      "source": [
        "# betweenness_centrality = nx.betweenness_centrality(G,k=1000)\n",
        "# with open('betweenness_centrality.csv', 'w') as f:\n",
        "\n",
        "#    for k, v in betweenness_centrality.items():\n",
        "#         f.write(str(k) + ','+ str(v) + '\\n')\n",
        "\n",
        "betweenness_centrality = dict() \n",
        "with open('/content/drive/My Drive/Colab Notebooks/DataChallenge/data/betweenness_centrality.csv', 'r') as f:\n",
        "    for line in f:\n",
        "        t = line.split(',')\n",
        "        betweenness_centrality[int(t[0])] = t[1][:-1]"
      ],
      "execution_count": 11,
      "outputs": []
    },
    {
      "cell_type": "code",
      "metadata": {
        "id": "HOdMWo5ux-CL",
        "colab_type": "code",
        "colab": {}
      },
      "source": [
        "#pr = nx.pagerank(G, alpha=0.85)\n",
        "\n",
        "#with open('pagerank.csv', 'w') as f:\n",
        "\n",
        "#    for k, v in pr.items():\n",
        "#         f.write(str(k) + ','+ str(v) + '\\n')\n",
        "\n",
        "page_rank = dict() \n",
        "with open('/content/drive/My Drive/Colab Notebooks/DataChallenge/data/pagerank.csv', 'r') as f:\n",
        "    for line in f:\n",
        "        t = line.split(',')\n",
        "        page_rank[int(t[0])] = t[1][:-1]"
      ],
      "execution_count": 12,
      "outputs": []
    },
    {
      "cell_type": "code",
      "metadata": {
        "id": "lTmBHVwIynZd",
        "colab_type": "code",
        "colab": {
          "base_uri": "https://localhost:8080/",
          "height": 34
        },
        "outputId": "86182baf-a56b-46a4-bc65-5277c5cf8021"
      },
      "source": [
        "from community_louvain import best_partition\n",
        "\n",
        "partition = best_partition(G)\n",
        "communities = set(partition.values())\n",
        "n_communities = len(communities)\n",
        "print('Number of communities:', n_communities)"
      ],
      "execution_count": 13,
      "outputs": [
        {
          "output_type": "stream",
          "text": [
            "Number of communities: 1414\n"
          ],
          "name": "stdout"
        }
      ]
    },
    {
      "cell_type": "markdown",
      "metadata": {
        "id": "T70oZqC2yuDH",
        "colab_type": "text"
      },
      "source": [
        "#### Create graph features Degree, Partition, Posts per Class, Page Rank, Closeness Centrality and length of each tweet"
      ]
    },
    {
      "cell_type": "code",
      "metadata": {
        "id": "lDt1wBibyp3H",
        "colab_type": "code",
        "colab": {
          "base_uri": "https://localhost:8080/",
          "height": 51
        },
        "outputId": "53e352d5-2ce4-4450-f767-c39ad6ece817"
      },
      "source": [
        "# Create the training matrix\n",
        "X_train_graph = np.zeros((len(train_index), 20))\n",
        "for i,idx in enumerate(train_index):\n",
        "    for neighbor in G.neighbors(posted_by[idx]):\n",
        "        if partition[neighbor] == partition[posted_by[idx]]:\n",
        "            X_train_graph[i,:15] += posts_per_class[neighbor]\n",
        "\n",
        "    if np.sum(X_train_graph[i,:15]) > 0:\n",
        "        X_train_graph[i,:15] /= np.sum(X_train_graph[i,:15])\n",
        "\n",
        "    X_train_graph[i,15] = G.degree(posted_by[idx])\n",
        "    X_train_graph[i,16] = partition[posted_by[idx]]\n",
        "    X_train_graph[i,17] = page_rank[posted_by[idx]]\n",
        "    X_train_graph[i,18] = closeness_centrality[posted_by[idx]]\n",
        "    X_train_graph[i,19] = len(twitter_posts[idx])\n",
        "\n",
        "# Create the test matrix \n",
        "X_test_graph = np.zeros((len(test_index), 20))\n",
        "for i,idx in enumerate(test_index):\n",
        "    for neighbor in G.neighbors(posted_by[idx]):\n",
        "        if partition[neighbor] == partition[posted_by[idx]]:\n",
        "            X_test_graph[i,:15] += posts_per_class[neighbor]\n",
        "\n",
        "    if np.sum(X_test_graph[i,:15]) > 0:\n",
        "        X_test_graph[i,:15] /= np.sum(X_test_graph[i,:15])\n",
        "\n",
        "    X_test_graph[i,15] = G.degree(posted_by[idx])\n",
        "    X_test_graph[i,16] = partition[posted_by[idx]]\n",
        "    X_test_graph[i,17] = page_rank[posted_by[idx]]\n",
        "    X_test_graph[i,18] = closeness_centrality[posted_by[idx]]\n",
        "    X_test_graph[i,19] = len(twitter_posts[idx])\n",
        "    \n",
        "print(\"Train matrix dimensionality: \", X_train_graph.shape)\n",
        "print(\"Test matrix dimensionality: \", X_test_graph.shape)"
      ],
      "execution_count": 14,
      "outputs": [
        {
          "output_type": "stream",
          "text": [
            "Train matrix dimensionality:  (13219, 20)\n",
            "Test matrix dimensionality:  (3306, 20)\n"
          ],
          "name": "stdout"
        }
      ]
    },
    {
      "cell_type": "markdown",
      "metadata": {
        "id": "jDRiq5juzkD2",
        "colab_type": "text"
      },
      "source": [
        "## Deep Walk"
      ]
    },
    {
      "cell_type": "code",
      "metadata": {
        "id": "ZrZSn3xKzgtR",
        "colab_type": "code",
        "colab": {}
      },
      "source": [
        "from random import randint\n",
        "\n",
        "def random_walk(G, node, walk_length):\n",
        "    # Starts from vertex \"node\" and performs a random walk of length \"walk length\". Returns a list of the visited vertices\n",
        "    walk = [node]\n",
        "    \n",
        "    for i in range(walk_length-1):\n",
        "        neighbors = list(G.neighbors(walk[-1]))\n",
        "        if len(neighbors) > 0:\n",
        "            next_node = neighbors[randint(0, len(neighbors)-1)]\n",
        "            walk.append(next_node)\n",
        "        else:\n",
        "            break\n",
        "\n",
        "    walk = [str(node) for node in walk]\n",
        "    return walk"
      ],
      "execution_count": 15,
      "outputs": []
    },
    {
      "cell_type": "code",
      "metadata": {
        "id": "gezXmnNwznCr",
        "colab_type": "code",
        "colab": {}
      },
      "source": [
        "def generate_walks(graph, num_walks, walk_length):\n",
        "    # Runs \"num_walks\" random walks from each node, and returns a list of all random walk\n",
        "    walks = []\n",
        "    \n",
        "    for i in range(num_walks):\n",
        "        for node in graph.nodes():\n",
        "            walks.append(random_walk(graph, node, walk_length))\n",
        "\n",
        "    return walks"
      ],
      "execution_count": 16,
      "outputs": []
    },
    {
      "cell_type": "code",
      "metadata": {
        "id": "gL60nVgyzoRc",
        "colab_type": "code",
        "colab": {}
      },
      "source": [
        "# walks = generate_walks(G, 10, 10) 71.10%\n",
        "walks = generate_walks(G, 20, 20) #71.47%\n",
        "# walks = generate_walks(G, 30, 30)  #71.26%\n"
      ],
      "execution_count": 17,
      "outputs": []
    },
    {
      "cell_type": "code",
      "metadata": {
        "id": "HPpeJVjDzpak",
        "colab_type": "code",
        "colab": {
          "base_uri": "https://localhost:8080/",
          "height": 34
        },
        "outputId": "be3ea758-9b9d-41a1-92e1-16511ce19524"
      },
      "source": [
        "from gensim.models import Word2Vec\n",
        "model = Word2Vec(size=128, window=5, min_count=0, sg=1, workers=8)\n",
        "model.build_vocab(walks)\n",
        "model.train(walks, total_examples=model.corpus_count, epochs=10)"
      ],
      "execution_count": 18,
      "outputs": [
        {
          "output_type": "execute_result",
          "data": {
            "text/plain": [
              "(45703600, 45703600)"
            ]
          },
          "metadata": {
            "tags": []
          },
          "execution_count": 18
        }
      ]
    },
    {
      "cell_type": "code",
      "metadata": {
        "id": "l5SD8fhpzrB0",
        "colab_type": "code",
        "colab": {
          "base_uri": "https://localhost:8080/",
          "height": 51
        },
        "outputId": "e518ee28-896c-41c4-f705-f2458f2cd102"
      },
      "source": [
        "X_train_walks = np.zeros((len(train_index), 128))\n",
        "for i,idx in enumerate(train_index):\n",
        "    X_train_walks[i,:] = model.wv[str(posted_by[idx])]\n",
        "    \n",
        "\n",
        "X_test_walks = np.zeros((len(test_index), 128))\n",
        "for i,idx in enumerate(test_index):\n",
        "    X_test_walks[i,:] = model.wv[str(posted_by[idx])]\n",
        "    \n",
        "print(\"Dimensionality of training matrix:\", X_train_walks.shape)\n",
        "print(\"Dimensionality of test matrix:\", X_test_walks.shape)"
      ],
      "execution_count": 19,
      "outputs": [
        {
          "output_type": "stream",
          "text": [
            "Dimensionality of training matrix: (13219, 128)\n",
            "Dimensionality of test matrix: (3306, 128)\n"
          ],
          "name": "stdout"
        }
      ]
    },
    {
      "cell_type": "markdown",
      "metadata": {
        "id": "CFHNEVDXzzue",
        "colab_type": "text"
      },
      "source": [
        "## Graph of words with Grakel"
      ]
    },
    {
      "cell_type": "code",
      "metadata": {
        "id": "Lr2AXdLaztIE",
        "colab_type": "code",
        "colab": {
          "base_uri": "https://localhost:8080/",
          "height": 272
        },
        "outputId": "50efd69e-ffbb-4866-ec39-56ebe02b41a5"
      },
      "source": [
        "!pip install grakel"
      ],
      "execution_count": 20,
      "outputs": [
        {
          "output_type": "stream",
          "text": [
            "Collecting grakel\n",
            "\u001b[?25l  Downloading https://files.pythonhosted.org/packages/93/c4/23eac3ecdd3c77290262bbf84b504ca92e9568620a793906ca3d257aa8fc/grakel-0.1b7-cp36-cp36m-manylinux2010_x86_64.whl (1.7MB)\n",
            "\u001b[K     |████████████████████████████████| 1.7MB 2.6MB/s \n",
            "\u001b[?25hRequirement already satisfied: scikit-learn>=0.19 in /usr/local/lib/python3.6/dist-packages (from grakel) (0.22.2.post1)\n",
            "Requirement already satisfied: cython>=0.27.3 in /usr/local/lib/python3.6/dist-packages (from grakel) (0.29.20)\n",
            "Requirement already satisfied: numpy>=1.14.0 in /usr/local/lib/python3.6/dist-packages (from grakel) (1.18.5)\n",
            "Requirement already satisfied: future>=0.16.0 in /usr/local/lib/python3.6/dist-packages (from grakel) (0.16.0)\n",
            "Requirement already satisfied: six>=1.11.0 in /usr/local/lib/python3.6/dist-packages (from grakel) (1.12.0)\n",
            "Collecting nose>=1.1.2\n",
            "\u001b[?25l  Downloading https://files.pythonhosted.org/packages/15/d8/dd071918c040f50fa1cf80da16423af51ff8ce4a0f2399b7bf8de45ac3d9/nose-1.3.7-py3-none-any.whl (154kB)\n",
            "\u001b[K     |████████████████████████████████| 163kB 19.0MB/s \n",
            "\u001b[?25hRequirement already satisfied: joblib>=0.11 in /usr/local/lib/python3.6/dist-packages (from scikit-learn>=0.19->grakel) (0.15.1)\n",
            "Requirement already satisfied: scipy>=0.17.0 in /usr/local/lib/python3.6/dist-packages (from scikit-learn>=0.19->grakel) (1.4.1)\n",
            "Installing collected packages: nose, grakel\n",
            "Successfully installed grakel-0.1b7 nose-1.3.7\n"
          ],
          "name": "stdout"
        }
      ]
    },
    {
      "cell_type": "markdown",
      "metadata": {
        "id": "h1frAGZB4P8t",
        "colab_type": "text"
      },
      "source": [
        "Get Vocabulary"
      ]
    },
    {
      "cell_type": "code",
      "metadata": {
        "id": "7FepELHv4HZH",
        "colab_type": "code",
        "colab": {}
      },
      "source": [
        "def get_vocab(twitter_posts):\n",
        "    vocab = dict()\n",
        "    \n",
        "    for idx in train_index:\n",
        "      sent = twitter_posts[idx]\n",
        "      for word in (sent.split(' ')):\n",
        "        if word not in vocab:\n",
        "          vocab[word] = len(vocab)\n",
        "\n",
        "    for idx in test_index:\n",
        "      sent = twitter_posts[idx]\n",
        "      for word in (sent.split(' ')):\n",
        "          if word not in vocab:\n",
        "              vocab[word] = len(vocab)\n",
        "        \n",
        "    return vocab\n"
      ],
      "execution_count": 21,
      "outputs": []
    },
    {
      "cell_type": "code",
      "metadata": {
        "id": "10FR8ew7z-l2",
        "colab_type": "code",
        "colab": {
          "base_uri": "https://localhost:8080/",
          "height": 51
        },
        "outputId": "2ddbc8d3-3dcd-4ecf-eb9e-6ac2f0d880e8"
      },
      "source": [
        "# Extract vocabulary\n",
        "vocab = get_vocab(twitter_posts)\n",
        "print(\"Size of vocabulary:\", len(vocab))\n",
        "print(\"Index of term 'covid'\", vocab['covid'])"
      ],
      "execution_count": 22,
      "outputs": [
        {
          "output_type": "stream",
          "text": [
            "Size of vocabulary: 30103\n",
            "Index of term 'covid' 220\n"
          ],
          "name": "stdout"
        }
      ]
    },
    {
      "cell_type": "code",
      "metadata": {
        "id": "jLOrzS3U0A-S",
        "colab_type": "code",
        "colab": {}
      },
      "source": [
        "import networkx as nx\n",
        "import matplotlib.pyplot as plt\n",
        "%matplotlib inline\n",
        "\n",
        "def create_graphs_of_words(docs, vocab, window_size):\n",
        "    graphs = list()\n",
        "    sizes = list()\n",
        "    degs = list()\n",
        "\n",
        "    for idx,doc in enumerate(docs):\n",
        "        G = nx.Graph()\n",
        "      \n",
        "        for i in range(len(doc)):\n",
        "            if doc[i] not in G.nodes():\n",
        "                G.add_node(doc[i])\n",
        "                G.nodes[doc[i]]['label'] = vocab[doc[i]]\n",
        "        for i in range(len(doc)):\n",
        "            for j in range(i+1, i+window_size):\n",
        "                if j < len(doc):\n",
        "                    G.add_edge(doc[i], doc[j])\n",
        "        \n",
        "        graphs.append(G)\n",
        "    \n",
        "    return graphs"
      ],
      "execution_count": 23,
      "outputs": []
    },
    {
      "cell_type": "code",
      "metadata": {
        "id": "yg2LDpxm0NMo",
        "colab_type": "code",
        "colab": {}
      },
      "source": [
        "train_docs = []\n",
        "test_docs = []\n",
        "for idx in train_index:\n",
        "  sent = twitter_posts[idx].split(' ')\n",
        "  train_docs.append(sent)\n",
        "for idx in test_index:\n",
        "  sent = twitter_posts[idx].split(' ')\n",
        "  test_docs.append(sent)\n",
        "# Create graph-of-words representations\n",
        "G_train_nx = create_graphs_of_words(train_docs, vocab, 3)\n",
        "G_test_nx = create_graphs_of_words(test_docs, vocab, 3)"
      ],
      "execution_count": 24,
      "outputs": []
    },
    {
      "cell_type": "code",
      "metadata": {
        "id": "NvLmD04267Cr",
        "colab_type": "code",
        "colab": {
          "base_uri": "https://localhost:8080/",
          "height": 265
        },
        "outputId": "2800da3e-cc95-41b1-9c6d-c3852d9a8c82"
      },
      "source": [
        "print(\"Example of graph-of-words representation of document\")\n",
        "nx.draw_networkx(G_train_nx[1], with_labels=True)"
      ],
      "execution_count": 25,
      "outputs": [
        {
          "output_type": "stream",
          "text": [
            "Example of graph-of-words representation of document\n"
          ],
          "name": "stdout"
        },
        {
          "output_type": "display_data",
          "data": {
            "image/png": "[encoded data removed]",
            "text/plain": [
              "<Figure size 432x288 with 1 Axes>"
            ]
          },
          "metadata": {
            "tags": []
          }
        }
      ]
    },
    {
      "cell_type": "code",
      "metadata": {
        "id": "UfqpZlG4A3Ym",
        "colab_type": "code",
        "colab": {
          "base_uri": "https://localhost:8080/",
          "height": 105
        },
        "outputId": "416a57eb-7ae1-493b-8a7e-b6318ec0fc8b"
      },
      "source": [
        "from grakel.utils import graph_from_networkx\n",
        "from grakel.kernels import WeisfeilerLehman, VertexHistogram, RandomWalkLabeled,NeighborhoodHash\n",
        "# Transform networkx graphs to grakel representations\n",
        "G_train = list(graph_from_networkx(G_train_nx, node_labels_tag='label'))\n",
        "G_test= list(graph_from_networkx(G_test_nx, node_labels_tag='label'))"
      ],
      "execution_count": 26,
      "outputs": [
        {
          "output_type": "stream",
          "text": [
            "/usr/local/lib/python3.6/dist-packages/sklearn/externals/joblib/__init__.py:15: FutureWarning: sklearn.externals.joblib is deprecated in 0.21 and will be removed in 0.23. Please import this functionality directly from joblib, which can be installed with: pip install joblib. If this warning is raised when loading pickled models, you may need to re-serialize those models with scikit-learn 0.21+.\n",
            "  warnings.warn(msg, category=FutureWarning)\n",
            "/usr/local/lib/python3.6/dist-packages/sklearn/utils/deprecation.py:144: FutureWarning: The sklearn.datasets.lfw module is  deprecated in version 0.22 and will be removed in version 0.24. The corresponding classes / functions should instead be imported from sklearn.datasets. Anything that cannot be imported from sklearn.datasets is now part of the private API.\n",
            "  warnings.warn(message, FutureWarning)\n"
          ],
          "name": "stderr"
        }
      ]
    },
    {
      "cell_type": "code",
      "metadata": {
        "id": "pf4-ENFL7HMK",
        "colab_type": "code",
        "colab": {}
      },
      "source": [
        "\n",
        "\n",
        "from sklearn.model_selection import train_test_split  \n",
        "X_train_nx, X_test_nx, y_train_nx, y_test_nx = train_test_split(G_train, y_train_input, test_size=0.25, random_state=23828748)\n",
        "\n",
        "# Initialize a Weisfeiler-Lehman subtree kernel\n",
        "gk = WeisfeilerLehman(n_iter=1, normalize=True)\n",
        "# Construct kernel matrices\n",
        "K_train = gk.fit_transform(X_train_nx)\n",
        "K_test = gk.transform(X_test_nx)"
      ],
      "execution_count": 28,
      "outputs": []
    },
    {
      "cell_type": "code",
      "metadata": {
        "id": "Mh0CotE87W1N",
        "colab_type": "code",
        "colab": {
          "base_uri": "https://localhost:8080/",
          "height": 34
        },
        "outputId": "14729a77-b6c1-4001-ca9b-f7358da8560b"
      },
      "source": [
        "# Train an SVM classifier and make predictions\n",
        "from sklearn import svm\n",
        "clf = svm.SVC(kernel='precomputed')\n",
        "clf.fit(K_train, y_train) \n",
        "y_pred = clf.predict(K_test)\n",
        "\n",
        "# Evaluate the predictions\n",
        "print(\"Accuracy:\", accuracy_score(y_pred, y_test_nx))"
      ],
      "execution_count": 29,
      "outputs": [
        {
          "output_type": "stream",
          "text": [
            "Accuracy: 0.6529500756429653\n"
          ],
          "name": "stdout"
        }
      ]
    },
    {
      "cell_type": "markdown",
      "metadata": {
        "id": "GR13aEhg9LyS",
        "colab_type": "text"
      },
      "source": [
        "## Pretrained Word Embeddings"
      ]
    },
    {
      "cell_type": "code",
      "metadata": {
        "id": "f2dqyJnZ7kwH",
        "colab_type": "code",
        "colab": {}
      },
      "source": [
        "GLOVE_DIM = 50\n",
        "glove_file = 'glove.twitter.27B.' + str(GLOVE_DIM) + 'd.txt'\n",
        "emb_dict = {}\n",
        "glove = open('/content/drive/My Drive/Colab Notebooks/DataChallenge/data/glove.twitter.27B.' + str(GLOVE_DIM) + 'd.txt')\n",
        "for line in glove:\n",
        "    values = line.split()\n",
        "    word = values[0]\n",
        "    vector = np.asarray(values[1:], dtype='float32')\n",
        "    emb_dict[word] = vector\n",
        "glove.close()"
      ],
      "execution_count": 30,
      "outputs": []
    },
    {
      "cell_type": "markdown",
      "metadata": {
        "id": "52GuARgm9wsh",
        "colab_type": "text"
      },
      "source": [
        "### Word 2 Vec Feature"
      ]
    },
    {
      "cell_type": "code",
      "metadata": {
        "id": "RKoBTIHG9a7g",
        "colab_type": "code",
        "colab": {}
      },
      "source": [
        "# tfidf_feat = vectorizer.get_feature_names()\n",
        "train_w2v =[];\n",
        "row=0;\n",
        "for idx in train_index:\n",
        "  sent_vec = np.zeros(50)\n",
        "  sent = twitter_posts[idx]\n",
        "  weight_sum =0;\n",
        "  for word in (sent.split(' ')):\n",
        "    if  word in emb_dict.keys():      \n",
        "      vec = emb_dict[word]\n",
        "      sent_vec += vec\n",
        "    # sent_vec/=weight_sum\n",
        "  train_w2v.append(sent_vec)\n",
        "\n",
        "  row +=1      "
      ],
      "execution_count": 31,
      "outputs": []
    },
    {
      "cell_type": "code",
      "metadata": {
        "id": "JaVb5NTZ9d57",
        "colab_type": "code",
        "colab": {}
      },
      "source": [
        "# tfidf_feat = vectorizer.get_feature_names()\n",
        "test_w2v =[];\n",
        "row=0;\n",
        "for idx in test_index:\n",
        "  sent_vec = np.zeros(50)\n",
        "  sent = twitter_posts[idx]\n",
        "  weight_sum =0;\n",
        "  for word in (sent.split(' ')):\n",
        "    if  word in emb_dict.keys():      \n",
        "      vec = emb_dict[word]\n",
        "      sent_vec += vec\n",
        "    # sent_vec/=weight_sum\n",
        "  test_w2v.append(sent_vec)\n",
        "\n",
        "  row +=1      "
      ],
      "execution_count": 32,
      "outputs": []
    },
    {
      "cell_type": "code",
      "metadata": {
        "id": "Np-KlEmD9g24",
        "colab_type": "code",
        "colab": {}
      },
      "source": [
        "from sklearn.preprocessing import Normalizer\n",
        "\n",
        "train_w2v = Normalizer().fit_transform(train_w2v)\n",
        "test_w2v = Normalizer().fit_transform(test_w2v)"
      ],
      "execution_count": 33,
      "outputs": []
    },
    {
      "cell_type": "code",
      "metadata": {
        "id": "Gx_wUY0D9kni",
        "colab_type": "code",
        "colab": {}
      },
      "source": [
        "X_train_input_final = csr_matrix(hstack([X_train_input,X_train_graph,X_train_walks,train_w2v]))\n",
        "X_kaggle = csr_matrix(hstack([X_test_final,X_test_graph,X_test_walks,test_w2v]))"
      ],
      "execution_count": 34,
      "outputs": []
    },
    {
      "cell_type": "code",
      "metadata": {
        "id": "9fvttRuX9p0g",
        "colab_type": "code",
        "colab": {}
      },
      "source": [
        "from sklearn.model_selection import train_test_split  \n",
        "X_train, X_test, y_train, y_test = train_test_split(X_train_input_final, y_train_input, test_size=0.25, random_state=23828748)\n",
        "categories = [str(x) for x in np.arange(0, 15, 1)]"
      ],
      "execution_count": 35,
      "outputs": []
    },
    {
      "cell_type": "code",
      "metadata": {
        "id": "nexivUSK9t9p",
        "colab_type": "code",
        "colab": {
          "base_uri": "https://localhost:8080/",
          "height": 802
        },
        "outputId": "b4805bd4-0439-4e35-e367-69cd35e4529e"
      },
      "source": [
        "from sklearn.linear_model import LogisticRegression\n",
        "from sklearn.metrics import f1_score\n",
        "\n",
        "clf = LogisticRegression(solver=\"liblinear\", C=5, max_iter=200)\n",
        "clf.fit(X_train, y_train)\n",
        "predictions = clf.predict(X_train)\n",
        "score = f1_score(y_train,predictions,average='micro')\n",
        "print(\"train f1-score: %.2f%%\"%(score*100))\n",
        "\n",
        "predictions_test = clf.predict(X_test)\n",
        "score = f1_score(y_test, predictions_test,average='micro')\n",
        "print(\"test f1-score: %.2f%%\"%(score*100))\n",
        "print()\n",
        "print(\"test data confusion matrix\")\n",
        "y_true = pd.Series(y_test, name='True')\n",
        "y_pred = pd.Series(predictions_test, name='Predicted')\n",
        "print(pd.crosstab(y_true, y_pred))\n",
        "print(classification_report(y_true, y_pred,target_names=categories))\n"
      ],
      "execution_count": 36,
      "outputs": [
        {
          "output_type": "stream",
          "text": [
            "train f1-score: 92.22%\n",
            "test f1-score: 70.86%\n",
            "\n",
            "test data confusion matrix\n",
            "Predicted    0   1    2    3    4   5   6   8   9   10  11  12  13  14\n",
            "True                                                                  \n",
            "0          1177   6   92   43   40   1   0   1   1   5  11   4   2   6\n",
            "1            24  84   32    5    5   1   0   0   0   3   0   1   1   0\n",
            "2           126  10  420    5    5   2   1   0   0   9   2   6   0   0\n",
            "3            56   2    6  278    2   0   0   2   0   0   0   3   0   0\n",
            "4            93   3   13    2  138   0   0   1   0   5   2   0   0   1\n",
            "5             5   0    5    1    0  41   0   0   0   1   0   0   0   0\n",
            "6             9   3    6    2    1   0   5   0   0   2   0   0   0   0\n",
            "7             5   0    1    0    0   0   0   0   0   0   0   0   0   0\n",
            "8            11   2    0    2    1   0   0   6   0   0   0   0   0   0\n",
            "9            14   2    3    0    1   0   0   0   9   0   1   0   0   0\n",
            "10           42   6   41    2    6   0   0   0   0  21   1   2   1   0\n",
            "11           21   1   11    2    1   0   0   0   0   1  60   0   1   0\n",
            "12           15   4   17    2    1   0   0   0   0   4   0  28   0   0\n",
            "13           12   0    1    0    1   0   0   0   0   0   0   0  43   0\n",
            "14           40   1    4    0    3   0   0   0   0   0   0   0   0  32\n",
            "              precision    recall  f1-score   support\n",
            "\n",
            "           0       0.71      0.85      0.77      1389\n",
            "           1       0.68      0.54      0.60       156\n",
            "           2       0.64      0.72      0.68       586\n",
            "           3       0.81      0.80      0.80       349\n",
            "           4       0.67      0.53      0.60       258\n",
            "           5       0.91      0.77      0.84        53\n",
            "           6       0.83      0.18      0.29        28\n",
            "           7       0.00      0.00      0.00         6\n",
            "           8       0.60      0.27      0.37        22\n",
            "           9       0.90      0.30      0.45        30\n",
            "          10       0.41      0.17      0.24       122\n",
            "          11       0.78      0.61      0.69        98\n",
            "          12       0.64      0.39      0.49        71\n",
            "          13       0.90      0.75      0.82        57\n",
            "          14       0.82      0.40      0.54        80\n",
            "\n",
            "    accuracy                           0.71      3305\n",
            "   macro avg       0.69      0.49      0.55      3305\n",
            "weighted avg       0.70      0.71      0.69      3305\n",
            "\n"
          ],
          "name": "stdout"
        },
        {
          "output_type": "stream",
          "text": [
            "/usr/local/lib/python3.6/dist-packages/sklearn/metrics/_classification.py:1272: UndefinedMetricWarning: Precision and F-score are ill-defined and being set to 0.0 in labels with no predicted samples. Use `zero_division` parameter to control this behavior.\n",
            "  _warn_prf(average, modifier, msg_start, len(result))\n"
          ],
          "name": "stderr"
        }
      ]
    },
    {
      "cell_type": "markdown",
      "metadata": {
        "id": "1qAjDzsk92QC",
        "colab_type": "text"
      },
      "source": [
        "### Word 2 Vec with TF-IDF"
      ]
    },
    {
      "cell_type": "code",
      "metadata": {
        "id": "kSvmGmyv9UH0",
        "colab_type": "code",
        "colab": {}
      },
      "source": [
        "model = TfidfVectorizer()\n",
        "model.fit(train_posts)\n",
        "dictionary = dict(zip(model.get_feature_names(),list(model.idf_)))"
      ],
      "execution_count": 47,
      "outputs": []
    },
    {
      "cell_type": "code",
      "metadata": {
        "id": "XJaya20F-AuP",
        "colab_type": "code",
        "colab": {}
      },
      "source": [
        "tfidf_feat = vectorizer.get_feature_names()\n",
        "train_w2v_tfidf =[];\n",
        "row=0;\n",
        "for idx in train_index:\n",
        "  sent_vec = np.zeros(50)\n",
        "  sent = twitter_posts[idx]\n",
        "  weight_sum =0;\n",
        "  for word in (sent.split(' ')):\n",
        "    if  word in emb_dict.keys() and word in tfidf_feat:      \n",
        "      vec = emb_dict[word]\n",
        "      tf_idf =  dictionary[word]*sent.split(' ').count(word)/len(sent.split(' '))\n",
        "      sent_vec += (vec * tf_idf)\n",
        "      weight_sum += tf_idf\n",
        "  if weight_sum != 0 :\n",
        "    # sent_vec/=weight_sum\n",
        "    train_w2v_tfidf.append(sent_vec/weight_sum)\n",
        "  else:\n",
        "    train_w2v_tfidf.append(np.zeros(50)  )\n",
        "  row +=1      "
      ],
      "execution_count": 48,
      "outputs": []
    },
    {
      "cell_type": "code",
      "metadata": {
        "id": "5X5m7mxe-CrJ",
        "colab_type": "code",
        "colab": {}
      },
      "source": [
        "tfidf_feat = vectorizer.get_feature_names()\n",
        "test_w2v_tfidf =[];\n",
        "row=0;\n",
        "for idx in test_index:\n",
        "  sent_vec = np.zeros(50)\n",
        "  sent = twitter_posts[idx]\n",
        "  weight_sum =0;\n",
        "  for word in (sent.split(' ')):\n",
        "    if  word in emb_dict.keys() and word in tfidf_feat:      \n",
        "      vec = emb_dict[word]\n",
        "      tf_idf = dictionary[word]*sent.split(' ').count(word)/len(sent.split(' '))\n",
        "      sent_vec += (vec * tf_idf)\n",
        "      weight_sum += tf_idf\n",
        "  if weight_sum != 0 :\n",
        "    # sent_vec/=weight_sum\n",
        "    test_w2v_tfidf.append(sent_vec/weight_sum)\n",
        "  else:\n",
        "    test_w2v_tfidf.append(np.zeros(50))\n",
        "  row +=1       "
      ],
      "execution_count": 49,
      "outputs": []
    },
    {
      "cell_type": "markdown",
      "metadata": {
        "id": "YcksBcwm-FG8",
        "colab_type": "text"
      },
      "source": [
        "Normalize Feature"
      ]
    },
    {
      "cell_type": "code",
      "metadata": {
        "id": "RzybYpFD-EcS",
        "colab_type": "code",
        "colab": {}
      },
      "source": [
        "from sklearn.preprocessing import Normalizer\n",
        "\n",
        "train_w2v_tfidf_norm = Normalizer().fit_transform(train_w2v_tfidf)\n",
        "test_w2v_tfidf_norm = Normalizer().fit_transform(test_w2v_tfidf)\n",
        "\n",
        "X_train_graph_norm = Normalizer().fit_transform(X_train_graph)\n",
        "X_test_graph_norm = Normalizer().fit_transform(X_test_graph)\n",
        "\n",
        "X_train_walks_norm = Normalizer().fit_transform(X_train_walks)\n",
        "X_test_walks_norm = Normalizer().fit_transform(X_test_walks)\n"
      ],
      "execution_count": 50,
      "outputs": []
    },
    {
      "cell_type": "code",
      "metadata": {
        "id": "shptYoqr-Mji",
        "colab_type": "code",
        "colab": {
          "base_uri": "https://localhost:8080/",
          "height": 51
        },
        "outputId": "e904e62f-5542-4c21-9214-8515ebcd0ede"
      },
      "source": [
        "train_posts = [twitter_posts[idx] for idx in train_index  ]\n",
        "test_posts = [twitter_posts[idx] for idx in test_index ]\n",
        "# vectorizer = TfidfVectorizer(ngram_range=(1,2),  max_features = 7000,sublinear_tf=True,min_df = 0.00005,max_df = 0.85, stop_words=stopwords.words('english'))\n",
        "vectorizer = TfidfVectorizer(ngram_range=(1,3),  max_features = 12000,sublinear_tf=True,min_df = 0.00005,max_df = 0.85, stop_words=stopwords.words('english'))\n",
        "\n",
        "X_train_input = vectorizer.fit_transform(train_posts)\n",
        "\n",
        "X_test_final = vectorizer.transform(test_posts)\n",
        "\n",
        "print(\"Train matrix dimensionality: \", X_train_input.shape)\n",
        "print(\"Test matrix dimensionality: \", X_test_final.shape)\n"
      ],
      "execution_count": 51,
      "outputs": [
        {
          "output_type": "stream",
          "text": [
            "Train matrix dimensionality:  (13219, 12000)\n",
            "Test matrix dimensionality:  (3306, 12000)\n"
          ],
          "name": "stdout"
        }
      ]
    },
    {
      "cell_type": "code",
      "metadata": {
        "id": "wjDMYsomDxYb",
        "colab_type": "code",
        "colab": {}
      },
      "source": [
        "# gk = WeisfeilerLehman(n_iter=1, normalize=True)\n",
        "# K_train = gk.fit_transform(G_train)\n",
        "# K_test_final = gk.transform(G_test)"
      ],
      "execution_count": null,
      "outputs": []
    },
    {
      "cell_type": "code",
      "metadata": {
        "id": "iN3Skwo4P06u",
        "colab_type": "code",
        "colab": {}
      },
      "source": [
        "X_train_input_final = csr_matrix(hstack([X_train_input,X_train_graph_norm,X_train_walks_norm,train_w2v_tfidf_norm]))\n",
        "X_kaggle = csr_matrix(hstack([X_test_final,X_test_graph_norm,X_test_walks_norm,test_w2v_tfidf_norm]))"
      ],
      "execution_count": 52,
      "outputs": []
    },
    {
      "cell_type": "code",
      "metadata": {
        "id": "iq_B9R4J-UMc",
        "colab_type": "code",
        "colab": {}
      },
      "source": [
        "from sklearn.model_selection import train_test_split  \n",
        "X_train, X_test, y_train, y_test = train_test_split(X_train_input_final, y_train_input, test_size=0.25, random_state=23828748)\n",
        "categories = [str(x) for x in np.arange(0, 15, 1)]"
      ],
      "execution_count": 53,
      "outputs": []
    },
    {
      "cell_type": "code",
      "metadata": {
        "id": "q6ATPckhPVUn",
        "colab_type": "code",
        "colab": {
          "base_uri": "https://localhost:8080/",
          "height": 802
        },
        "outputId": "9d5c4245-379d-4c06-c0a4-97d86b8b25bc"
      },
      "source": [
        "from sklearn.linear_model import LogisticRegression\n",
        "from sklearn.metrics import f1_score\n",
        "\n",
        "clf = LogisticRegression(solver=\"liblinear\", C=5, max_iter=200)\n",
        "clf.fit(X_train, y_train)\n",
        "predictions = clf.predict(X_train)\n",
        "score = f1_score(y_train,predictions,average='micro')\n",
        "print(\"train f1-score: %.2f%%\"%(score*100))\n",
        "\n",
        "predictions_test = clf.predict(X_test)\n",
        "score = f1_score(y_test, predictions_test,average='micro')\n",
        "print(\"test f1-score: %.2f%%\"%(score*100))\n",
        "print()\n",
        "print(\"test data confusion matrix\")\n",
        "y_true = pd.Series(y_test, name='True')\n",
        "y_pred = pd.Series(predictions_test, name='Predicted')\n",
        "print(pd.crosstab(y_true, y_pred))\n",
        "print(classification_report(y_true, y_pred,target_names=categories))\n"
      ],
      "execution_count": 54,
      "outputs": [
        {
          "output_type": "stream",
          "text": [
            "train f1-score: 92.96%\n",
            "test f1-score: 70.65%\n",
            "\n",
            "test data confusion matrix\n",
            "Predicted    0   1    2    3    4   5   6   8   9   10  11  12  13  14\n",
            "True                                                                  \n",
            "0          1196   3   89   36   41   0   0   0   1   4   9   4   2   4\n",
            "1            31  77   30    7    3   1   0   0   0   4   0   2   1   0\n",
            "2           125   8  427    6    5   0   0   0   1   5   3   6   0   0\n",
            "3            55   2    4  282    3   0   0   0   0   1   0   2   0   0\n",
            "4            93   1   15    3  136   0   0   0   0   6   2   0   0   2\n",
            "5             8   0    6    0    0  39   0   0   0   0   0   0   0   0\n",
            "6            12   3    5    2    1   0   4   0   0   1   0   0   0   0\n",
            "7             6   0    0    0    0   0   0   0   0   0   0   0   0   0\n",
            "8            12   2    0    3    0   0   0   5   0   0   0   0   0   0\n",
            "9            18   1    2    0    0   0   0   0   8   0   1   0   0   0\n",
            "10           46   5   41    2    4   0   0   0   0  21   1   1   0   1\n",
            "11           28   1    8    1    2   0   0   0   0   2  54   2   0   0\n",
            "12           19   3   20    2    1   0   0   0   0   4   0  22   0   0\n",
            "13           14   0    2    0    0   0   0   0   0   0   0   0  41   0\n",
            "14           50   0    4    0    3   0   0   0   0   0   0   0   0  23\n",
            "              precision    recall  f1-score   support\n",
            "\n",
            "           0       0.70      0.86      0.77      1389\n",
            "           1       0.73      0.49      0.59       156\n",
            "           2       0.65      0.73      0.69       586\n",
            "           3       0.82      0.81      0.81       349\n",
            "           4       0.68      0.53      0.60       258\n",
            "           5       0.97      0.74      0.84        53\n",
            "           6       1.00      0.14      0.25        28\n",
            "           7       0.00      0.00      0.00         6\n",
            "           8       1.00      0.23      0.37        22\n",
            "           9       0.80      0.27      0.40        30\n",
            "          10       0.44      0.17      0.25       122\n",
            "          11       0.77      0.55      0.64        98\n",
            "          12       0.56      0.31      0.40        71\n",
            "          13       0.93      0.72      0.81        57\n",
            "          14       0.77      0.29      0.42        80\n",
            "\n",
            "    accuracy                           0.71      3305\n",
            "   macro avg       0.72      0.46      0.52      3305\n",
            "weighted avg       0.71      0.71      0.69      3305\n",
            "\n"
          ],
          "name": "stdout"
        },
        {
          "output_type": "stream",
          "text": [
            "/usr/local/lib/python3.6/dist-packages/sklearn/metrics/_classification.py:1272: UndefinedMetricWarning: Precision and F-score are ill-defined and being set to 0.0 in labels with no predicted samples. Use `zero_division` parameter to control this behavior.\n",
            "  _warn_prf(average, modifier, msg_start, len(result))\n"
          ],
          "name": "stderr"
        }
      ]
    },
    {
      "cell_type": "markdown",
      "metadata": {
        "id": "NSCsVrb7HjJI",
        "colab_type": "text"
      },
      "source": [
        "## Train my own Word Embeddings"
      ]
    },
    {
      "cell_type": "code",
      "metadata": {
        "id": "3W8INludHbGU",
        "colab_type": "code",
        "colab": {}
      },
      "source": [
        "i=0\n",
        "list_of_sentences = []\n",
        "for sen in range(0, len(posts)): \n",
        "  sentence = str(posts[sen])\n",
        "  list_of_sentences.append(sentence.split())"
      ],
      "execution_count": 37,
      "outputs": []
    },
    {
      "cell_type": "code",
      "metadata": {
        "id": "NEV5V7waHpg_",
        "colab_type": "code",
        "colab": {}
      },
      "source": [
        "from gensim.models import Word2Vec  \n",
        "w2v_model = Word2Vec(list_of_sentences,size=50,window=10,min_count=5,workers=4)"
      ],
      "execution_count": 38,
      "outputs": []
    },
    {
      "cell_type": "code",
      "metadata": {
        "id": "NbHk7QyqHrFf",
        "colab_type": "code",
        "colab": {}
      },
      "source": [
        "w2v_words = list(w2v_model.wv.vocab)"
      ],
      "execution_count": 39,
      "outputs": []
    },
    {
      "cell_type": "code",
      "metadata": {
        "id": "RAsvMYuHziB0",
        "colab_type": "code",
        "colab": {}
      },
      "source": [
        "model = TfidfVectorizer()\n",
        "model.fit(train_posts)\n",
        "dictionary = dict(zip(model.get_feature_names(),list(model.idf_)))"
      ],
      "execution_count": null,
      "outputs": []
    },
    {
      "cell_type": "code",
      "metadata": {
        "id": "izQUqp6ZHshA",
        "colab_type": "code",
        "colab": {}
      },
      "source": [
        "tfidf_feat = vectorizer.get_feature_names()\n",
        "train_w2v_tfidf =[];\n",
        "row=0;\n",
        "for idx in train_index:\n",
        "  sent_vec = np.zeros(50)\n",
        "  sent = twitter_posts[idx]\n",
        "  weight_sum =0;\n",
        "  for word in (sent.split(' ')):\n",
        "    if  word in w2v_words and word in tfidf_feat:      \n",
        "      vec = w2v_model.wv[word]\n",
        "      tf_idf =  dictionary[word]*sent.count(word)/len(sent)\n",
        "      sent_vec += (vec * tf_idf)\n",
        "      weight_sum += tf_idf\n",
        "  if weight_sum != 0 :\n",
        "    # sent_vec/=weight_sum\n",
        "    train_w2v_tfidf.append(sent_vec/weight_sum)\n",
        "  else:\n",
        "    train_w2v_tfidf.append(np.zeros(50))\n",
        "  row +=1      "
      ],
      "execution_count": 42,
      "outputs": []
    },
    {
      "cell_type": "code",
      "metadata": {
        "id": "JhUB-VbJHuVt",
        "colab_type": "code",
        "colab": {}
      },
      "source": [
        "tfidf_feat = vectorizer.get_feature_names()\n",
        "test_w2v_tfidf =[];\n",
        "row=0;\n",
        "for idx in test_index:\n",
        "  sent_vec = np.zeros(50)\n",
        "  sent = twitter_posts[idx]\n",
        "  weight_sum =0;\n",
        "  for word in (sent.split(' ')):\n",
        "    if  word in w2v_words and word in tfidf_feat:      \n",
        "      vec = w2v_model.wv[word]\n",
        "      tf_idf =  dictionary[word]*sent.count(word)/len(sent)\n",
        "      sent_vec += (vec * tf_idf)\n",
        "      weight_sum += tf_idf\n",
        "  if weight_sum != 0 :\n",
        "    # sent_vec/=weight_sum\n",
        "    test_w2v_tfidf.append(sent_vec/weight_sum)\n",
        "  else:\n",
        "    test_w2v_tfidf.append(np.zeros(50))\n",
        "  row +=1      "
      ],
      "execution_count": 43,
      "outputs": []
    },
    {
      "cell_type": "code",
      "metadata": {
        "id": "ywGINNcWHwB3",
        "colab_type": "code",
        "colab": {}
      },
      "source": [
        "from sklearn.preprocessing import Normalizer\n",
        "\n",
        "train_w2v_tfidf = Normalizer().fit_transform(train_w2v_tfidf)\n",
        "test_w2v_tfidf = Normalizer().fit_transform(test_w2v_tfidf)\n"
      ],
      "execution_count": 44,
      "outputs": []
    },
    {
      "cell_type": "code",
      "metadata": {
        "id": "X2AroSMGHyIe",
        "colab_type": "code",
        "colab": {}
      },
      "source": [
        "X_train_input_final = csr_matrix(hstack([X_train_input,X_train_graph,X_train_walks,train_w2v_tfidf]))\n",
        "X_kaggle = csr_matrix(hstack([X_test_final,X_test_graph,X_test_walks,test_w2v_tfidf]))"
      ],
      "execution_count": 45,
      "outputs": []
    },
    {
      "cell_type": "code",
      "metadata": {
        "id": "jQFiKxXVHzwH",
        "colab_type": "code",
        "colab": {}
      },
      "source": [
        "from sklearn.model_selection import train_test_split  \n",
        "X_train, X_test, y_train, y_test = train_test_split(X_train_input_final, y_train_input, test_size=0.25, random_state=23828748)\n",
        "categories = [str(x) for x in np.arange(0, 15, 1)]"
      ],
      "execution_count": 46,
      "outputs": []
    },
    {
      "cell_type": "markdown",
      "metadata": {
        "id": "qu3ziQ05J51H",
        "colab_type": "text"
      },
      "source": [
        "### Smote and class weights"
      ]
    },
    {
      "cell_type": "code",
      "metadata": {
        "id": "Dz6PwXCdJ38I",
        "colab_type": "code",
        "colab": {
          "base_uri": "https://localhost:8080/",
          "height": 88
        },
        "outputId": "be03c51f-d67d-470b-88c7-4f6f249b31a1"
      },
      "source": [
        "categories = [str(x) for x in np.arange(0, 15, 1)]\n",
        "\n",
        "\n",
        "weights = class_weight.compute_class_weight('balanced', np.unique(y_train),y_train)\n",
        "\n",
        "\n",
        "class_w = dict()\n",
        "for i in range(0, len(weights)):\n",
        "    class_w[i] = weights[i]\n",
        "smote = SMOTE('minority')\n",
        "X_sm, y_sm = smote.fit_sample(X_train, y_train)\n",
        "print(X_train.shape,X_sm.shape)"
      ],
      "execution_count": 55,
      "outputs": [
        {
          "output_type": "stream",
          "text": [
            "/usr/local/lib/python3.6/dist-packages/sklearn/utils/deprecation.py:87: FutureWarning: Function safe_indexing is deprecated; safe_indexing is deprecated in version 0.22 and will be removed in version 0.24.\n",
            "  warnings.warn(msg, category=FutureWarning)\n"
          ],
          "name": "stderr"
        },
        {
          "output_type": "stream",
          "text": [
            "(9914, 12198) (14135, 12198)\n"
          ],
          "name": "stdout"
        }
      ]
    },
    {
      "cell_type": "markdown",
      "metadata": {
        "id": "8eQlCTg7H2JZ",
        "colab_type": "text"
      },
      "source": [
        "## Algorithms"
      ]
    },
    {
      "cell_type": "markdown",
      "metadata": {
        "id": "bh0F2w9pIGFR",
        "colab_type": "text"
      },
      "source": [
        "#### Logistic Regression"
      ]
    },
    {
      "cell_type": "code",
      "metadata": {
        "id": "A2SrB_iXH4kV",
        "colab_type": "code",
        "colab": {
          "base_uri": "https://localhost:8080/",
          "height": 802
        },
        "outputId": "723fef07-b6e8-4af4-a093-796a24cfa7a5"
      },
      "source": [
        "from sklearn.linear_model import LogisticRegression\n",
        "from sklearn.metrics import f1_score\n",
        "\n",
        "clf = LogisticRegression(solver=\"liblinear\", C=5, max_iter=200)\n",
        "clf.fit(X_train, y_train)\n",
        "predictions = clf.predict(X_train)\n",
        "score = f1_score(y_train,predictions,average='micro')\n",
        "print(\"train f1-score: %.2f%%\"%(score*100))\n",
        "\n",
        "predictions_test = clf.predict(X_test)\n",
        "score = f1_score(y_test, predictions_test,average='micro')\n",
        "print(\"test f1-score: %.2f%%\"%(score*100))\n",
        "print()\n",
        "print(\"test data confusion matrix\")\n",
        "y_true = pd.Series(y_test, name='True')\n",
        "y_pred = pd.Series(predictions_test, name='Predicted')\n",
        "print(pd.crosstab(y_true, y_pred))\n",
        "print(classification_report(y_true, y_pred,target_names=categories))\n"
      ],
      "execution_count": 56,
      "outputs": [
        {
          "output_type": "stream",
          "text": [
            "train f1-score: 92.96%\n",
            "test f1-score: 70.65%\n",
            "\n",
            "test data confusion matrix\n",
            "Predicted    0   1    2    3    4   5   6   8   9   10  11  12  13  14\n",
            "True                                                                  \n",
            "0          1196   3   89   36   41   0   0   0   1   4   9   4   2   4\n",
            "1            31  77   30    7    3   1   0   0   0   4   0   2   1   0\n",
            "2           125   8  427    6    5   0   0   0   1   5   3   6   0   0\n",
            "3            55   2    4  282    3   0   0   0   0   1   0   2   0   0\n",
            "4            93   1   15    3  136   0   0   0   0   6   2   0   0   2\n",
            "5             8   0    6    0    0  39   0   0   0   0   0   0   0   0\n",
            "6            12   3    5    2    1   0   4   0   0   1   0   0   0   0\n",
            "7             6   0    0    0    0   0   0   0   0   0   0   0   0   0\n",
            "8            12   2    0    3    0   0   0   5   0   0   0   0   0   0\n",
            "9            18   1    2    0    0   0   0   0   8   0   1   0   0   0\n",
            "10           46   5   41    2    4   0   0   0   0  21   1   1   0   1\n",
            "11           28   1    8    1    2   0   0   0   0   2  54   2   0   0\n",
            "12           19   3   20    2    1   0   0   0   0   4   0  22   0   0\n",
            "13           14   0    2    0    0   0   0   0   0   0   0   0  41   0\n",
            "14           50   0    4    0    3   0   0   0   0   0   0   0   0  23\n",
            "              precision    recall  f1-score   support\n",
            "\n",
            "           0       0.70      0.86      0.77      1389\n",
            "           1       0.73      0.49      0.59       156\n",
            "           2       0.65      0.73      0.69       586\n",
            "           3       0.82      0.81      0.81       349\n",
            "           4       0.68      0.53      0.60       258\n",
            "           5       0.97      0.74      0.84        53\n",
            "           6       1.00      0.14      0.25        28\n",
            "           7       0.00      0.00      0.00         6\n",
            "           8       1.00      0.23      0.37        22\n",
            "           9       0.80      0.27      0.40        30\n",
            "          10       0.44      0.17      0.25       122\n",
            "          11       0.77      0.55      0.64        98\n",
            "          12       0.56      0.31      0.40        71\n",
            "          13       0.93      0.72      0.81        57\n",
            "          14       0.77      0.29      0.42        80\n",
            "\n",
            "    accuracy                           0.71      3305\n",
            "   macro avg       0.72      0.46      0.52      3305\n",
            "weighted avg       0.71      0.71      0.69      3305\n",
            "\n"
          ],
          "name": "stdout"
        },
        {
          "output_type": "stream",
          "text": [
            "/usr/local/lib/python3.6/dist-packages/sklearn/metrics/_classification.py:1272: UndefinedMetricWarning: Precision and F-score are ill-defined and being set to 0.0 in labels with no predicted samples. Use `zero_division` parameter to control this behavior.\n",
            "  _warn_prf(average, modifier, msg_start, len(result))\n"
          ],
          "name": "stderr"
        }
      ]
    },
    {
      "cell_type": "markdown",
      "metadata": {
        "id": "9jxlgw-2IJfF",
        "colab_type": "text"
      },
      "source": [
        "#### Logistic Regression with class weights"
      ]
    },
    {
      "cell_type": "code",
      "metadata": {
        "id": "pU70lvJNIIv4",
        "colab_type": "code",
        "colab": {
          "base_uri": "https://localhost:8080/",
          "height": 748
        },
        "outputId": "8c3d7807-1c94-4a92-8b56-fd49975f8011"
      },
      "source": [
        "from sklearn.linear_model import LogisticRegression\n",
        "from sklearn.metrics import f1_score\n",
        "\n",
        "clf = LogisticRegression(solver=\"liblinear\", C=6, max_iter=200,class_weight=class_w)\n",
        "clf.fit(X_train, y_train)\n",
        "predictions = clf.predict(X_train)\n",
        "score = f1_score(y_train,predictions,average='micro')\n",
        "print(\"train f1-score: %.2f%%\"%(score*100))\n",
        "\n",
        "predictions_test = clf.predict(X_test)\n",
        "score = f1_score(y_test, predictions_test,average='micro')\n",
        "print(\"test f1-score: %.2f%%\"%(score*100))\n",
        "print()\n",
        "print(\"test data confusion matrix\")\n",
        "y_true = pd.Series(y_test, name='True')\n",
        "y_pred = pd.Series(predictions_test, name='Predicted')\n",
        "print(pd.crosstab(y_true, y_pred))\n",
        "print(classification_report(y_true, y_pred,target_names=categories))\n"
      ],
      "execution_count": 57,
      "outputs": [
        {
          "output_type": "stream",
          "text": [
            "train f1-score: 91.80%\n",
            "test f1-score: 70.29%\n",
            "\n",
            "test data confusion matrix\n",
            "Predicted    0   1    2    3    4   5   6   7   8   9   10  11  12  13  14\n",
            "True                                                                      \n",
            "0          1047  15   96   58   81   1   2   0   6   4  18  19  11   6  25\n",
            "1            14  95   22    6    2   1   1   0   0   2   7   0   5   1   0\n",
            "2            82  14  417    7   14   1   2   1   3   1  19   7  15   2   1\n",
            "3            25   4    1  302    3   0   1   0   4   0   4   0   3   1   1\n",
            "4            51   1   11    4  166   0   0   0   1   0  13   3   2   1   5\n",
            "5             6   0    3    0    0  41   0   0   0   0   2   0   1   0   0\n",
            "6             5   2    4    2    2   1   9   0   0   0   2   0   0   1   0\n",
            "7             4   1    0    0    1   0   0   0   0   0   0   0   0   0   0\n",
            "8             6   3    0    3    1   0   0   0   8   0   1   0   0   0   0\n",
            "9            11   1    2    0    1   0   0   0   0  14   0   1   0   0   0\n",
            "10           24   8   39    3    5   1   0   0   0   0  32   2   3   2   3\n",
            "11           10   1    7    1    1   0   0   0   0   1   5  70   2   0   0\n",
            "12            9   7   12    2    1   0   0   0   0   0   8   0  32   0   0\n",
            "13            4   0    0    0    1   0   0   0   0   1   0   0   0  51   0\n",
            "14           32   0    2    0    3   0   0   0   1   0   2   0   0   1  39\n",
            "              precision    recall  f1-score   support\n",
            "\n",
            "           0       0.79      0.75      0.77      1389\n",
            "           1       0.62      0.61      0.62       156\n",
            "           2       0.68      0.71      0.69       586\n",
            "           3       0.78      0.87      0.82       349\n",
            "           4       0.59      0.64      0.61       258\n",
            "           5       0.89      0.77      0.83        53\n",
            "           6       0.60      0.32      0.42        28\n",
            "           7       0.00      0.00      0.00         6\n",
            "           8       0.35      0.36      0.36        22\n",
            "           9       0.61      0.47      0.53        30\n",
            "          10       0.28      0.26      0.27       122\n",
            "          11       0.69      0.71      0.70        98\n",
            "          12       0.43      0.45      0.44        71\n",
            "          13       0.77      0.89      0.83        57\n",
            "          14       0.53      0.49      0.51        80\n",
            "\n",
            "    accuracy                           0.70      3305\n",
            "   macro avg       0.57      0.55      0.56      3305\n",
            "weighted avg       0.70      0.70      0.70      3305\n",
            "\n"
          ],
          "name": "stdout"
        }
      ]
    },
    {
      "cell_type": "markdown",
      "metadata": {
        "id": "Ool3pZMqIOaJ",
        "colab_type": "text"
      },
      "source": [
        "#### Logistic Regression with class weights and Smote"
      ]
    },
    {
      "cell_type": "code",
      "metadata": {
        "id": "Bx6iOVXMITSS",
        "colab_type": "code",
        "colab": {
          "base_uri": "https://localhost:8080/",
          "height": 748
        },
        "outputId": "a92a3a1d-121b-425e-f8df-96773376a420"
      },
      "source": [
        "from sklearn.linear_model import LogisticRegression\n",
        "from sklearn.metrics import f1_score\n",
        "\n",
        "clf = LogisticRegression(solver=\"lbfgs\", C=5, max_iter=800, class_weight=class_w)\n",
        "clf.fit(X_sm, y_sm)\n",
        "predictions = clf.predict(X_sm)\n",
        "score = f1_score(y_sm,predictions,average='micro')\n",
        "print(\"train f1-score: %.2f%%\"%(score*100))\n",
        "\n",
        "predictions_test = clf.predict(X_test)\n",
        "score = f1_score(y_test, predictions_test,average='micro')\n",
        "print(\"test f1-score: %.2f%%\"%(score*100))\n",
        "print()\n",
        "print(\"test data confusion matrix\")\n",
        "y_true = pd.Series(y_test, name='True')\n",
        "y_pred = pd.Series(predictions_test, name='Predicted')\n",
        "print(pd.crosstab(y_true, y_pred))\n",
        "print(classification_report(y_true, y_pred,target_names=categories))\n"
      ],
      "execution_count": 58,
      "outputs": [
        {
          "output_type": "stream",
          "text": [
            "train f1-score: 91.03%\n",
            "test f1-score: 66.72%\n",
            "\n",
            "test data confusion matrix\n",
            "Predicted   0   1    2    3    4   5   6   7   8   9   10  11  12  13  14\n",
            "True                                                                     \n",
            "0          912  20  117   67  127   1   3   1  10  15  31  17  16   7  45\n",
            "1           10  93   18    6    3   1   1   1   1   3   8   2   8   1   0\n",
            "2           64  24  408    8   13   2   1   5   4   1  27   6  19   2   2\n",
            "3           19   5    3  303    3   0   2   0   5   0   4   0   3   1   1\n",
            "4           35   2    8    5  172   2   1   1   0   1  18   3   2   1   7\n",
            "5            5   0    4    0    0  41   0   0   0   0   2   0   1   0   0\n",
            "6            5   2    4    2    2   1   8   1   0   0   2   0   0   1   0\n",
            "7            4   0    0    0    1   0   0   1   0   0   0   0   0   0   0\n",
            "8            6   3    0    3    1   0   0   0   8   0   1   0   0   0   0\n",
            "9            8   1    2    0    1   0   0   0   0  17   0   1   0   0   0\n",
            "10          20   8   37    3    5   1   0   1   0   0  36   2   4   2   3\n",
            "11           8   1    8    1    3   0   0   0   0   1   4  69   3   0   0\n",
            "12           6   5    8    2    2   0   0   1   0   0   8   0  39   0   0\n",
            "13           3   0    1    0    2   0   0   0   0   0   0   0   0  51   0\n",
            "14          22   0    2    0    4   0   0   0   1   1   2   0   0   1  47\n",
            "              precision    recall  f1-score   support\n",
            "\n",
            "           0       0.81      0.66      0.72      1389\n",
            "           1       0.57      0.60      0.58       156\n",
            "           2       0.66      0.70      0.68       586\n",
            "           3       0.76      0.87      0.81       349\n",
            "           4       0.51      0.67      0.58       258\n",
            "           5       0.84      0.77      0.80        53\n",
            "           6       0.50      0.29      0.36        28\n",
            "           7       0.08      0.17      0.11         6\n",
            "           8       0.28      0.36      0.31        22\n",
            "           9       0.44      0.57      0.49        30\n",
            "          10       0.25      0.30      0.27       122\n",
            "          11       0.69      0.70      0.70        98\n",
            "          12       0.41      0.55      0.47        71\n",
            "          13       0.76      0.89      0.82        57\n",
            "          14       0.45      0.59      0.51        80\n",
            "\n",
            "    accuracy                           0.67      3305\n",
            "   macro avg       0.53      0.58      0.55      3305\n",
            "weighted avg       0.69      0.67      0.67      3305\n",
            "\n"
          ],
          "name": "stdout"
        }
      ]
    },
    {
      "cell_type": "markdown",
      "metadata": {
        "id": "mG7IgDM3I40M",
        "colab_type": "text"
      },
      "source": [
        "#### Grid Search "
      ]
    },
    {
      "cell_type": "code",
      "metadata": {
        "id": "hIfKlzJTI7z8",
        "colab_type": "code",
        "colab": {}
      },
      "source": [
        "from sklearn.model_selection import GridSearchCV\n",
        "logistic = LogisticRegression(max_iter=200)\n",
        "# Create regularization penalty space\n",
        "penalty = ['l1', 'l2']\n",
        "\n",
        "# Create regularization hyperparameter space\n",
        "C = np.logspace(0, 4, 10 ,100)\n",
        "\n",
        "# Create hyperparameter options\n",
        "hyperparameters = dict(C=C, penalty=penalty)\n",
        "clf = GridSearchCV(logistic, hyperparameters, cv=5, verbose=0)"
      ],
      "execution_count": null,
      "outputs": []
    },
    {
      "cell_type": "markdown",
      "metadata": {
        "id": "JXNr-q7SIW0Z",
        "colab_type": "text"
      },
      "source": [
        "#### SVM"
      ]
    },
    {
      "cell_type": "code",
      "metadata": {
        "id": "udPVuDFOIXqr",
        "colab_type": "code",
        "colab": {
          "base_uri": "https://localhost:8080/",
          "height": 613
        },
        "outputId": "b626b38b-d545-46a6-b60a-7b21e75f22d4"
      },
      "source": [
        "from sklearn import svm\n",
        "from sklearn.metrics import f1_score\n",
        "\n",
        "\n",
        "clf = svm.SVC(C=1, break_ties=False, cache_size=200, coef0=0.0,\n",
        "    decision_function_shape='ovr', degree=3, gamma=0.1, kernel='linear',\n",
        "    max_iter=-1, probability=True, random_state=None, shrinking=True, tol=0.001,\n",
        "    verbose=False)\n",
        "clf.fit(X_train, y_train)\n",
        "predictions = clf.predict(X_train)\n",
        "score = f1_score(y_train,predictions,average='micro')\n",
        "print(\"train f1-score: %.2f%%\"%(score*100))\n",
        "\n",
        "predictions_test = clf.predict(X_test)\n",
        "score = f1_score(y_test, predictions_test,average='micro')\n",
        "print(\"test f1-score: %.2f%%\"%(score*100))\n",
        "print()\n",
        "print(\"test data confusion matrix\")\n",
        "y_true = pd.Series(y_test, name='True')\n",
        "y_pred = pd.Series(predictions_test, name='Predicted')\n",
        "pd.crosstab(y_true, y_pred)"
      ],
      "execution_count": 59,
      "outputs": [
        {
          "output_type": "stream",
          "text": [
            "train f1-score: 90.57%\n",
            "test f1-score: 70.41%\n",
            "\n",
            "test data confusion matrix\n"
          ],
          "name": "stdout"
        },
        {
          "output_type": "execute_result",
          "data": {
            "text/html": [
              "<div>\n",
              "<style scoped>\n",
              "    .dataframe tbody tr th:only-of-type {\n",
              "        vertical-align: middle;\n",
              "    }\n",
              "\n",
              "    .dataframe tbody tr th {\n",
              "        vertical-align: top;\n",
              "    }\n",
              "\n",
              "    .dataframe thead th {\n",
              "        text-align: right;\n",
              "    }\n",
              "</style>\n",
              "<table border=\"1\" class=\"dataframe\">\n",
              "  <thead>\n",
              "    <tr style=\"text-align: right;\">\n",
              "      <th>Predicted</th>\n",
              "      <th>0</th>\n",
              "      <th>1</th>\n",
              "      <th>2</th>\n",
              "      <th>3</th>\n",
              "      <th>4</th>\n",
              "      <th>5</th>\n",
              "      <th>6</th>\n",
              "      <th>8</th>\n",
              "      <th>9</th>\n",
              "      <th>10</th>\n",
              "      <th>11</th>\n",
              "      <th>12</th>\n",
              "      <th>13</th>\n",
              "      <th>14</th>\n",
              "    </tr>\n",
              "    <tr>\n",
              "      <th>True</th>\n",
              "      <th></th>\n",
              "      <th></th>\n",
              "      <th></th>\n",
              "      <th></th>\n",
              "      <th></th>\n",
              "      <th></th>\n",
              "      <th></th>\n",
              "      <th></th>\n",
              "      <th></th>\n",
              "      <th></th>\n",
              "      <th></th>\n",
              "      <th></th>\n",
              "      <th></th>\n",
              "      <th></th>\n",
              "    </tr>\n",
              "  </thead>\n",
              "  <tbody>\n",
              "    <tr>\n",
              "      <th>0</th>\n",
              "      <td>1180</td>\n",
              "      <td>3</td>\n",
              "      <td>85</td>\n",
              "      <td>43</td>\n",
              "      <td>43</td>\n",
              "      <td>0</td>\n",
              "      <td>0</td>\n",
              "      <td>1</td>\n",
              "      <td>2</td>\n",
              "      <td>6</td>\n",
              "      <td>10</td>\n",
              "      <td>5</td>\n",
              "      <td>3</td>\n",
              "      <td>8</td>\n",
              "    </tr>\n",
              "    <tr>\n",
              "      <th>1</th>\n",
              "      <td>30</td>\n",
              "      <td>77</td>\n",
              "      <td>28</td>\n",
              "      <td>8</td>\n",
              "      <td>2</td>\n",
              "      <td>1</td>\n",
              "      <td>0</td>\n",
              "      <td>1</td>\n",
              "      <td>1</td>\n",
              "      <td>4</td>\n",
              "      <td>0</td>\n",
              "      <td>3</td>\n",
              "      <td>1</td>\n",
              "      <td>0</td>\n",
              "    </tr>\n",
              "    <tr>\n",
              "      <th>2</th>\n",
              "      <td>138</td>\n",
              "      <td>7</td>\n",
              "      <td>416</td>\n",
              "      <td>5</td>\n",
              "      <td>8</td>\n",
              "      <td>0</td>\n",
              "      <td>0</td>\n",
              "      <td>0</td>\n",
              "      <td>0</td>\n",
              "      <td>4</td>\n",
              "      <td>3</td>\n",
              "      <td>5</td>\n",
              "      <td>0</td>\n",
              "      <td>0</td>\n",
              "    </tr>\n",
              "    <tr>\n",
              "      <th>3</th>\n",
              "      <td>57</td>\n",
              "      <td>1</td>\n",
              "      <td>3</td>\n",
              "      <td>284</td>\n",
              "      <td>2</td>\n",
              "      <td>0</td>\n",
              "      <td>0</td>\n",
              "      <td>1</td>\n",
              "      <td>0</td>\n",
              "      <td>0</td>\n",
              "      <td>0</td>\n",
              "      <td>0</td>\n",
              "      <td>1</td>\n",
              "      <td>0</td>\n",
              "    </tr>\n",
              "    <tr>\n",
              "      <th>4</th>\n",
              "      <td>100</td>\n",
              "      <td>2</td>\n",
              "      <td>8</td>\n",
              "      <td>2</td>\n",
              "      <td>133</td>\n",
              "      <td>0</td>\n",
              "      <td>0</td>\n",
              "      <td>0</td>\n",
              "      <td>0</td>\n",
              "      <td>8</td>\n",
              "      <td>1</td>\n",
              "      <td>1</td>\n",
              "      <td>0</td>\n",
              "      <td>3</td>\n",
              "    </tr>\n",
              "    <tr>\n",
              "      <th>5</th>\n",
              "      <td>5</td>\n",
              "      <td>1</td>\n",
              "      <td>8</td>\n",
              "      <td>0</td>\n",
              "      <td>0</td>\n",
              "      <td>39</td>\n",
              "      <td>0</td>\n",
              "      <td>0</td>\n",
              "      <td>0</td>\n",
              "      <td>0</td>\n",
              "      <td>0</td>\n",
              "      <td>0</td>\n",
              "      <td>0</td>\n",
              "      <td>0</td>\n",
              "    </tr>\n",
              "    <tr>\n",
              "      <th>6</th>\n",
              "      <td>10</td>\n",
              "      <td>2</td>\n",
              "      <td>6</td>\n",
              "      <td>2</td>\n",
              "      <td>2</td>\n",
              "      <td>0</td>\n",
              "      <td>5</td>\n",
              "      <td>0</td>\n",
              "      <td>0</td>\n",
              "      <td>0</td>\n",
              "      <td>0</td>\n",
              "      <td>1</td>\n",
              "      <td>0</td>\n",
              "      <td>0</td>\n",
              "    </tr>\n",
              "    <tr>\n",
              "      <th>7</th>\n",
              "      <td>6</td>\n",
              "      <td>0</td>\n",
              "      <td>0</td>\n",
              "      <td>0</td>\n",
              "      <td>0</td>\n",
              "      <td>0</td>\n",
              "      <td>0</td>\n",
              "      <td>0</td>\n",
              "      <td>0</td>\n",
              "      <td>0</td>\n",
              "      <td>0</td>\n",
              "      <td>0</td>\n",
              "      <td>0</td>\n",
              "      <td>0</td>\n",
              "    </tr>\n",
              "    <tr>\n",
              "      <th>8</th>\n",
              "      <td>9</td>\n",
              "      <td>2</td>\n",
              "      <td>1</td>\n",
              "      <td>2</td>\n",
              "      <td>1</td>\n",
              "      <td>0</td>\n",
              "      <td>0</td>\n",
              "      <td>7</td>\n",
              "      <td>0</td>\n",
              "      <td>0</td>\n",
              "      <td>0</td>\n",
              "      <td>0</td>\n",
              "      <td>0</td>\n",
              "      <td>0</td>\n",
              "    </tr>\n",
              "    <tr>\n",
              "      <th>9</th>\n",
              "      <td>18</td>\n",
              "      <td>1</td>\n",
              "      <td>3</td>\n",
              "      <td>0</td>\n",
              "      <td>0</td>\n",
              "      <td>0</td>\n",
              "      <td>0</td>\n",
              "      <td>0</td>\n",
              "      <td>7</td>\n",
              "      <td>0</td>\n",
              "      <td>1</td>\n",
              "      <td>0</td>\n",
              "      <td>0</td>\n",
              "      <td>0</td>\n",
              "    </tr>\n",
              "    <tr>\n",
              "      <th>10</th>\n",
              "      <td>44</td>\n",
              "      <td>6</td>\n",
              "      <td>40</td>\n",
              "      <td>2</td>\n",
              "      <td>4</td>\n",
              "      <td>0</td>\n",
              "      <td>0</td>\n",
              "      <td>0</td>\n",
              "      <td>0</td>\n",
              "      <td>24</td>\n",
              "      <td>1</td>\n",
              "      <td>1</td>\n",
              "      <td>0</td>\n",
              "      <td>0</td>\n",
              "    </tr>\n",
              "    <tr>\n",
              "      <th>11</th>\n",
              "      <td>25</td>\n",
              "      <td>2</td>\n",
              "      <td>11</td>\n",
              "      <td>1</td>\n",
              "      <td>0</td>\n",
              "      <td>0</td>\n",
              "      <td>0</td>\n",
              "      <td>0</td>\n",
              "      <td>0</td>\n",
              "      <td>2</td>\n",
              "      <td>57</td>\n",
              "      <td>0</td>\n",
              "      <td>0</td>\n",
              "      <td>0</td>\n",
              "    </tr>\n",
              "    <tr>\n",
              "      <th>12</th>\n",
              "      <td>17</td>\n",
              "      <td>3</td>\n",
              "      <td>18</td>\n",
              "      <td>3</td>\n",
              "      <td>2</td>\n",
              "      <td>0</td>\n",
              "      <td>0</td>\n",
              "      <td>0</td>\n",
              "      <td>0</td>\n",
              "      <td>3</td>\n",
              "      <td>0</td>\n",
              "      <td>25</td>\n",
              "      <td>0</td>\n",
              "      <td>0</td>\n",
              "    </tr>\n",
              "    <tr>\n",
              "      <th>13</th>\n",
              "      <td>9</td>\n",
              "      <td>0</td>\n",
              "      <td>1</td>\n",
              "      <td>0</td>\n",
              "      <td>1</td>\n",
              "      <td>0</td>\n",
              "      <td>0</td>\n",
              "      <td>0</td>\n",
              "      <td>0</td>\n",
              "      <td>1</td>\n",
              "      <td>0</td>\n",
              "      <td>0</td>\n",
              "      <td>45</td>\n",
              "      <td>0</td>\n",
              "    </tr>\n",
              "    <tr>\n",
              "      <th>14</th>\n",
              "      <td>48</td>\n",
              "      <td>0</td>\n",
              "      <td>2</td>\n",
              "      <td>0</td>\n",
              "      <td>2</td>\n",
              "      <td>0</td>\n",
              "      <td>0</td>\n",
              "      <td>0</td>\n",
              "      <td>0</td>\n",
              "      <td>0</td>\n",
              "      <td>0</td>\n",
              "      <td>0</td>\n",
              "      <td>0</td>\n",
              "      <td>28</td>\n",
              "    </tr>\n",
              "  </tbody>\n",
              "</table>\n",
              "</div>"
            ],
            "text/plain": [
              "Predicted    0   1    2    3    4   5   6   8   9   10  11  12  13  14\n",
              "True                                                                  \n",
              "0          1180   3   85   43   43   0   0   1   2   6  10   5   3   8\n",
              "1            30  77   28    8    2   1   0   1   1   4   0   3   1   0\n",
              "2           138   7  416    5    8   0   0   0   0   4   3   5   0   0\n",
              "3            57   1    3  284    2   0   0   1   0   0   0   0   1   0\n",
              "4           100   2    8    2  133   0   0   0   0   8   1   1   0   3\n",
              "5             5   1    8    0    0  39   0   0   0   0   0   0   0   0\n",
              "6            10   2    6    2    2   0   5   0   0   0   0   1   0   0\n",
              "7             6   0    0    0    0   0   0   0   0   0   0   0   0   0\n",
              "8             9   2    1    2    1   0   0   7   0   0   0   0   0   0\n",
              "9            18   1    3    0    0   0   0   0   7   0   1   0   0   0\n",
              "10           44   6   40    2    4   0   0   0   0  24   1   1   0   0\n",
              "11           25   2   11    1    0   0   0   0   0   2  57   0   0   0\n",
              "12           17   3   18    3    2   0   0   0   0   3   0  25   0   0\n",
              "13            9   0    1    0    1   0   0   0   0   1   0   0  45   0\n",
              "14           48   0    2    0    2   0   0   0   0   0   0   0   0  28"
            ]
          },
          "metadata": {
            "tags": []
          },
          "execution_count": 59
        }
      ]
    },
    {
      "cell_type": "markdown",
      "metadata": {
        "id": "-PphPGQPIoGp",
        "colab_type": "text"
      },
      "source": [
        "#### SVM with class weight and Smote"
      ]
    },
    {
      "cell_type": "code",
      "metadata": {
        "id": "5vApPI8uInis",
        "colab_type": "code",
        "colab": {
          "base_uri": "https://localhost:8080/",
          "height": 613
        },
        "outputId": "7227915d-24c4-4e73-8478-17552e86852c"
      },
      "source": [
        "from sklearn import svm\n",
        "from sklearn.metrics import f1_score\n",
        "\n",
        "\n",
        "clf = svm.SVC(C=1, break_ties=False, cache_size=200, coef0=0.0,\n",
        "    decision_function_shape='ovr', degree=3, gamma=0.1, kernel='linear', class_weight=class_w,\n",
        "    max_iter=-1, probability=True, random_state=None, shrinking=True, tol=0.001,\n",
        "    verbose=False)\n",
        "clf.fit(X_sm, y_sm)\n",
        "predictions = clf.predict(X_sm)\n",
        "score = f1_score(y_sm,predictions,average='micro')\n",
        "print(\"train f1-score: %.2f%%\"%(score*100))\n",
        "\n",
        "predictions_test = clf.predict(X_test)\n",
        "score = f1_score(y_test, predictions_test,average='micro')\n",
        "print(\"test f1-score: %.2f%%\"%(score*100))\n",
        "print()\n",
        "print(\"test data confusion matrix\")\n",
        "y_true = pd.Series(y_test, name='True')\n",
        "y_pred = pd.Series(predictions_test, name='Predicted')\n",
        "pd.crosstab(y_true, y_pred)"
      ],
      "execution_count": 60,
      "outputs": [
        {
          "output_type": "stream",
          "text": [
            "train f1-score: 88.23%\n",
            "test f1-score: 65.81%\n",
            "\n",
            "test data confusion matrix\n"
          ],
          "name": "stdout"
        },
        {
          "output_type": "execute_result",
          "data": {
            "text/html": [
              "<div>\n",
              "<style scoped>\n",
              "    .dataframe tbody tr th:only-of-type {\n",
              "        vertical-align: middle;\n",
              "    }\n",
              "\n",
              "    .dataframe tbody tr th {\n",
              "        vertical-align: top;\n",
              "    }\n",
              "\n",
              "    .dataframe thead th {\n",
              "        text-align: right;\n",
              "    }\n",
              "</style>\n",
              "<table border=\"1\" class=\"dataframe\">\n",
              "  <thead>\n",
              "    <tr style=\"text-align: right;\">\n",
              "      <th>Predicted</th>\n",
              "      <th>0</th>\n",
              "      <th>1</th>\n",
              "      <th>2</th>\n",
              "      <th>3</th>\n",
              "      <th>4</th>\n",
              "      <th>5</th>\n",
              "      <th>6</th>\n",
              "      <th>8</th>\n",
              "      <th>9</th>\n",
              "      <th>10</th>\n",
              "      <th>11</th>\n",
              "      <th>12</th>\n",
              "      <th>13</th>\n",
              "      <th>14</th>\n",
              "    </tr>\n",
              "    <tr>\n",
              "      <th>True</th>\n",
              "      <th></th>\n",
              "      <th></th>\n",
              "      <th></th>\n",
              "      <th></th>\n",
              "      <th></th>\n",
              "      <th></th>\n",
              "      <th></th>\n",
              "      <th></th>\n",
              "      <th></th>\n",
              "      <th></th>\n",
              "      <th></th>\n",
              "      <th></th>\n",
              "      <th></th>\n",
              "      <th></th>\n",
              "    </tr>\n",
              "  </thead>\n",
              "  <tbody>\n",
              "    <tr>\n",
              "      <th>0</th>\n",
              "      <td>894</td>\n",
              "      <td>18</td>\n",
              "      <td>120</td>\n",
              "      <td>88</td>\n",
              "      <td>146</td>\n",
              "      <td>0</td>\n",
              "      <td>0</td>\n",
              "      <td>7</td>\n",
              "      <td>10</td>\n",
              "      <td>30</td>\n",
              "      <td>21</td>\n",
              "      <td>11</td>\n",
              "      <td>5</td>\n",
              "      <td>39</td>\n",
              "    </tr>\n",
              "    <tr>\n",
              "      <th>1</th>\n",
              "      <td>14</td>\n",
              "      <td>92</td>\n",
              "      <td>17</td>\n",
              "      <td>8</td>\n",
              "      <td>4</td>\n",
              "      <td>1</td>\n",
              "      <td>1</td>\n",
              "      <td>0</td>\n",
              "      <td>1</td>\n",
              "      <td>10</td>\n",
              "      <td>1</td>\n",
              "      <td>6</td>\n",
              "      <td>1</td>\n",
              "      <td>0</td>\n",
              "    </tr>\n",
              "    <tr>\n",
              "      <th>2</th>\n",
              "      <td>75</td>\n",
              "      <td>26</td>\n",
              "      <td>405</td>\n",
              "      <td>7</td>\n",
              "      <td>13</td>\n",
              "      <td>1</td>\n",
              "      <td>2</td>\n",
              "      <td>1</td>\n",
              "      <td>1</td>\n",
              "      <td>30</td>\n",
              "      <td>5</td>\n",
              "      <td>16</td>\n",
              "      <td>2</td>\n",
              "      <td>2</td>\n",
              "    </tr>\n",
              "    <tr>\n",
              "      <th>3</th>\n",
              "      <td>22</td>\n",
              "      <td>4</td>\n",
              "      <td>3</td>\n",
              "      <td>311</td>\n",
              "      <td>2</td>\n",
              "      <td>0</td>\n",
              "      <td>0</td>\n",
              "      <td>3</td>\n",
              "      <td>0</td>\n",
              "      <td>1</td>\n",
              "      <td>0</td>\n",
              "      <td>1</td>\n",
              "      <td>1</td>\n",
              "      <td>1</td>\n",
              "    </tr>\n",
              "    <tr>\n",
              "      <th>4</th>\n",
              "      <td>39</td>\n",
              "      <td>3</td>\n",
              "      <td>10</td>\n",
              "      <td>5</td>\n",
              "      <td>179</td>\n",
              "      <td>0</td>\n",
              "      <td>0</td>\n",
              "      <td>0</td>\n",
              "      <td>0</td>\n",
              "      <td>13</td>\n",
              "      <td>2</td>\n",
              "      <td>2</td>\n",
              "      <td>0</td>\n",
              "      <td>5</td>\n",
              "    </tr>\n",
              "    <tr>\n",
              "      <th>5</th>\n",
              "      <td>7</td>\n",
              "      <td>1</td>\n",
              "      <td>6</td>\n",
              "      <td>0</td>\n",
              "      <td>0</td>\n",
              "      <td>38</td>\n",
              "      <td>0</td>\n",
              "      <td>0</td>\n",
              "      <td>0</td>\n",
              "      <td>1</td>\n",
              "      <td>0</td>\n",
              "      <td>0</td>\n",
              "      <td>0</td>\n",
              "      <td>0</td>\n",
              "    </tr>\n",
              "    <tr>\n",
              "      <th>6</th>\n",
              "      <td>6</td>\n",
              "      <td>4</td>\n",
              "      <td>5</td>\n",
              "      <td>2</td>\n",
              "      <td>3</td>\n",
              "      <td>0</td>\n",
              "      <td>6</td>\n",
              "      <td>0</td>\n",
              "      <td>0</td>\n",
              "      <td>0</td>\n",
              "      <td>0</td>\n",
              "      <td>1</td>\n",
              "      <td>1</td>\n",
              "      <td>0</td>\n",
              "    </tr>\n",
              "    <tr>\n",
              "      <th>7</th>\n",
              "      <td>3</td>\n",
              "      <td>1</td>\n",
              "      <td>1</td>\n",
              "      <td>0</td>\n",
              "      <td>1</td>\n",
              "      <td>0</td>\n",
              "      <td>0</td>\n",
              "      <td>0</td>\n",
              "      <td>0</td>\n",
              "      <td>0</td>\n",
              "      <td>0</td>\n",
              "      <td>0</td>\n",
              "      <td>0</td>\n",
              "      <td>0</td>\n",
              "    </tr>\n",
              "    <tr>\n",
              "      <th>8</th>\n",
              "      <td>5</td>\n",
              "      <td>3</td>\n",
              "      <td>0</td>\n",
              "      <td>4</td>\n",
              "      <td>2</td>\n",
              "      <td>0</td>\n",
              "      <td>0</td>\n",
              "      <td>8</td>\n",
              "      <td>0</td>\n",
              "      <td>0</td>\n",
              "      <td>0</td>\n",
              "      <td>0</td>\n",
              "      <td>0</td>\n",
              "      <td>0</td>\n",
              "    </tr>\n",
              "    <tr>\n",
              "      <th>9</th>\n",
              "      <td>10</td>\n",
              "      <td>2</td>\n",
              "      <td>2</td>\n",
              "      <td>0</td>\n",
              "      <td>1</td>\n",
              "      <td>0</td>\n",
              "      <td>0</td>\n",
              "      <td>0</td>\n",
              "      <td>14</td>\n",
              "      <td>0</td>\n",
              "      <td>1</td>\n",
              "      <td>0</td>\n",
              "      <td>0</td>\n",
              "      <td>0</td>\n",
              "    </tr>\n",
              "    <tr>\n",
              "      <th>10</th>\n",
              "      <td>23</td>\n",
              "      <td>7</td>\n",
              "      <td>36</td>\n",
              "      <td>4</td>\n",
              "      <td>8</td>\n",
              "      <td>0</td>\n",
              "      <td>0</td>\n",
              "      <td>0</td>\n",
              "      <td>0</td>\n",
              "      <td>40</td>\n",
              "      <td>1</td>\n",
              "      <td>1</td>\n",
              "      <td>1</td>\n",
              "      <td>1</td>\n",
              "    </tr>\n",
              "    <tr>\n",
              "      <th>11</th>\n",
              "      <td>13</td>\n",
              "      <td>4</td>\n",
              "      <td>8</td>\n",
              "      <td>1</td>\n",
              "      <td>4</td>\n",
              "      <td>0</td>\n",
              "      <td>0</td>\n",
              "      <td>0</td>\n",
              "      <td>0</td>\n",
              "      <td>6</td>\n",
              "      <td>62</td>\n",
              "      <td>0</td>\n",
              "      <td>0</td>\n",
              "      <td>0</td>\n",
              "    </tr>\n",
              "    <tr>\n",
              "      <th>12</th>\n",
              "      <td>8</td>\n",
              "      <td>6</td>\n",
              "      <td>11</td>\n",
              "      <td>3</td>\n",
              "      <td>4</td>\n",
              "      <td>0</td>\n",
              "      <td>0</td>\n",
              "      <td>0</td>\n",
              "      <td>0</td>\n",
              "      <td>7</td>\n",
              "      <td>0</td>\n",
              "      <td>32</td>\n",
              "      <td>0</td>\n",
              "      <td>0</td>\n",
              "    </tr>\n",
              "    <tr>\n",
              "      <th>13</th>\n",
              "      <td>2</td>\n",
              "      <td>0</td>\n",
              "      <td>1</td>\n",
              "      <td>1</td>\n",
              "      <td>2</td>\n",
              "      <td>0</td>\n",
              "      <td>0</td>\n",
              "      <td>0</td>\n",
              "      <td>0</td>\n",
              "      <td>1</td>\n",
              "      <td>0</td>\n",
              "      <td>0</td>\n",
              "      <td>49</td>\n",
              "      <td>1</td>\n",
              "    </tr>\n",
              "    <tr>\n",
              "      <th>14</th>\n",
              "      <td>26</td>\n",
              "      <td>0</td>\n",
              "      <td>2</td>\n",
              "      <td>2</td>\n",
              "      <td>4</td>\n",
              "      <td>0</td>\n",
              "      <td>0</td>\n",
              "      <td>0</td>\n",
              "      <td>0</td>\n",
              "      <td>0</td>\n",
              "      <td>0</td>\n",
              "      <td>0</td>\n",
              "      <td>1</td>\n",
              "      <td>45</td>\n",
              "    </tr>\n",
              "  </tbody>\n",
              "</table>\n",
              "</div>"
            ],
            "text/plain": [
              "Predicted   0   1    2    3    4   5   6   8   9   10  11  12  13  14\n",
              "True                                                                 \n",
              "0          894  18  120   88  146   0   0   7  10  30  21  11   5  39\n",
              "1           14  92   17    8    4   1   1   0   1  10   1   6   1   0\n",
              "2           75  26  405    7   13   1   2   1   1  30   5  16   2   2\n",
              "3           22   4    3  311    2   0   0   3   0   1   0   1   1   1\n",
              "4           39   3   10    5  179   0   0   0   0  13   2   2   0   5\n",
              "5            7   1    6    0    0  38   0   0   0   1   0   0   0   0\n",
              "6            6   4    5    2    3   0   6   0   0   0   0   1   1   0\n",
              "7            3   1    1    0    1   0   0   0   0   0   0   0   0   0\n",
              "8            5   3    0    4    2   0   0   8   0   0   0   0   0   0\n",
              "9           10   2    2    0    1   0   0   0  14   0   1   0   0   0\n",
              "10          23   7   36    4    8   0   0   0   0  40   1   1   1   1\n",
              "11          13   4    8    1    4   0   0   0   0   6  62   0   0   0\n",
              "12           8   6   11    3    4   0   0   0   0   7   0  32   0   0\n",
              "13           2   0    1    1    2   0   0   0   0   1   0   0  49   1\n",
              "14          26   0    2    2    4   0   0   0   0   0   0   0   1  45"
            ]
          },
          "metadata": {
            "tags": []
          },
          "execution_count": 60
        }
      ]
    },
    {
      "cell_type": "markdown",
      "metadata": {
        "id": "oD2ncD2CJNLk",
        "colab_type": "text"
      },
      "source": [
        "### Ensemble"
      ]
    },
    {
      "cell_type": "code",
      "metadata": {
        "id": "dmdKxDGZn0Jb",
        "colab_type": "code",
        "colab": {}
      },
      "source": [
        "svm_clf = svm.SVC(C=1, break_ties=False, cache_size=200, class_weight=None, coef0=0.0,\n",
        "    decision_function_shape='ovr', degree=3, gamma=0.1, kernel='linear',\n",
        "    max_iter=-1, probability=True, random_state=None, shrinking=True, tol=0.001,\n",
        "    verbose=False)\n",
        "log_clf = LogisticRegression(solver=\"liblinear\", C=3.8, max_iter=200)"
      ],
      "execution_count": 61,
      "outputs": []
    },
    {
      "cell_type": "code",
      "metadata": {
        "id": "GhNMud__JW_K",
        "colab_type": "code",
        "colab": {}
      },
      "source": [
        "from sklearn.ensemble import  VotingClassifier\n",
        "\n",
        "eclf1 = VotingClassifier(estimators=[('svm', svm_clf), ('logistic', log_clf)], voting='soft')"
      ],
      "execution_count": 62,
      "outputs": []
    },
    {
      "cell_type": "code",
      "metadata": {
        "id": "aKPgPdhFJbeD",
        "colab_type": "code",
        "colab": {
          "base_uri": "https://localhost:8080/",
          "height": 68
        },
        "outputId": "e0fe21fc-b1e4-4ce2-b59a-ae1dba338334"
      },
      "source": [
        "eclf1 = eclf1.fit(X_train, y_train)\n",
        "predictions = eclf1.predict(X_train)\n",
        "score = f1_score(y_train,predictions,average='micro')\n",
        "print(\"train f1-score: %.2f%%\"%(score*100))\n",
        "predictions_test = eclf1.predict(X_test)\n",
        "score = f1_score(y_test, predictions_test,average='micro')\n",
        "print(\"test f1-score: %.2f%%\"%(score*100))\n",
        "print()"
      ],
      "execution_count": 65,
      "outputs": [
        {
          "output_type": "stream",
          "text": [
            "train f1-score: 95.90%\n",
            "test f1-score: 71.32%\n",
            "\n"
          ],
          "name": "stdout"
        }
      ]
    },
    {
      "cell_type": "code",
      "metadata": {
        "id": "zTKksQMOJdw7",
        "colab_type": "code",
        "colab": {}
      },
      "source": [
        "y_pred = eclf1.predict_proba(X_kaggle)\n",
        "\n",
        "with open('VotingClassifier_submission.csv', 'w') as csvfile:\n",
        "    writer = csv.writer(csvfile, delimiter=',')\n",
        "    lst = ['id']\n",
        "    for i in range(15):\n",
        "        lst.append('class_'+str(i))\n",
        "    writer.writerow(lst)\n",
        "    for i,idx in enumerate(test_index):\n",
        "        lst = y_pred[i,:].tolist()\n",
        "        lst.insert(0, idx)\n",
        "        writer.writerow(lst)"
      ],
      "execution_count": 36,
      "outputs": []
    },
    {
      "cell_type": "markdown",
      "metadata": {
        "id": "SbQs3X27KHXd",
        "colab_type": "text"
      },
      "source": [
        "#### Convolutional Neural Networks "
      ]
    },
    {
      "cell_type": "code",
      "metadata": {
        "id": "GTwbesbnKK67",
        "colab_type": "code",
        "colab": {
          "base_uri": "https://localhost:8080/",
          "height": 187
        },
        "outputId": "ce22e8c9-6014-4df5-adcf-c4784519b1aa"
      },
      "source": [
        "!pip3 install keras_tqdm"
      ],
      "execution_count": 37,
      "outputs": [
        {
          "output_type": "stream",
          "text": [
            "Requirement already satisfied: keras_tqdm in /usr/local/lib/python3.6/dist-packages (2.0.1)\n",
            "Requirement already satisfied: Keras in /usr/local/lib/python3.6/dist-packages (from keras_tqdm) (2.3.1)\n",
            "Requirement already satisfied: tqdm in /usr/local/lib/python3.6/dist-packages (from keras_tqdm) (4.41.1)\n",
            "Requirement already satisfied: h5py in /usr/local/lib/python3.6/dist-packages (from Keras->keras_tqdm) (2.10.0)\n",
            "Requirement already satisfied: keras-preprocessing>=1.0.5 in /usr/local/lib/python3.6/dist-packages (from Keras->keras_tqdm) (1.1.2)\n",
            "Requirement already satisfied: scipy>=0.14 in /usr/local/lib/python3.6/dist-packages (from Keras->keras_tqdm) (1.4.1)\n",
            "Requirement already satisfied: pyyaml in /usr/local/lib/python3.6/dist-packages (from Keras->keras_tqdm) (3.13)\n",
            "Requirement already satisfied: keras-applications>=1.0.6 in /usr/local/lib/python3.6/dist-packages (from Keras->keras_tqdm) (1.0.8)\n",
            "Requirement already satisfied: numpy>=1.9.1 in /usr/local/lib/python3.6/dist-packages (from Keras->keras_tqdm) (1.18.5)\n",
            "Requirement already satisfied: six>=1.9.0 in /usr/local/lib/python3.6/dist-packages (from Keras->keras_tqdm) (1.12.0)\n"
          ],
          "name": "stdout"
        }
      ]
    },
    {
      "cell_type": "code",
      "metadata": {
        "id": "M3wvNnpMKQut",
        "colab_type": "code",
        "colab": {}
      },
      "source": [
        "import tensorflow as tf\n",
        "import pandas as pd\n",
        "import numpy as np\n",
        "import re\n",
        "import collections\n",
        "import matplotlib.pyplot as plt\n",
        "from pathlib import Path\n",
        "from sklearn.model_selection import train_test_split\n",
        "from nltk.corpus import stopwords\n",
        "from keras.preprocessing.text import Tokenizer\n",
        "from keras.preprocessing.sequence import pad_sequences\n",
        "from keras.utils.np_utils import to_categorical\n",
        "from sklearn.preprocessing import LabelEncoder\n",
        "from keras import models\n",
        "from keras import layers\n",
        "import warnings\n",
        "\n",
        "import sklearn.exceptions\n",
        "warnings.filterwarnings(\"ignore\", category=sklearn.exceptions.UndefinedMetricWarning)\n",
        "warnings.simplefilter(action='ignore', category=FutureWarning)\n",
        "from keras.callbacks import ModelCheckpoint\n",
        "from keras_tqdm import TQDMNotebookCallback\n",
        "from keras.models import Sequential\n",
        "from keras.layers.core import Dense, Dropout\n",
        "from keras.optimizers import Adam\n",
        "from keras import backend as K\n"
      ],
      "execution_count": 38,
      "outputs": []
    },
    {
      "cell_type": "code",
      "metadata": {
        "id": "m9vsU94BMAaj",
        "colab_type": "code",
        "colab": {}
      },
      "source": [
        " def recall(y_true, y_pred):   \n",
        "    \"\"\"\n",
        "    Recall metric.\n",
        "    Only computes a batch-wise average of recall.\n",
        "    Computes the recall, a metric for multi-label classification of\n",
        "    how many relevant items are selected.\n",
        "    \"\"\"\n",
        "    true_positives = K.sum(K.round(K.clip(y_true * y_pred, 0, 1)))\n",
        "    possible_positives = K.sum(K.round(K.clip(y_true, 0, 1)))\n",
        "    recall = true_positives / (possible_positives + K.epsilon())\n",
        "    return recall\n",
        "\n",
        "\n",
        "def precision(y_true, y_pred):\n",
        "    \n",
        "    \"\"\"\n",
        "    Precision metric.\n",
        "    Only computes a batch-wise average of precision.\n",
        "    Computes the precision, a metric for multi-label classification of\n",
        "    how many selected items are relevant.\n",
        "    Source\n",
        "    ------\n",
        "    https://github.com/fchollet/keras/issues/5400#issuecomment-314747992\n",
        "    \"\"\"\n",
        "    true_positives = K.sum(K.round(K.clip(y_true * y_pred, 0, 1)))\n",
        "    predicted_positives = K.sum(K.round(K.clip(y_pred, 0, 1)))\n",
        "    precision = true_positives / (predicted_positives + K.epsilon())\n",
        "    return precision\n",
        "\n",
        "\n",
        "def f1(y_true, y_pred):\n",
        "    \n",
        "    \"\"\"Calculate the F1 score.\"\"\"\n",
        "    p = precision(y_true, y_pred)\n",
        "    r = recall(y_true, y_pred)\n",
        "    return 2 * ((p * r) / (p + r))\n",
        "\n",
        "\n",
        "def accuracy(y_true, y_pred):\n",
        "    return K.mean(K.equal(y_true, K.round(y_pred)), axis=1)"
      ],
      "execution_count": 39,
      "outputs": []
    },
    {
      "cell_type": "code",
      "metadata": {
        "id": "dsn_c1QWKSTl",
        "colab_type": "code",
        "colab": {}
      },
      "source": [
        "train_posts = [twitter_posts[idx] for idx in train_index  ]\n",
        "test_posts = [twitter_posts[idx] for idx in test_index ]"
      ],
      "execution_count": 40,
      "outputs": []
    },
    {
      "cell_type": "code",
      "metadata": {
        "id": "8gzTvJWtKUEc",
        "colab_type": "code",
        "colab": {}
      },
      "source": [
        "# train_posts = [twitter_posts[idx] for idx in train_index]\n",
        "# test_posts = [twitter_posts[idx] for idx in test_index]\n",
        "\n",
        "from sklearn.model_selection import train_test_split  \n",
        "X_train, X_test, y_train, y_test = train_test_split(train_posts, y_train_input, test_size=0.25, random_state=23828748)"
      ],
      "execution_count": 41,
      "outputs": []
    },
    {
      "cell_type": "code",
      "metadata": {
        "id": "S320khh-KcSH",
        "colab_type": "code",
        "colab": {}
      },
      "source": [
        "\n",
        "y_train_labels = tf.keras.utils.to_categorical(y_train, 15, dtype='float32')\n",
        "y_test_labels = tf.keras.utils.to_categorical(y_test, 15, dtype='float32')\n",
        "lb = LabelBinarizer()\n",
        "ys = {'train': [], 'test': []}\n",
        "ys['train'] = lb.fit_transform(list(map(str, y_train)))\n",
        "ys['test'] = lb.transform(list(map(str, y_test)))\n",
        "# Convert texts to sequence of indexes and PADDING\n",
        "from keras.preprocessing.text import Tokenizer\n",
        "from keras.preprocessing.sequence import pad_sequences\n",
        "\n",
        "MAX_WORDS =10000\n",
        "MAX_SEQUENCE_LENGTH = 100\n",
        "\n",
        "tokenizer = Tokenizer(num_words=MAX_WORDS,oov_token='__UNK__')\n",
        "tokenizer.fit_on_texts(X_train)\n",
        "train_seqs = tokenizer.texts_to_sequences(X_train)\n",
        "test_seqs = tokenizer.texts_to_sequences(X_test)\n",
        "train_data = pad_sequences(train_seqs, maxlen=MAX_SEQUENCE_LENGTH,padding='post')\n",
        "test_data = pad_sequences(test_seqs, maxlen=MAX_SEQUENCE_LENGTH,padding='post')\n",
        "test_final_seqs = tokenizer.texts_to_sequences(test_posts)\n",
        "test_final_data = pad_sequences(test_final_seqs, maxlen=MAX_SEQUENCE_LENGTH,padding='post')\n"
      ],
      "execution_count": 42,
      "outputs": []
    },
    {
      "cell_type": "code",
      "metadata": {
        "id": "3uidXEikKezP",
        "colab_type": "code",
        "colab": {
          "base_uri": "https://localhost:8080/",
          "height": 34
        },
        "outputId": "043c2bb9-0830-47e9-cbec-2f62079d9531"
      },
      "source": [
        "word_index = tokenizer.word_index\n",
        "print('Found %s unique tokens.' % len(word_index))"
      ],
      "execution_count": 43,
      "outputs": [
        {
          "output_type": "stream",
          "text": [
            "Found 22539 unique tokens.\n"
          ],
          "name": "stdout"
        }
      ]
    },
    {
      "cell_type": "code",
      "metadata": {
        "id": "Pjk9kPb2K0oI",
        "colab_type": "code",
        "colab": {}
      },
      "source": [
        "GLOVE_DIM = 50\n",
        "glove_file = 'glove.twitter.27B.' + str(GLOVE_DIM) + 'd.txt'\n",
        "emb_dict = {}\n",
        "glove = open('/content/drive/My Drive/Colab Notebooks/DataChallenge/data/glove.twitter.27B.' + str(GLOVE_DIM) + 'd.txt')\n",
        "for line in glove:\n",
        "    values = line.split()\n",
        "    word = values[0]\n",
        "    vector = np.asarray(values[1:], dtype='float32')\n",
        "    emb_dict[word] = vector\n",
        "glove.close()"
      ],
      "execution_count": 44,
      "outputs": []
    },
    {
      "cell_type": "code",
      "metadata": {
        "id": "hoxb_E_hK2PK",
        "colab_type": "code",
        "colab": {}
      },
      "source": [
        "emb_matrix = np.zeros((MAX_WORDS, GLOVE_DIM))\n",
        "for w, i in tokenizer.word_index.items():\n",
        "    if i < MAX_WORDS:\n",
        "        vect = emb_dict.get(w)\n",
        "        if vect is not None:\n",
        "          emb_matrix[i] = vect\n",
        "    else:\n",
        "        break"
      ],
      "execution_count": 45,
      "outputs": []
    },
    {
      "cell_type": "code",
      "metadata": {
        "id": "mDjIlN8hLAbX",
        "colab_type": "code",
        "colab": {
          "base_uri": "https://localhost:8080/",
          "height": 950,
          "referenced_widgets": [
            "cce397f24bbc4d27ac5af790ac00370e",
            "51239eb4b76a49608371ed71c0eb6664",
            "b865922b70844b029d53888102e3908a",
            "c18f65a324204a96ae2bc0364012c163",
            "3306d4fe1d924f2695fe171988dd5253",
            "acbe7c4450b649a7be421f1b2454508b",
            "05fa675bf8264c70a582150638b5b98b",
            "96a76e1c53b44c848b9664a21f0dd5f6",
            "92416c44fd6f4921be2dd364bd43f782",
            "f06ca8d3fb1f4800b7ac5d8fd8809616",
            "f54e3ffcd3a74101b2e98d3a85135c61",
            "34afb850d79a4911a814dcd11947c882",
            "92a16d3ec10746d0b3886aa9aeca1724",
            "689f8ae74806465cb4f17499611a8225",
            "ebecd24186e84f44835a3133eae14154",
            "a2882aca746d488d8df5fc98f3ea8a2b",
            "790c3d064d734fa4bddac101b80c158e",
            "9a274eb644ba4eea81800a684c5f3394",
            "bfe5bafa24ab44629c7aabf55f5256d3",
            "c70d25ec51a3413d9791274de24583d0",
            "0f17ae436a1c4388972f6096faf4f704",
            "22cee4d297d249cbb9409846d96a352f",
            "b2e64e4543c14c6887d1107db5e453c1",
            "ae723a289f1f4496ae4bb64ae3f2ca23",
            "dc0904941e4849f09b6df2c343812855",
            "74bf721e6cc74c31b89b45a90c92ffc7",
            "f13ff9e729d14355960b2b5822c99895",
            "8c65316f81114def92516879c859e669",
            "42a5ab6ebae548fd9024a855f93944db",
            "8db25eba46194065a805f40737d04cca",
            "66593e21b60543819b96854b772e64ef",
            "628cec6b499b4160b9092ed048d9665a",
            "a3024fe3207d4a67bff436e6ebcfb8b2",
            "5ad0e6f54ea34ea0b546d30dbd953d61",
            "8a0bcff4472e49d0a6796d443b4e25cf",
            "3dd0b6421cb0485696cff5b7bb1d8de6",
            "141c0b53786e43cb860f3b84279772a6",
            "8d066e5b253e4e64b58623ee9b664876",
            "4064c9d8bb244d0c84c3a078a0a14931",
            "8128f1eafe094c26a047a6882092e5d9",
            "edf71b0aa30e43bf87fe84e8bdc7136c",
            "504a7309105c4f21ad66bb28a70ed96b",
            "099212c4dff24595aaf440d88529abd5",
            "18f5b90b694a4ed7898c8882b0b80a01",
            "1f90f884b2d54a8597dd85a0b380fb23",
            "6124587aa90e4396b1fad3f71629dfda",
            "596b9e6a61f64c15aeb39ad74e7d369b",
            "fdce569fc31644199a825107ef1466f8",
            "6c730db16a21476aab78dec097599b29",
            "363f5e48150c4656940622c87fb99132",
            "876e3bdf3325462a8238eac5b0c77832",
            "b6aeef1a74064cdfb31108f4f56ae171",
            "6d77dad222264251b4530819ba2148b8",
            "adea87e180a5427a83eae952fe2af7bc",
            "9342fc8549b742c4855c7f1c9f74b865",
            "2940188644ba42b9a23bc816b184615d",
            "d8b8de2854284220a65ccb59c01c0e57",
            "77f755c8f5e04919938ec59345857d06",
            "eb574ad60ff04a3aa1796507b2f74590",
            "8594c47181a04be2bc2fa8335919facf",
            "767053739478482499ea91e98784b86b",
            "e62868dc4679498c9daabdf3632781a5",
            "396304fd805147f6b953ec530766237c",
            "1d62d5b2e7374a95a16fdcb6c22187aa",
            "56d60869fd6a4d5fa88e3c0c83266500",
            "7c7dc0bfebd545c3886cfe77c7ac2e94",
            "df8b4d2218aa49139806dc05c3fcf8d7",
            "dbce1f668804494daae0b122273d2de5",
            "ab9e2bdd95904118b13cfbacd3b224bd",
            "b13ed16139614d9a8c2dae54a17b9fab",
            "4c75d83560174bda9a9e49f87f826993",
            "d12363919e7e417386edd2699f373b59",
            "b045ca527a21451bb7aefb376aa67054",
            "ca190a938a8c426994235c3e2d59690d",
            "c49d5425f66d44b4b0b689a37555e6cf",
            "7509e17c2d294260bee753a08699acce",
            "57239f23c5f04941aa68db3a67148110",
            "6fe7990fa5c04f5f8f0766af1899f9aa",
            "7b2d93ac1602418d80313eb077922b39",
            "e8581c56921c45d387739907aeb87b61",
            "da8bc9514c8449a7b8dd76b7f27c7f22",
            "2e12a6c34b51455a90bbddab3a5039d1",
            "d26f41e42bdf42ce8994c43a402dda9f",
            "1a15028f25454e7d846e91f9caed7760",
            "37af636b251f4e80ab7edadcb55e754b",
            "efe004e5e2e749dba125948df42ce06e",
            "5cd0da6ef1194cf88d3a477a1a770d2f",
            "e0f60af664e9499c8ada2074c1cf565c",
            "b34b429721f24587a7be06388a768440",
            "75253c170c7c42dbb8e71be74ea35306",
            "4cc5aa213ec44759978020a37aaa0ec6",
            "72fbeede5cb04a2f942b60545e04b749",
            "b1e7bacfb4b84fd1ac2b880959feab71",
            "f7ba978d13e4463388383a4eec12112a",
            "14daa1292699442a9933ccb73174a233",
            "c84cbe72c5dd4621a3b88cdba8d91310",
            "76d2d1e3f07b454d891ef02eab20e78a",
            "603b23fcb765443bb7b6f37becd535b0",
            "0b1dcb59f5314ba9b67af52971b98c74",
            "ad1d6745ba9245c5beac9540f5478362",
            "a5acbe13fad74512a95f4782065d00ff",
            "93fce9d888c74c96b7b319ce1582ef79",
            "62bc4f69d61d4c28b39c8c005833a0b2",
            "0ded4604a6e24304a5e3e3617059c839"
          ]
        },
        "outputId": "c4eadcef-1af5-4cd5-9ed2-a201e6d923eb"
      },
      "source": [
        "#Create and train a CNN model with trigram filters\n",
        "\n",
        "import os\n",
        "os.environ['TF_CPP_MIN_LOG_LEVEL'] = '2' \n",
        "import warnings\n",
        "import sklearn.exceptions\n",
        "warnings.filterwarnings(\"ignore\", category=sklearn.exceptions.UndefinedMetricWarning)\n",
        "warnings.simplefilter(action='ignore', category=FutureWarning)\n",
        "from keras.callbacks import ModelCheckpoint\n",
        "from keras.layers import Dense, Activation, Dropout, Flatten\n",
        "from keras.layers import Embedding, Conv1D, MaxPooling1D, GlobalMaxPooling1D \n",
        "from keras_tqdm import TQDMNotebookCallback\n",
        "from keras.models import Sequential\n",
        "from keras.optimizers import Adam\n",
        "from keras import backend as K \n",
        "\n",
        "\n",
        "\n",
        "FILTERS = 128\n",
        "KERNEL = 3\n",
        "DENSE = 256\n",
        "N_CLASSES = 15\n",
        "\n",
        "# create empty sequential model\n",
        "model = Sequential()\n",
        "# add an embedding layer\n",
        "model.add(Embedding(MAX_WORDS, GLOVE_DIM, weights=[emb_matrix], \n",
        "                    input_length=MAX_SEQUENCE_LENGTH, trainable=False))\n",
        "# add 0.2 dropout probabillity\n",
        "model.add(Dropout(0.2))\n",
        "# add a convolution layer \n",
        "model.add(Conv1D(FILTERS, KERNEL, activation='relu', padding='valid'))\n",
        "# max pooling with pool size=2\n",
        "model.add(MaxPooling1D(2))\n",
        "# add another convolution layer \n",
        "model.add(Conv1D(FILTERS, KERNEL, activation='relu', padding='valid'))\n",
        "# max pooling\n",
        "model.add(GlobalMaxPooling1D())\n",
        "# add 0.2 dropout probabillity\n",
        "model.add(Dropout(0.2))\n",
        "# add dense layer\n",
        "model.add(Dense( DENSE, activation='relu' ))\n",
        "# add final linear layer\n",
        "model.add(Dense( 15, activation='softmax'))\n",
        "\n",
        "print(model.summary())\n",
        "model.compile(loss='categorical_crossentropy',\n",
        "                  optimizer=Adam(lr=0.001),\n",
        "                  metrics=[precision, recall, f1, accuracy])\n",
        "\n",
        "checkpoint = ModelCheckpoint('keras_CNN_model', monitor='val_f1', verbose=1, save_best_only=True, mode='max')\n",
        "callback = tf.keras.callbacks.EarlyStopping(monitor='val_loss', patience=5)\n",
        "\n",
        "model.fit(train_data, ys['train'],\n",
        "              batch_size=32,\n",
        "              epochs=50,\n",
        "              verbose = 0,\n",
        "              callbacks=[checkpoint,TQDMNotebookCallback(),callback],\n",
        "              validation_data=(test_data, ys['test']),\n",
        "              shuffle=True)"
      ],
      "execution_count": 46,
      "outputs": [
        {
          "output_type": "stream",
          "text": [
            "Model: \"sequential_1\"\n",
            "_________________________________________________________________\n",
            "Layer (type)                 Output Shape              Param #   \n",
            "=================================================================\n",
            "embedding_1 (Embedding)      (None, 100, 50)           500000    \n",
            "_________________________________________________________________\n",
            "dropout_1 (Dropout)          (None, 100, 50)           0         \n",
            "_________________________________________________________________\n",
            "conv1d_1 (Conv1D)            (None, 98, 128)           19328     \n",
            "_________________________________________________________________\n",
            "max_pooling1d_1 (MaxPooling1 (None, 49, 128)           0         \n",
            "_________________________________________________________________\n",
            "conv1d_2 (Conv1D)            (None, 47, 128)           49280     \n",
            "_________________________________________________________________\n",
            "global_max_pooling1d_1 (Glob (None, 128)               0         \n",
            "_________________________________________________________________\n",
            "dropout_2 (Dropout)          (None, 128)               0         \n",
            "_________________________________________________________________\n",
            "dense_1 (Dense)              (None, 256)               33024     \n",
            "_________________________________________________________________\n",
            "dense_2 (Dense)              (None, 15)                3855      \n",
            "=================================================================\n",
            "Total params: 605,487\n",
            "Trainable params: 105,487\n",
            "Non-trainable params: 500,000\n",
            "_________________________________________________________________\n",
            "None\n"
          ],
          "name": "stdout"
        },
        {
          "output_type": "display_data",
          "data": {
            "application/vnd.jupyter.widget-view+json": {
              "model_id": "cce397f24bbc4d27ac5af790ac00370e",
              "version_minor": 0,
              "version_major": 2
            },
            "text/plain": [
              "HBox(children=(FloatProgress(value=0.0, description='Training', max=50.0, style=ProgressStyle(description_widt…"
            ]
          },
          "metadata": {
            "tags": []
          }
        },
        {
          "output_type": "display_data",
          "data": {
            "application/vnd.jupyter.widget-view+json": {
              "model_id": "92416c44fd6f4921be2dd364bd43f782",
              "version_minor": 0,
              "version_major": 2
            },
            "text/plain": [
              "HBox(children=(FloatProgress(value=0.0, description='Epoch 0', max=9914.0, style=ProgressStyle(description_wid…"
            ]
          },
          "metadata": {
            "tags": []
          }
        },
        {
          "output_type": "stream",
          "text": [
            "\n",
            "Epoch 00001: val_f1 improved from -inf to 0.38515, saving model to keras_CNN_model\n"
          ],
          "name": "stdout"
        },
        {
          "output_type": "display_data",
          "data": {
            "application/vnd.jupyter.widget-view+json": {
              "model_id": "790c3d064d734fa4bddac101b80c158e",
              "version_minor": 0,
              "version_major": 2
            },
            "text/plain": [
              "HBox(children=(FloatProgress(value=0.0, description='Epoch 1', max=9914.0, style=ProgressStyle(description_wid…"
            ]
          },
          "metadata": {
            "tags": []
          }
        },
        {
          "output_type": "stream",
          "text": [
            "\n",
            "Epoch 00002: val_f1 improved from 0.38515 to 0.47974, saving model to keras_CNN_model\n"
          ],
          "name": "stdout"
        },
        {
          "output_type": "display_data",
          "data": {
            "application/vnd.jupyter.widget-view+json": {
              "model_id": "dc0904941e4849f09b6df2c343812855",
              "version_minor": 0,
              "version_major": 2
            },
            "text/plain": [
              "HBox(children=(FloatProgress(value=0.0, description='Epoch 2', max=9914.0, style=ProgressStyle(description_wid…"
            ]
          },
          "metadata": {
            "tags": []
          }
        },
        {
          "output_type": "stream",
          "text": [
            "\n",
            "Epoch 00003: val_f1 improved from 0.47974 to 0.54301, saving model to keras_CNN_model\n"
          ],
          "name": "stdout"
        },
        {
          "output_type": "display_data",
          "data": {
            "application/vnd.jupyter.widget-view+json": {
              "model_id": "a3024fe3207d4a67bff436e6ebcfb8b2",
              "version_minor": 0,
              "version_major": 2
            },
            "text/plain": [
              "HBox(children=(FloatProgress(value=0.0, description='Epoch 3', max=9914.0, style=ProgressStyle(description_wid…"
            ]
          },
          "metadata": {
            "tags": []
          }
        },
        {
          "output_type": "stream",
          "text": [
            "\n",
            "Epoch 00004: val_f1 improved from 0.54301 to 0.54679, saving model to keras_CNN_model\n"
          ],
          "name": "stdout"
        },
        {
          "output_type": "display_data",
          "data": {
            "application/vnd.jupyter.widget-view+json": {
              "model_id": "edf71b0aa30e43bf87fe84e8bdc7136c",
              "version_minor": 0,
              "version_major": 2
            },
            "text/plain": [
              "HBox(children=(FloatProgress(value=0.0, description='Epoch 4', max=9914.0, style=ProgressStyle(description_wid…"
            ]
          },
          "metadata": {
            "tags": []
          }
        },
        {
          "output_type": "stream",
          "text": [
            "\n",
            "Epoch 00005: val_f1 improved from 0.54679 to 0.55296, saving model to keras_CNN_model\n"
          ],
          "name": "stdout"
        },
        {
          "output_type": "display_data",
          "data": {
            "application/vnd.jupyter.widget-view+json": {
              "model_id": "6c730db16a21476aab78dec097599b29",
              "version_minor": 0,
              "version_major": 2
            },
            "text/plain": [
              "HBox(children=(FloatProgress(value=0.0, description='Epoch 5', max=9914.0, style=ProgressStyle(description_wid…"
            ]
          },
          "metadata": {
            "tags": []
          }
        },
        {
          "output_type": "stream",
          "text": [
            "\n",
            "Epoch 00006: val_f1 improved from 0.55296 to 0.58274, saving model to keras_CNN_model\n"
          ],
          "name": "stdout"
        },
        {
          "output_type": "display_data",
          "data": {
            "application/vnd.jupyter.widget-view+json": {
              "model_id": "d8b8de2854284220a65ccb59c01c0e57",
              "version_minor": 0,
              "version_major": 2
            },
            "text/plain": [
              "HBox(children=(FloatProgress(value=0.0, description='Epoch 6', max=9914.0, style=ProgressStyle(description_wid…"
            ]
          },
          "metadata": {
            "tags": []
          }
        },
        {
          "output_type": "stream",
          "text": [
            "\n",
            "Epoch 00007: val_f1 improved from 0.58274 to 0.60338, saving model to keras_CNN_model\n"
          ],
          "name": "stdout"
        },
        {
          "output_type": "display_data",
          "data": {
            "application/vnd.jupyter.widget-view+json": {
              "model_id": "56d60869fd6a4d5fa88e3c0c83266500",
              "version_minor": 0,
              "version_major": 2
            },
            "text/plain": [
              "HBox(children=(FloatProgress(value=0.0, description='Epoch 7', max=9914.0, style=ProgressStyle(description_wid…"
            ]
          },
          "metadata": {
            "tags": []
          }
        },
        {
          "output_type": "stream",
          "text": [
            "\n",
            "Epoch 00008: val_f1 did not improve from 0.60338\n"
          ],
          "name": "stdout"
        },
        {
          "output_type": "display_data",
          "data": {
            "application/vnd.jupyter.widget-view+json": {
              "model_id": "b045ca527a21451bb7aefb376aa67054",
              "version_minor": 0,
              "version_major": 2
            },
            "text/plain": [
              "HBox(children=(FloatProgress(value=0.0, description='Epoch 8', max=9914.0, style=ProgressStyle(description_wid…"
            ]
          },
          "metadata": {
            "tags": []
          }
        },
        {
          "output_type": "stream",
          "text": [
            "\n",
            "Epoch 00009: val_f1 did not improve from 0.60338\n"
          ],
          "name": "stdout"
        },
        {
          "output_type": "display_data",
          "data": {
            "application/vnd.jupyter.widget-view+json": {
              "model_id": "da8bc9514c8449a7b8dd76b7f27c7f22",
              "version_minor": 0,
              "version_major": 2
            },
            "text/plain": [
              "HBox(children=(FloatProgress(value=0.0, description='Epoch 9', max=9914.0, style=ProgressStyle(description_wid…"
            ]
          },
          "metadata": {
            "tags": []
          }
        },
        {
          "output_type": "stream",
          "text": [
            "\n",
            "Epoch 00010: val_f1 improved from 0.60338 to 0.61473, saving model to keras_CNN_model\n"
          ],
          "name": "stdout"
        },
        {
          "output_type": "display_data",
          "data": {
            "application/vnd.jupyter.widget-view+json": {
              "model_id": "b34b429721f24587a7be06388a768440",
              "version_minor": 0,
              "version_major": 2
            },
            "text/plain": [
              "HBox(children=(FloatProgress(value=0.0, description='Epoch 10', max=9914.0, style=ProgressStyle(description_wi…"
            ]
          },
          "metadata": {
            "tags": []
          }
        },
        {
          "output_type": "stream",
          "text": [
            "\n",
            "Epoch 00011: val_f1 did not improve from 0.61473\n"
          ],
          "name": "stdout"
        },
        {
          "output_type": "display_data",
          "data": {
            "application/vnd.jupyter.widget-view+json": {
              "model_id": "76d2d1e3f07b454d891ef02eab20e78a",
              "version_minor": 0,
              "version_major": 2
            },
            "text/plain": [
              "HBox(children=(FloatProgress(value=0.0, description='Epoch 11', max=9914.0, style=ProgressStyle(description_wi…"
            ]
          },
          "metadata": {
            "tags": []
          }
        },
        {
          "output_type": "stream",
          "text": [
            "\n",
            "Epoch 00012: val_f1 improved from 0.61473 to 0.62977, saving model to keras_CNN_model\n",
            "\n"
          ],
          "name": "stdout"
        },
        {
          "output_type": "execute_result",
          "data": {
            "text/plain": [
              "<keras.callbacks.callbacks.History at 0x7f60ef928908>"
            ]
          },
          "metadata": {
            "tags": []
          },
          "execution_count": 46
        }
      ]
    },
    {
      "cell_type": "code",
      "metadata": {
        "id": "CwsGmAorMqPG",
        "colab_type": "code",
        "colab": {}
      },
      "source": [
        "y_pred = model.predict(test_final_data)\n",
        "\n",
        "with open('cnn_1d.csv', 'w') as csvfile:\n",
        "    writer = csv.writer(csvfile, delimiter=',')\n",
        "    lst = ['id']\n",
        "    for i in range(15):\n",
        "        lst.append('class_'+str(i))\n",
        "    writer.writerow(lst)\n",
        "    for i,idx in enumerate(test_index):\n",
        "        lst = y_pred[i,:].tolist()\n",
        "        lst.insert(0, idx)\n",
        "        writer.writerow(lst)"
      ],
      "execution_count": null,
      "outputs": []
    },
    {
      "cell_type": "markdown",
      "metadata": {
        "id": "nIHj_j6iMMpC",
        "colab_type": "text"
      },
      "source": [
        "### SVD"
      ]
    },
    {
      "cell_type": "code",
      "metadata": {
        "id": "JJo01E3tMQa3",
        "colab_type": "code",
        "colab": {
          "base_uri": "https://localhost:8080/",
          "height": 238
        },
        "outputId": "324f7269-1090-4eb3-e9ec-000d68aa813e"
      },
      "source": [
        "from sklearn.decomposition import TruncatedSVD\n",
        "svd = TruncatedSVD(n_components=25,n_iter=7, random_state=42)\n",
        "svd.fit(train_data)\n",
        "train_svd = svd.transform(train_data)\n",
        "print(train_svd)"
      ],
      "execution_count": 47,
      "outputs": [
        {
          "output_type": "stream",
          "text": [
            "[[ 1174.3255956    565.48792307  -580.3069264  ...   -22.99566022\n",
            "     34.13083742    38.49463249]\n",
            " [ 4537.61396737   493.53853787 -1422.44287727 ...  -187.4424768\n",
            "   -188.35734401  -211.22957472]\n",
            " [ 4023.01667105   842.3262946  -2146.20102344 ...   -78.60395416\n",
            "    -44.36557171   -62.59172676]\n",
            " ...\n",
            " [ 3117.73405421  3418.24218915   413.35382348 ...    85.73087086\n",
            "    -42.91545737   -56.41492597]\n",
            " [ 6292.26477857 -3586.65696723  2603.75302736 ...  2281.54956345\n",
            "   1491.03576189   423.40452756]\n",
            " [ 5725.86779009 -1464.91318481  2065.95622946 ...   -55.01244206\n",
            "   -336.04395537  -245.67418157]]\n"
          ],
          "name": "stdout"
        }
      ]
    },
    {
      "cell_type": "code",
      "metadata": {
        "id": "RCjWReWmMXHR",
        "colab_type": "code",
        "colab": {
          "base_uri": "https://localhost:8080/",
          "height": 34
        },
        "outputId": "d70c5078-aff4-48c5-9d7e-f9e35e68bb3b"
      },
      "source": [
        "var_explained = svd.explained_variance_ratio_.sum()\n",
        "var_explained \n"
      ],
      "execution_count": 48,
      "outputs": [
        {
          "output_type": "execute_result",
          "data": {
            "text/plain": [
              "0.9302808135774715"
            ]
          },
          "metadata": {
            "tags": []
          },
          "execution_count": 48
        }
      ]
    },
    {
      "cell_type": "code",
      "metadata": {
        "id": "nJc83jUJMZ3w",
        "colab_type": "code",
        "colab": {
          "base_uri": "https://localhost:8080/",
          "height": 238
        },
        "outputId": "dfdfeb8b-19eb-48a8-a398-984a86837f23"
      },
      "source": [
        "\n",
        "from sklearn.decomposition import TruncatedSVD\n",
        "svd = TruncatedSVD(n_components=25,n_iter=7, random_state=42)\n",
        "svd.fit(test_data)\n",
        "test_svd = svd.transform(test_data)\n",
        "print(test_svd)"
      ],
      "execution_count": 49,
      "outputs": [
        {
          "output_type": "stream",
          "text": [
            "[[ 2211.28384347 -1308.62753545   184.47639276 ... -1317.64396143\n",
            "  -4704.16688162  -858.36535188]\n",
            " [ 7400.76208606  3650.17547531 -4222.35618714 ...  -182.4211498\n",
            "    164.7438696   -149.66963055]\n",
            " [ 3829.96832183  1276.70701064 -1553.82207037 ...   614.45798759\n",
            "   -139.41396657    27.90544625]\n",
            " ...\n",
            " [ 7326.04231924 -2366.97785649 -2951.9145602  ...   178.45000182\n",
            "   -297.22361518  -577.30277348]\n",
            " [ 6790.55651617  4033.48269487  4431.67120903 ... -1855.57130596\n",
            "   -769.8058856   -137.00324806]\n",
            " [ 1860.3274243    278.12108085   221.89952226 ...   115.08927121\n",
            "     72.9377113    -10.65895456]]\n"
          ],
          "name": "stdout"
        }
      ]
    },
    {
      "cell_type": "code",
      "metadata": {
        "id": "sFEw8oXpMbcg",
        "colab_type": "code",
        "colab": {
          "base_uri": "https://localhost:8080/",
          "height": 238
        },
        "outputId": "1ba1f7b9-15e8-4d93-bfac-ad26057c4e4c"
      },
      "source": [
        "from sklearn.decomposition import TruncatedSVD\n",
        "svd = TruncatedSVD(n_components=25,n_iter=7, random_state=42)\n",
        "svd.fit(test_final_data)\n",
        "test_final_svd = svd.transform(test_final_data)\n",
        "print(test_final_svd)"
      ],
      "execution_count": 50,
      "outputs": [
        {
          "output_type": "stream",
          "text": [
            "[[ 5946.3098353   1327.73800312  2853.08850722 ...  -570.2395607\n",
            "    158.15741642  -434.69830469]\n",
            " [ 2444.90479385  2072.5709015    631.30323853 ...  3839.66872612\n",
            "  -2680.50421689   697.67438419]\n",
            " [ 8139.39480669  1072.09604419   932.16730339 ...   226.29677311\n",
            "   -404.64220939   956.46447813]\n",
            " ...\n",
            " [ 1890.82750042   810.96553183   788.2673383  ...  2356.01116708\n",
            "  -1364.20911668   428.36385559]\n",
            " [ 1572.48251749   496.84857844 -1355.96506801 ...   -44.59947048\n",
            "    136.45504852   -52.49904365]\n",
            " [ 1241.7404868    526.33556362   -87.38087458 ...  -200.55895033\n",
            "     51.34510934   -43.0954279 ]]\n"
          ],
          "name": "stdout"
        }
      ]
    },
    {
      "cell_type": "code",
      "metadata": {
        "id": "MbyqqHbiM9_r",
        "colab_type": "code",
        "colab": {}
      },
      "source": [
        "from sklearn.preprocessing import Normalizer"
      ],
      "execution_count": 51,
      "outputs": []
    },
    {
      "cell_type": "code",
      "metadata": {
        "id": "UrcMLvnQMeHz",
        "colab_type": "code",
        "colab": {}
      },
      "source": [
        "# normalize the data attributes\n",
        "normalized_train_svd = Normalizer().fit_transform(train_svd)\n",
        "normalized_test_svd =  Normalizer().fit_transform(test_svd)\n",
        "normalized_test_final_svd =  Normalizer().fit_transform(test_final_svd)"
      ],
      "execution_count": 52,
      "outputs": []
    },
    {
      "cell_type": "code",
      "metadata": {
        "id": "IECTKsh3Mg6a",
        "colab_type": "code",
        "colab": {
          "base_uri": "https://localhost:8080/",
          "height": 746,
          "referenced_widgets": [
            "708064143f294f2a9cae3c2d171687d4",
            "bcdc68ece25f4bd5bf3a128e478e6902",
            "b4ff60f6726e4bc1bad6a3e82e241162",
            "17424525e2e248238493217d50232934",
            "418d12f375f74e0a81792adfe3076e05",
            "3ce1e185f4cd465d8e7009561a86886c",
            "8177a2a8a7924364acfd80a0cbb550dd",
            "6e2da448d90e431197c7628c35a8c7ec",
            "ccb6d0c57caf408f8952b378c920d650",
            "32dccb8c90574b6cbf718e312e0114a9",
            "d65055bf770f4168b743fd573c956fed",
            "66675756bca44147944af5073d301d94",
            "4ab55d44a8464982849577c5b2126f73",
            "1f46f2a3c0284ed7867072d31cb1fc58",
            "2393954e644846c6b157bf39710e8828",
            "33007e621ad44694b249de1d2900637d",
            "10446464b3324749b057044c21f28bdc",
            "c8cab2e64c944604ba5b8deba569b4f3",
            "2518813305d9479e89b28695a0c239b1",
            "144f11a1c63140b991b7fd20718efea9",
            "f5bf58f4789a4c0d90243b80d384a23c",
            "06a4efabaf8f4144ab53a91b6b7d0ad1",
            "df966ca91e9c4779bf0a7478c339c830",
            "a454b5f48f6e4a9095bde01556b3ea00",
            "0c1f09298e8842fca7a01278f555646b",
            "67357ec6fea046cdb75ae99afb7a3feb",
            "0de5c0c0287b40479a075a39bdf6d4c5",
            "f764e17155bd4c05bb150ae99e249f56",
            "edb58ac61f4942a1b21ddfe5315878c4",
            "5c935bfc54144089b891e0aa88590bbc",
            "b3ea44df749740028e2dda343132a958",
            "e0bdd3f53dda46b0a8527a1ea559467a",
            "f45660c8f4e3482294acd4db010aaf36",
            "efba514c263c41c6997f75224591349f",
            "e3ae89c5675a496abefdd027583a9be1",
            "714256f752be4ac39f8c1e5403cbc119",
            "2cf3155983c640d69189e9ffdd8775c3",
            "ab5cfe6476b9412196d5f72fa83ba0cc",
            "f6a891ab9946485f817d47be581babe4",
            "720b5abf58b149d594dfdf5e86ee07bf",
            "3fad0773098347b0aefdd9972f303b63",
            "eb15b2e4f9a54c6e8870f0eea842c2c1",
            "c0e025d69aaf4f2e819cb68808cdd812",
            "1d686ff7deb14c63beafe4f9d9349f30",
            "5d357a9deefe42778d9623edccb28b72",
            "1206c5f7b7fc41828dbf4296dfb96f58",
            "ad8fb65432f849aab2c1edafec25fcfe",
            "14a139fc6cab40b494789dab7abf6a40",
            "655fd81048cc4f9f884427d9f038ad2f",
            "0900f9f9c1de4dbc8c5b4c33fa375899",
            "e40c2239495848adb62545ba503ec03c",
            "3da7c46dd66147348f82a6798ab04e17",
            "40aa28acebde4376b8e0f454b98cfcbb",
            "3ac0c6db8fed483f8fe459c10d1f4b10",
            "38822ec9c3334051b7a5acef78cae53f",
            "8291786cef3f4deeb0fb83d99ec0e33c"
          ]
        },
        "outputId": "922c13a5-4497-4cde-fee6-a77e8c4d2ed3"
      },
      "source": [
        "#Create and train a CNN model with trigram filters\n",
        "\n",
        "import os\n",
        "os.environ['TF_CPP_MIN_LOG_LEVEL'] = '2' \n",
        "import warnings\n",
        "import sklearn.exceptions\n",
        "warnings.filterwarnings(\"ignore\", category=sklearn.exceptions.UndefinedMetricWarning)\n",
        "warnings.simplefilter(action='ignore', category=FutureWarning)\n",
        "from keras.callbacks import ModelCheckpoint\n",
        "from keras.layers import Dense, Activation, Dropout, Flatten\n",
        "from keras.layers import Embedding, Conv1D, MaxPooling1D, GlobalMaxPooling1D \n",
        "from keras_tqdm import TQDMNotebookCallback\n",
        "from keras.models import Sequential\n",
        "from keras.optimizers import Adam\n",
        "from keras import backend as K \n",
        "\n",
        "\n",
        "\n",
        "FILTERS = 128\n",
        "KERNEL = 3\n",
        "DENSE = 256\n",
        "N_CLASSES = 15\n",
        "\n",
        "# create empty sequential model\n",
        "model = Sequential()\n",
        "# add an embedding layer\n",
        "model.add(Embedding(MAX_WORDS, GLOVE_DIM, weights=[emb_matrix], \n",
        "                    input_length=25, trainable=False))\n",
        "# add 0.2 dropout probabillity\n",
        "model.add(Dropout(0.2))\n",
        "# add a convolution layer \n",
        "model.add(Conv1D(FILTERS, KERNEL, activation='relu', padding='valid'))\n",
        "# max pooling with pool size=2\n",
        "model.add(MaxPooling1D(2))\n",
        "# add another convolution layer \n",
        "model.add(Conv1D(FILTERS, KERNEL, activation='relu', padding='valid'))\n",
        "# max pooling\n",
        "model.add(GlobalMaxPooling1D())\n",
        "# add 0.2 dropout probabillity\n",
        "model.add(Dropout(0.2))\n",
        "# add dense layer\n",
        "model.add(Dense( DENSE, activation='relu' ))\n",
        "# add final linear layer\n",
        "model.add(Dense( 15, activation='softmax'))\n",
        "\n",
        "print(model.summary())\n",
        "model.compile(loss='categorical_crossentropy',\n",
        "                  optimizer=Adam(lr=0.001),\n",
        "                  metrics=[precision, recall, f1, accuracy])\n",
        "\n",
        "checkpoint = ModelCheckpoint('keras_CNN_model', monitor='val_f1', verbose=1, save_best_only=True, mode='max')\n",
        "callback = tf.keras.callbacks.EarlyStopping(monitor='val_accuracy', patience=5)\n",
        "\n",
        "model.fit(normalized_train_svd, ys['train'],\n",
        "              batch_size=32,\n",
        "              epochs=10,\n",
        "              verbose = 0,\n",
        "              callbacks=[checkpoint,TQDMNotebookCallback(),callback],\n",
        "              validation_data=(normalized_test_svd, ys['test']),\n",
        "              shuffle=True)"
      ],
      "execution_count": 53,
      "outputs": [
        {
          "output_type": "stream",
          "text": [
            "Model: \"sequential_2\"\n",
            "_________________________________________________________________\n",
            "Layer (type)                 Output Shape              Param #   \n",
            "=================================================================\n",
            "embedding_2 (Embedding)      (None, 25, 50)            500000    \n",
            "_________________________________________________________________\n",
            "dropout_3 (Dropout)          (None, 25, 50)            0         \n",
            "_________________________________________________________________\n",
            "conv1d_3 (Conv1D)            (None, 23, 128)           19328     \n",
            "_________________________________________________________________\n",
            "max_pooling1d_2 (MaxPooling1 (None, 11, 128)           0         \n",
            "_________________________________________________________________\n",
            "conv1d_4 (Conv1D)            (None, 9, 128)            49280     \n",
            "_________________________________________________________________\n",
            "global_max_pooling1d_2 (Glob (None, 128)               0         \n",
            "_________________________________________________________________\n",
            "dropout_4 (Dropout)          (None, 128)               0         \n",
            "_________________________________________________________________\n",
            "dense_3 (Dense)              (None, 256)               33024     \n",
            "_________________________________________________________________\n",
            "dense_4 (Dense)              (None, 15)                3855      \n",
            "=================================================================\n",
            "Total params: 605,487\n",
            "Trainable params: 105,487\n",
            "Non-trainable params: 500,000\n",
            "_________________________________________________________________\n",
            "None\n"
          ],
          "name": "stdout"
        },
        {
          "output_type": "display_data",
          "data": {
            "application/vnd.jupyter.widget-view+json": {
              "model_id": "708064143f294f2a9cae3c2d171687d4",
              "version_minor": 0,
              "version_major": 2
            },
            "text/plain": [
              "HBox(children=(FloatProgress(value=0.0, description='Training', max=10.0, style=ProgressStyle(description_widt…"
            ]
          },
          "metadata": {
            "tags": []
          }
        },
        {
          "output_type": "display_data",
          "data": {
            "application/vnd.jupyter.widget-view+json": {
              "model_id": "ccb6d0c57caf408f8952b378c920d650",
              "version_minor": 0,
              "version_major": 2
            },
            "text/plain": [
              "HBox(children=(FloatProgress(value=0.0, description='Epoch 0', max=9914.0, style=ProgressStyle(description_wid…"
            ]
          },
          "metadata": {
            "tags": []
          }
        },
        {
          "output_type": "stream",
          "text": [
            "\n",
            "Epoch 00001: val_f1 did not improve from -inf\n"
          ],
          "name": "stdout"
        },
        {
          "output_type": "display_data",
          "data": {
            "application/vnd.jupyter.widget-view+json": {
              "model_id": "10446464b3324749b057044c21f28bdc",
              "version_minor": 0,
              "version_major": 2
            },
            "text/plain": [
              "HBox(children=(FloatProgress(value=0.0, description='Epoch 1', max=9914.0, style=ProgressStyle(description_wid…"
            ]
          },
          "metadata": {
            "tags": []
          }
        },
        {
          "output_type": "stream",
          "text": [
            "\n",
            "Epoch 00002: val_f1 did not improve from -inf\n"
          ],
          "name": "stdout"
        },
        {
          "output_type": "display_data",
          "data": {
            "application/vnd.jupyter.widget-view+json": {
              "model_id": "0c1f09298e8842fca7a01278f555646b",
              "version_minor": 0,
              "version_major": 2
            },
            "text/plain": [
              "HBox(children=(FloatProgress(value=0.0, description='Epoch 2', max=9914.0, style=ProgressStyle(description_wid…"
            ]
          },
          "metadata": {
            "tags": []
          }
        },
        {
          "output_type": "stream",
          "text": [
            "\n",
            "Epoch 00003: val_f1 did not improve from -inf\n"
          ],
          "name": "stdout"
        },
        {
          "output_type": "display_data",
          "data": {
            "application/vnd.jupyter.widget-view+json": {
              "model_id": "f45660c8f4e3482294acd4db010aaf36",
              "version_minor": 0,
              "version_major": 2
            },
            "text/plain": [
              "HBox(children=(FloatProgress(value=0.0, description='Epoch 3', max=9914.0, style=ProgressStyle(description_wid…"
            ]
          },
          "metadata": {
            "tags": []
          }
        },
        {
          "output_type": "stream",
          "text": [
            "\n",
            "Epoch 00004: val_f1 did not improve from -inf\n"
          ],
          "name": "stdout"
        },
        {
          "output_type": "display_data",
          "data": {
            "application/vnd.jupyter.widget-view+json": {
              "model_id": "3fad0773098347b0aefdd9972f303b63",
              "version_minor": 0,
              "version_major": 2
            },
            "text/plain": [
              "HBox(children=(FloatProgress(value=0.0, description='Epoch 4', max=9914.0, style=ProgressStyle(description_wid…"
            ]
          },
          "metadata": {
            "tags": []
          }
        },
        {
          "output_type": "stream",
          "text": [
            "\n",
            "Epoch 00005: val_f1 did not improve from -inf\n"
          ],
          "name": "stdout"
        },
        {
          "output_type": "display_data",
          "data": {
            "application/vnd.jupyter.widget-view+json": {
              "model_id": "655fd81048cc4f9f884427d9f038ad2f",
              "version_minor": 0,
              "version_major": 2
            },
            "text/plain": [
              "HBox(children=(FloatProgress(value=0.0, description='Epoch 5', max=9914.0, style=ProgressStyle(description_wid…"
            ]
          },
          "metadata": {
            "tags": []
          }
        },
        {
          "output_type": "stream",
          "text": [
            "\n",
            "Epoch 00006: val_f1 did not improve from -inf\n",
            "\n"
          ],
          "name": "stdout"
        },
        {
          "output_type": "execute_result",
          "data": {
            "text/plain": [
              "<keras.callbacks.callbacks.History at 0x7f60ed4c8dd8>"
            ]
          },
          "metadata": {
            "tags": []
          },
          "execution_count": 53
        }
      ]
    },
    {
      "cell_type": "code",
      "metadata": {
        "id": "BpElGrd-Mv4d",
        "colab_type": "code",
        "colab": {}
      },
      "source": [
        ""
      ],
      "execution_count": null,
      "outputs": []
    }
  ]
}